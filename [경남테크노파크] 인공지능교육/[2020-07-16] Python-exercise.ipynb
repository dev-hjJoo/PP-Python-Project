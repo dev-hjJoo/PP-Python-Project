{
 "cells": [
  {
   "cell_type": "markdown",
   "metadata": {},
   "source": [
    "### 점프 투 파이썬 2장 연습문제 풀어보기\n",
    "* page 112, 2번\n",
    "* page 113, 4번/6번\n",
    "* page 114, 7번\n",
    "* page 115, 10번/11번"
   ]
  },
  {
   "cell_type": "code",
   "execution_count": null,
   "metadata": {},
   "outputs": [],
   "source": [
    "# 2번: 자연수 13이 홀수인지 짝수인지 판별하기\n",
    "if 13%2 == 0:\n",
    "    print('짝수')\n",
    "else:\n",
    "    print('홀수')"
   ]
  },
  {
   "cell_type": "code",
   "execution_count": null,
   "metadata": {},
   "outputs": [],
   "source": [
    "# 4번: 주민등록번호를 입력받아 성별을 나타내는 숫자를 출력하기\n",
    "pin = input()\n",
    "print(pin[7])"
   ]
  },
  {
   "cell_type": "code",
   "execution_count": null,
   "metadata": {},
   "outputs": [],
   "source": [
    "# 6번: [1, 3, 5, 4, 2]리스트를 [5, 4, 3, 2, 1]로 만들기\n",
    "value = [1, 3, 5, 4, 2]\n",
    "value = sorted(value, reverse=1) # reverse=1 -> 역으로 정렬\n",
    "print(value)"
   ]
  },
  {
   "cell_type": "code",
   "execution_count": null,
   "metadata": {},
   "outputs": [],
   "source": [
    "# 7번: 리스트의 각 문자열을 묶어 문자열로 만들고 출력하기\n",
    "a = ['Life', 'is', 'too', 'short']\n",
    "result = a[0]+\" \"+a[1]+\" \"+a[2]+\" \"+a[3]\n",
    "print(result)"
   ]
  },
  {
   "cell_type": "code",
   "execution_count": null,
   "metadata": {},
   "outputs": [],
   "source": [
    "# 10번: 딕셔너리 a에서 'B'에 해당하는 값 추출\n",
    "a = {'A':90, 'B':80, 'C':70}\n",
    "result = a['B']\n",
    "print(a)\n",
    "print(result)"
   ]
  },
  {
   "cell_type": "code",
   "execution_count": null,
   "metadata": {},
   "outputs": [],
   "source": [
    "# 11번: a 리스트에서 중복 숫자를 제거하기\n",
    "a = [1, 1, 1, 2, 2, 3, 3, 3, 4, 4, 5]\n",
    "aSet = set(a)\n",
    "b = list(aSet)\n",
    "print(b)"
   ]
  },
  {
   "cell_type": "markdown",
   "metadata": {},
   "source": [
    "### 3장: 조건(제어)문"
   ]
  },
  {
   "cell_type": "code",
   "execution_count": null,
   "metadata": {},
   "outputs": [],
   "source": [
    "# LAB: 수하물 비용 계산\n",
    "money = int(input(\"구입 금액을 입력하시오: \"))\n",
    "rate = 0.05\n",
    "discount = 0\n",
    "\n",
    "if money > 100000:\n",
    "    discount=money*rate\n",
    "\n",
    "print(\"할인 금액은\",discount,\"입니다.\")\n",
    "print(\"지불 금액은\",money-discount,\"입니다.\")"
   ]
  },
  {
   "cell_type": "markdown",
   "metadata": {},
   "source": [
    "## REPORT: 아래 세 문제 풀기\n",
    "* 1번 문제: n을 입력받아 1부터 n까지 합 구하기 (for와 while) 각각 사용해보기)\n",
    "* 2번 문제: 계좌번호를 입력받아 '-' 없애기\n",
    "* 3번 문제: 마름모 모양 찍기"
   ]
  },
  {
   "cell_type": "code",
   "execution_count": 1,
   "metadata": {},
   "outputs": [
    {
     "name": "stdout",
     "output_type": "stream",
     "text": [
      "5\n",
      "15\n"
     ]
    }
   ],
   "source": [
    "# 1번 문제: n을 입력받아 1부터 n까지 합 구하기 (1-1: for)\n",
    "n = int(input())\n",
    "sum = 0\n",
    "for i in range(1, n+1): # 두 번째 인자보다 작은 수까지 돌기 때문에 n+1로 지정\n",
    "    sum += i\n",
    "print(sum)"
   ]
  },
  {
   "cell_type": "code",
   "execution_count": 2,
   "metadata": {},
   "outputs": [
    {
     "name": "stdout",
     "output_type": "stream",
     "text": [
      "10\n",
      "55\n"
     ]
    }
   ],
   "source": [
    "# 1번 문제: n을 입력받아 1부터 n까지 합 구하기 (1-2: while)\n",
    "n = int(input())\n",
    "cnt = 1\n",
    "sum = 0\n",
    "while cnt <= n:\n",
    "    sum += cnt\n",
    "    cnt += 1\n",
    "print(sum)"
   ]
  },
  {
   "cell_type": "code",
   "execution_count": 4,
   "metadata": {},
   "outputs": [
    {
     "name": "stdout",
     "output_type": "stream",
     "text": [
      "123-445566-7890\n",
      "1234455667890\n"
     ]
    }
   ],
   "source": [
    "# 2번 문제: 계좌번호를 입력받아 '-' 없애기\n",
    "string = input()\n",
    "new_string = \"\"\n",
    "for ch in string:\n",
    "    if ch != '-': \n",
    "        new_string += ch\n",
    "print(new_string)"
   ]
  },
  {
   "cell_type": "code",
   "execution_count": 6,
   "metadata": {},
   "outputs": [
    {
     "name": "stdout",
     "output_type": "stream",
     "text": [
      "   *\n",
      " ***\n",
      "*****\n",
      " ***\n",
      "   *\n"
     ]
    }
   ],
   "source": [
    "# 3번 문제: 마름모 모양 찍기\n",
    "space = [3, 1, -0, 1, 3]\n",
    "star = [1, 3, 5, 3, 1]\n",
    "for i in range(5):\n",
    "    for j in range(space[i]): # 공백 출력\n",
    "        print(\" \", end=\"\")\n",
    "    for j in range(star[i]):\n",
    "        print(\"*\", end=\"\")\n",
    "    print()"
   ]
  },
  {
   "cell_type": "code",
   "execution_count": null,
   "metadata": {},
   "outputs": [],
   "source": []
  }
 ],
 "metadata": {
  "kernelspec": {
   "display_name": "Python 3",
   "language": "python",
   "name": "python3"
  },
  "language_info": {
   "codemirror_mode": {
    "name": "ipython",
    "version": 3
   },
   "file_extension": ".py",
   "mimetype": "text/x-python",
   "name": "python",
   "nbconvert_exporter": "python",
   "pygments_lexer": "ipython3",
   "version": "3.7.7"
  }
 },
 "nbformat": 4,
 "nbformat_minor": 4
}
