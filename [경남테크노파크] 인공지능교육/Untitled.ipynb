{
 "cells": [
  {
   "cell_type": "code",
   "execution_count": null,
   "metadata": {},
   "outputs": [],
   "source": [
    "# 추론기반(기호주의) vs 데이터기반(연결주의-Deep Learning)\n",
    "\"\"\"\n",
    "예) 도서 추천\n",
    "* 추론 기반 추천: 분류(장르) 중심 추천\n",
    "* 데이터 기반 추천: 구매자 구매 이력과 연관성 분석 통한 추천\n",
    "\"\"\"\n",
    "# 과거에는 추론 기반이 AI 접근법의 대세"
   ]
  }
 ],
 "metadata": {
  "kernelspec": {
   "display_name": "Python 3",
   "language": "python",
   "name": "python3"
  },
  "language_info": {
   "codemirror_mode": {
    "name": "ipython",
    "version": 3
   },
   "file_extension": ".py",
   "mimetype": "text/x-python",
   "name": "python",
   "nbconvert_exporter": "python",
   "pygments_lexer": "ipython3",
   "version": "3.7.7"
  }
 },
 "nbformat": 4,
 "nbformat_minor": 4
}
