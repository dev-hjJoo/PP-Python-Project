{
 "cells": [
  {
   "cell_type": "code",
   "execution_count": 3,
   "metadata": {},
   "outputs": [
    {
     "name": "stdout",
     "output_type": "stream",
     "text": [
      "There is a apple\n"
     ]
    }
   ],
   "source": [
    "# 알아보기 쉬운 파이썬 문법\n",
    "if 'apple' in ['apple', 'banana', 'melon', 'orange']:\n",
    "    print(\"There is a apple\")"
   ]
  },
  {
   "cell_type": "code",
   "execution_count": 4,
   "metadata": {},
   "outputs": [
    {
     "name": "stdout",
     "output_type": "stream",
     "text": [
      "안녕하세요? 여러분\n",
      "저는 파이썬을 무척 좋아합니다.\n",
      "9*8은 72 입니다.\n",
      "안녕히 계세요.\n"
     ]
    }
   ],
   "source": [
    "# print() 함수 실습\n",
    "print('안녕하세요? 여러분')\n",
    "print('저는 파이썬을 무척 좋아합니다.')\n",
    "print('9*8은',9*8,\"입니다.\")\n",
    "print('안녕히 계세요.')"
   ]
  },
  {
   "cell_type": "code",
   "execution_count": 1,
   "metadata": {},
   "outputs": [],
   "source": [
    "# 터틀 그래픽 실습\n",
    "import turtle"
   ]
  },
  {
   "cell_type": "code",
   "execution_count": null,
   "metadata": {},
   "outputs": [],
   "source": [
    "t = turtle.Turtle()\n",
    "t.pencolor(\"orange\")\n",
    "for _ in range(5):\n",
    "    t.circle(30)\n",
    "    t.right(72)\n",
    "t.right(90)\n",
    "t.pencolor('green')\n",
    "t.forward(100)\n",
    "turtle.done()"
   ]
  },
  {
   "cell_type": "code",
   "execution_count": 2,
   "metadata": {},
   "outputs": [],
   "source": [
    "# 터틀 그래픽: 별 그리기\n",
    "t2 = turtle.Turtle()\n",
    "for i in range(5):\n",
    "    t2.forward(50)\n",
    "    t2.right(144)\n",
    "turtle.done()"
   ]
  },
  {
   "cell_type": "code",
   "execution_count": 6,
   "metadata": {},
   "outputs": [
    {
     "name": "stdout",
     "output_type": "stream",
     "text": [
      "숫자 게임에 오신 것을 환영합니다!\n",
      "1부터 100 사이의 숫자를 추측해보세요: 50\n",
      "틀렸습니다. 입력한 답보다 더 작은 값입니다.\n",
      "1부터 100 사이의 숫자를 추측해보세요: 25\n",
      "틀렸습니다. 입력한 답보다 더 큰 값입니다.\n",
      "1부터 100 사이의 숫자를 추측해보세요: 40\n",
      "틀렸습니다. 입력한 답보다 더 큰 값입니다.\n",
      "1부터 100 사이의 숫자를 추측해보세요: 42\n",
      "틀렸습니다. 입력한 답보다 더 큰 값입니다.\n",
      "1부터 100 사이의 숫자를 추측해보세요: 45\n",
      "맞았습니다!\n"
     ]
    }
   ],
   "source": [
    "# 숫자 추측 게임\n",
    "import random\n",
    "print(\"숫자 게임에 오신 것을 환영합니다!\")\n",
    "val = int(input(\"1부터 100 사이의 숫자를 추측해보세요: \"))\n",
    "answer = random.randint(1, 101)\n",
    "while answer!=val:\n",
    "    print('틀렸습니다.',end=' ')\n",
    "    if answer<val:\n",
    "        print('입력한 답보다 더 작은 값입니다.')\n",
    "    else:\n",
    "        print('입력한 답보다 더 큰 값입니다.')\n",
    "    val = int(input(\"1부터 100 사이의 숫자를 추측해보세요: \"))\n",
    "print('맞았습니다!')"
   ]
  },
  {
   "cell_type": "code",
   "execution_count": null,
   "metadata": {},
   "outputs": [],
   "source": []
  }
 ],
 "metadata": {
  "kernelspec": {
   "display_name": "Python 3",
   "language": "python",
   "name": "python3"
  },
  "language_info": {
   "codemirror_mode": {
    "name": "ipython",
    "version": 3
   },
   "file_extension": ".py",
   "mimetype": "text/x-python",
   "name": "python",
   "nbconvert_exporter": "python",
   "pygments_lexer": "ipython3",
   "version": "3.7.7"
  }
 },
 "nbformat": 4,
 "nbformat_minor": 4
}
