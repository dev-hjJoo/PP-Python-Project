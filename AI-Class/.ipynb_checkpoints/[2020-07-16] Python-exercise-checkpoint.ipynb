{
 "cells": [
  {
   "cell_type": "markdown",
   "metadata": {},
   "source": [
    "# 기호주의 vs 연결주의"
   ]
  },
  {
   "cell_type": "markdown",
   "metadata": {},
   "source": [
    "### 연결주의의 전신 딥러닝, 할아버지(?) 신경망\n",
    "*  역전파 알고리즘 BP(Backpropagation)에 대해서 알아둘 것!\n",
    "> * 최초의 신경망: McCulloh and Pitts\n",
    "> * 1969년 Minsky에 의해 단층 퍼셉트론의 한계 지적, 이후 신경망 연구의 암흑기\n",
    "> * 1980년대 역전파 이후 급격히 발전"
   ]
  },
  {
   "cell_type": "markdown",
   "metadata": {},
   "source": [
    "### 인공지능의 역사\n",
    "1. 딥블루\n",
    " * 체스 세계 챔피언을 이긴 인공지능\n",
    " * 개발자들, 그 정도는 가능하지 않을까.. (약간은 시큰둥)\n",
    "2. 알파고\n",
    " * 딥블루보다 더 큰 충격! 바둑은 굉장히 많은 경우의 수!\n",
    " * 설명 vs 학습?"
   ]
  },
  {
   "cell_type": "markdown",
   "metadata": {},
   "source": [
    "### 딥블루: 설명(기호주의를 대표하는 것), 알파고: 학습(연결주의)\n",
    "* 세상의 정보는 설명을 통해 완벽하게 표현이 안 된다!"
   ]
  },
  {
   "cell_type": "markdown",
   "metadata": {},
   "source": [
    "## 인지와 추론\n",
    "* 인지: 피아제(Jean Piaget), 아동 인지발달이론 중, Depth Perception\n",
    "* Reasoning(추론)\n",
    "  * AI에서 인식 이후에 다루어야 할 문제가 reasoning\n",
    "  * 예) 온도(혹은 습도)가 높다 -> <b>인식</b>, 이러한 인식을 토대로 <b>추론</b>: 온습도가 높으니 냉수를 마셔야겠다, 에어컨 온도를 낮추어야겠다."
   ]
  }
 ],
 "metadata": {
  "kernelspec": {
   "display_name": "Python 3",
   "language": "python",
   "name": "python3"
  },
  "language_info": {
   "codemirror_mode": {
    "name": "ipython",
    "version": 3
   },
   "file_extension": ".py",
   "mimetype": "text/x-python",
   "name": "python",
   "nbconvert_exporter": "python",
   "pygments_lexer": "ipython3",
   "version": "3.7.7"
  }
 },
 "nbformat": 4,
 "nbformat_minor": 4
}
