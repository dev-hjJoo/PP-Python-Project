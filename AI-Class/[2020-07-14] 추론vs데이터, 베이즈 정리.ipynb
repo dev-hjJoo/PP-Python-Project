{
 "cells": [
  {
   "cell_type": "code",
   "execution_count": null,
   "metadata": {},
   "outputs": [],
   "source": [
    "# 추론기반(기호주의) vs 데이터기반(연결주의-Deep Learning)\n",
    "# = Machine Learning vs Knowledge Acquisition\n",
    "\"\"\"\n",
    "예1) 도서 추천\n",
    "* 추론 기반 추천: 분류(장르) 중심 추천\n",
    "* 데이터 기반 추천: 구매자 구매 이력과 연관성 분석 통한 추천\n",
    "\n",
    "예2) 확률론\n",
    "* 추론: 주사위 던질 때, 짝수가 나올 확률?\n",
    "* 데이터: 말기 간암 환자의 생존 확률?\n",
    "\n",
    "예3) 인공지능\n",
    "* 추론(reasoning): Default reasoning, case-based reasoning, Temporal reasoning,\n",
    "                  Model-based reasoning, Rule-based reasoning, ...\n",
    "* 데이터: 기계학습, 협력 필터링(Collaborative filtering), ...\n",
    "\"\"\"\n",
    "# 과거에는 추론 기반이 AI 접근법의 대세\n",
    "# 연관성은 거리(distance)와 관련이 있음, 이는 유사도에 영향."
   ]
  },
  {
   "cell_type": "code",
   "execution_count": null,
   "metadata": {},
   "outputs": [],
   "source": [
    "# personal-informatics에 대해서 알아볼 것"
   ]
  },
  {
   "cell_type": "code",
   "execution_count": null,
   "metadata": {},
   "outputs": [],
   "source": [
    "# 협력필터링(Collaborative filtering)"
   ]
  },
  {
   "cell_type": "code",
   "execution_count": null,
   "metadata": {},
   "outputs": [],
   "source": [
    "\"\"\" 상식 더 하 기 \"\"\"\n",
    "# 확률(추론)의 아버지, \"페르마\"와 \"파스칼\"\n",
    "# 확률(데이터)의 아버지, \"베이즈\"\n",
    "# 컴퓨터의 아버지, \"베비지\" vs \"튜링\""
   ]
  },
  {
   "cell_type": "code",
   "execution_count": null,
   "metadata": {},
   "outputs": [],
   "source": [
    "\"\"\"베이즈 정리 Bayes' Theorem\"\"\"\n",
    "# "
   ]
  },
  {
   "cell_type": "code",
   "execution_count": null,
   "metadata": {},
   "outputs": [],
   "source": []
  },
  {
   "cell_type": "code",
   "execution_count": null,
   "metadata": {},
   "outputs": [],
   "source": []
  }
 ],
 "metadata": {
  "kernelspec": {
   "display_name": "Python 3",
   "language": "python",
   "name": "python3"
  },
  "language_info": {
   "codemirror_mode": {
    "name": "ipython",
    "version": 3
   },
   "file_extension": ".py",
   "mimetype": "text/x-python",
   "name": "python",
   "nbconvert_exporter": "python",
   "pygments_lexer": "ipython3",
   "version": "3.7.7"
  }
 },
 "nbformat": 4,
 "nbformat_minor": 4
}
