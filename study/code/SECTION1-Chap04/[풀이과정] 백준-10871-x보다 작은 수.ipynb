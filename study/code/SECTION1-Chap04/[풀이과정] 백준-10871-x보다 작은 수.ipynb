{
 "cells": [
  {
   "cell_type": "code",
   "execution_count": 1,
   "metadata": {},
   "outputs": [
    {
     "name": "stdout",
     "output_type": "stream",
     "text": [
      "10 5\n"
     ]
    }
   ],
   "source": [
    "# 두 수 동시에 입력 받기\n",
    "# .split()는 공백으로 구분, 인자로 구분 문자를 넣을 수 있음\n",
    "# map()는 (값 변환 인자, 변환할 리스트)로 두 개의 인자를 요함\n",
    "# map 반환값(반환형:map())을 튜플로 바꾸어주면 각각의 변수에 저장 가능\n",
    "\n",
    "n, x = tuple(map(lambda a: int(a), input().split()))"
   ]
  },
  {
   "cell_type": "code",
   "execution_count": 2,
   "metadata": {},
   "outputs": [
    {
     "name": "stdout",
     "output_type": "stream",
     "text": [
      "1 10 4 9 2 3 8 5 7 6\n"
     ]
    }
   ],
   "source": [
    "# 위의 값은 tuple로 만들었다면 value는 리스트로 변환\n",
    "value = list(map(lambda a: int(a), input().split()))"
   ]
  },
  {
   "cell_type": "code",
   "execution_count": 3,
   "metadata": {},
   "outputs": [],
   "source": [
    "# 리스트 표기법을 통해 작은 값만 추출\n",
    "value = [i for i in value if i<x]"
   ]
  },
  {
   "cell_type": "code",
   "execution_count": 6,
   "metadata": {},
   "outputs": [
    {
     "name": "stdout",
     "output_type": "stream",
     "text": [
      "1 4 2 3 "
     ]
    }
   ],
   "source": [
    "for i in value:\n",
    "    print(i, end=\" \")"
   ]
  }
 ],
 "metadata": {
  "kernelspec": {
   "display_name": "Python 3",
   "language": "python",
   "name": "python3"
  },
  "language_info": {
   "codemirror_mode": {
    "name": "ipython",
    "version": 3
   },
   "file_extension": ".py",
   "mimetype": "text/x-python",
   "name": "python",
   "nbconvert_exporter": "python",
   "pygments_lexer": "ipython3",
   "version": "3.7.7"
  }
 },
 "nbformat": 4,
 "nbformat_minor": 4
}
