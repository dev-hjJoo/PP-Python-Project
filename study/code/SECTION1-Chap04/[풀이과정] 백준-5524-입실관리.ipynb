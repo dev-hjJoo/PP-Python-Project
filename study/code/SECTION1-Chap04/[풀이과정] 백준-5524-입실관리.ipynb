{
 "cells": [
  {
   "cell_type": "code",
   "execution_count": null,
   "metadata": {},
   "outputs": [],
   "source": [
    "\"\"\"\n",
    "백준 5524번: 입실관리 (https://www.acmicpc.net/problem/5524)\n",
    " - n개의 문자열을 입력받아 모두 소문자로 변환하는 프로그램\n",
    "\"\"\""
   ]
  },
  {
   "cell_type": "code",
   "execution_count": 1,
   "metadata": {},
   "outputs": [
    {
     "name": "stdout",
     "output_type": "stream",
     "text": [
      "haPPy-biRthDay\n"
     ]
    }
   ],
   "source": [
    "# 입력받는 함수 input(), type을 문자열로 변환해주는 함수 str()\n",
    "string = str(input())"
   ]
  },
  {
   "cell_type": "code",
   "execution_count": 2,
   "metadata": {},
   "outputs": [
    {
     "name": "stdout",
     "output_type": "stream",
     "text": [
      "happy-birthday\n"
     ]
    }
   ],
   "source": [
    "print(string.lower())"
   ]
  },
  {
   "cell_type": "code",
   "execution_count": 8,
   "metadata": {},
   "outputs": [
    {
     "name": "stdout",
     "output_type": "stream",
     "text": [
      "heLLO\n",
      "WOW\n",
      "It's raining!\n",
      "HELLO WORLD!\n"
     ]
    }
   ],
   "source": [
    "# 반복문을 통해 리스트로 입력을 받아보자!\n",
    "stringList = [] # 리스트는 대괄호\n",
    "for i in range(4):\n",
    "    stringList.append(str(input())) # append()와 insert() 짚고 넘어가기!"
   ]
  },
  {
   "cell_type": "code",
   "execution_count": 9,
   "metadata": {},
   "outputs": [
    {
     "data": {
      "text/plain": [
       "['heLLO', 'WOW', \"It's raining!\", 'HELLO WORLD!']"
      ]
     },
     "execution_count": 9,
     "metadata": {},
     "output_type": "execute_result"
    }
   ],
   "source": [
    "stringList"
   ]
  },
  {
   "cell_type": "code",
   "execution_count": 16,
   "metadata": {},
   "outputs": [
    {
     "name": "stdout",
     "output_type": "stream",
     "text": [
      "hello\n",
      "wow\n",
      "it's raining!\n",
      "hello world!\n"
     ]
    }
   ],
   "source": [
    "# 일반적인 방법(반복문) 이용\n",
    "for value in stringList:\n",
    "    print(value.lower())"
   ]
  },
  {
   "cell_type": "code",
   "execution_count": 18,
   "metadata": {},
   "outputs": [
    {
     "data": {
      "text/plain": [
       "['heLLO', 'WOW', \"It's raining!\", 'HELLO WORLD!']"
      ]
     },
     "execution_count": 18,
     "metadata": {},
     "output_type": "execute_result"
    }
   ],
   "source": [
    "# 위의 코드는 소문자로 바꾼 값을 출력했을 뿐, 리스트 값은 변경되지 않았다!\n",
    "stringList"
   ]
  },
  {
   "cell_type": "code",
   "execution_count": 19,
   "metadata": {},
   "outputs": [],
   "source": [
    "# 1차 시도: 리스트 값 변경 (잘못된 예)\n",
    "for value in stringList:\n",
    "    value = value.lower() # 스칼라 값, "
   ]
  },
  {
   "cell_type": "code",
   "execution_count": 20,
   "metadata": {},
   "outputs": [
    {
     "data": {
      "text/plain": [
       "['heLLO', 'WOW', \"It's raining!\", 'HELLO WORLD!']"
      ]
     },
     "execution_count": 20,
     "metadata": {},
     "output_type": "execute_result"
    }
   ],
   "source": [
    "stringList"
   ]
  },
  {
   "cell_type": "code",
   "execution_count": 21,
   "metadata": {},
   "outputs": [
    {
     "name": "stdout",
     "output_type": "stream",
     "text": [
      "0 heLLO\n",
      "1 WOW\n",
      "2 It's raining!\n",
      "3 HELLO WORLD!\n"
     ]
    }
   ],
   "source": [
    "# 2차 시도: 리스트 값 변경\n",
    "for i, value in enumerate(stringList):\n",
    "    print(i, value)"
   ]
  },
  {
   "cell_type": "code",
   "execution_count": 22,
   "metadata": {},
   "outputs": [],
   "source": [
    "# enumerate() 알고 가기! 반복문에서 인덱스와 값에 동시에 접근!\n",
    "for i, value in enumerate(stringList):\n",
    "    stringList[i] = value.lower()"
   ]
  },
  {
   "cell_type": "code",
   "execution_count": 23,
   "metadata": {},
   "outputs": [
    {
     "data": {
      "text/plain": [
       "['hello', 'wow', \"it's raining!\", 'hello world!']"
      ]
     },
     "execution_count": 23,
     "metadata": {},
     "output_type": "execute_result"
    }
   ],
   "source": [
    "# 성공!\n",
    "stringList"
   ]
  },
  {
   "cell_type": "code",
   "execution_count": 25,
   "metadata": {},
   "outputs": [],
   "source": [
    "# 마지막! 리스트 표기법을 이용한 방법 (대문자로 바꿔보자)\n",
    "stringList = [x.upper() for x in stringList]"
   ]
  },
  {
   "cell_type": "code",
   "execution_count": 26,
   "metadata": {},
   "outputs": [
    {
     "data": {
      "text/plain": [
       "['HELLO', 'WOW', \"IT'S RAINING!\", 'HELLO WORLD!']"
      ]
     },
     "execution_count": 26,
     "metadata": {},
     "output_type": "execute_result"
    }
   ],
   "source": [
    "stringList"
   ]
  }
 ],
 "metadata": {
  "kernelspec": {
   "display_name": "Python 3",
   "language": "python",
   "name": "python3"
  },
  "language_info": {
   "codemirror_mode": {
    "name": "ipython",
    "version": 3
   },
   "file_extension": ".py",
   "mimetype": "text/x-python",
   "name": "python",
   "nbconvert_exporter": "python",
   "pygments_lexer": "ipython3",
   "version": "3.7.7"
  }
 },
 "nbformat": 4,
 "nbformat_minor": 4
}
