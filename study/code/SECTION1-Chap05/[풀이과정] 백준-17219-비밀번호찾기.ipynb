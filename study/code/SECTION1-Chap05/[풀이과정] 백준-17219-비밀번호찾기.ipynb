{
 "cells": [
  {
   "cell_type": "code",
   "execution_count": 1,
   "metadata": {},
   "outputs": [
    {
     "name": "stdout",
     "output_type": "stream",
     "text": [
      "16 4\n"
     ]
    }
   ],
   "source": [
    "# 몇 개의 웹주소: 비밀번호 쌍을 받을 지, 몇 개를 검색할 지에 대한 변수 (m, n)\n",
    "m, n = input().split()\n",
    "m, n = int(m), int(n)"
   ]
  },
  {
   "cell_type": "code",
   "execution_count": null,
   "metadata": {},
   "outputs": [],
   "source": [
    "# webSite별 password 저장하는 딕셔너리 생성\n",
    "password = {}"
   ]
  },
  {
   "cell_type": "code",
   "execution_count": null,
   "metadata": {},
   "outputs": [],
   "source": [
    "# 각 주소에 대한 비밀번호를 받아 딕셔너리에 저장\n",
    "for _ in range(m):\n",
    "    webSite, pw = tuple(input().split())\n",
    "    password[webSite] = pw"
   ]
  },
  {
   "cell_type": "code",
   "execution_count": null,
   "metadata": {},
   "outputs": [],
   "source": [
    "# 원하는 주소를 입력받아 딕셔너리에 검사\n",
    "for _ in range(n):\n",
    "    answer = input()\n",
    "    print(password[answer])"
   ]
  }
 ],
 "metadata": {
  "kernelspec": {
   "display_name": "Python 3",
   "language": "python",
   "name": "python3"
  },
  "language_info": {
   "codemirror_mode": {
    "name": "ipython",
    "version": 3
   },
   "file_extension": ".py",
   "mimetype": "text/x-python",
   "name": "python",
   "nbconvert_exporter": "python",
   "pygments_lexer": "ipython3",
   "version": "3.7.7"
  }
 },
 "nbformat": 4,
 "nbformat_minor": 4
}
