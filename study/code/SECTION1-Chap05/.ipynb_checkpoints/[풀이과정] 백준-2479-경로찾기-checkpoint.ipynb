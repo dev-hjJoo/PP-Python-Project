{
 "cells": [
  {
   "cell_type": "code",
   "execution_count": null,
   "metadata": {},
   "outputs": [],
   "source": [
    "# runtime error,,"
   ]
  },
  {
   "cell_type": "code",
   "execution_count": 1,
   "metadata": {},
   "outputs": [],
   "source": [
    "import numpy as np"
   ]
  },
  {
   "cell_type": "code",
   "execution_count": 2,
   "metadata": {},
   "outputs": [
    {
     "name": "stdout",
     "output_type": "stream",
     "text": [
      "5 3\n"
     ]
    }
   ],
   "source": [
    "# 정수값으로 입력 개수 num, 입력의 길이 length를 받기\n",
    "# 입력 범위: 3<=num<=1000, \n",
    "num, length = tuple(input().split())"
   ]
  },
  {
   "cell_type": "code",
   "execution_count": null,
   "metadata": {},
   "outputs": [],
   "source": [
    "num, length = int(num), int(length)"
   ]
  },
  {
   "cell_type": "code",
   "execution_count": null,
   "metadata": {},
   "outputs": [],
   "source": [
    "binaryCode = [input() for i in range(5)]"
   ]
  },
  {
   "cell_type": "code",
   "execution_count": null,
   "metadata": {},
   "outputs": [],
   "source": [
    "start, end = tuple(map(lambda x: int(x), input().split()))"
   ]
  },
  {
   "cell_type": "code",
   "execution_count": null,
   "metadata": {},
   "outputs": [],
   "source": [
    "# 문자열 형태로 각각의 입력값이 저장된 ndarray\n",
    "binaryCode"
   ]
  },
  {
   "cell_type": "code",
   "execution_count": null,
   "metadata": {},
   "outputs": [],
   "source": [
    "# 해밍 경로 여부 찾는 함수 (참:1, 거짓:0)\n",
    "def isHR(str1, str2, length):\n",
    "    cnt = 0 # cnt: 두 문자열(str1, str2)의 해밍 거리\n",
    "\n",
    "    # 비교하는 값이 자기 자신이면 0 리턴 (자기 자신과는 해밍 경로 고려 X)\n",
    "    if str1 is str2: return 0\n",
    "\n",
    "    for i in range(length):\n",
    "        if str1[i] is not str2[i]: cnt+=1\n",
    "        if cnt > 1: return 0    # 해밍 거리가 2 이상이면 해밍 경로가 아님(0)\n",
    "    return 1"
   ]
  },
  {
   "cell_type": "code",
   "execution_count": null,
   "metadata": {},
   "outputs": [],
   "source": [
    "checkHR = np.zeros((num, num))"
   ]
  },
  {
   "cell_type": "code",
   "execution_count": null,
   "metadata": {},
   "outputs": [],
   "source": [
    "checkHR"
   ]
  },
  {
   "cell_type": "code",
   "execution_count": null,
   "metadata": {},
   "outputs": [],
   "source": [
    "for i in range(num):\n",
    "    for j in range(num):\n",
    "        checkHR[i][j] = isHR(binaryCode[i], binaryCode[j], length)"
   ]
  },
  {
   "cell_type": "code",
   "execution_count": null,
   "metadata": {},
   "outputs": [],
   "source": [
    "checkHR"
   ]
  },
  {
   "cell_type": "code",
   "execution_count": null,
   "metadata": {},
   "outputs": [],
   "source": [
    "visit = np.zeros(num)"
   ]
  },
  {
   "cell_type": "code",
   "execution_count": null,
   "metadata": {},
   "outputs": [],
   "source": [
    "visit"
   ]
  },
  {
   "cell_type": "code",
   "execution_count": null,
   "metadata": {},
   "outputs": [],
   "source": [
    "def findRoutine(pos, en, checkHR, visit):\n",
    "    visit[pos]=1 # 방문한 인덱스는 1로 변경\n",
    "#    print(\"pos:\",pos, \"  \")\n",
    "    if pos==en:\n",
    "        print(pos+1, end=\" \")\n",
    "        return True\n",
    "    for i, val in enumerate(checkHR[pos]):\n",
    "#        print(\"val:\",val,\"i:\",i,\"visit[i]\",visit[i], end=\" \")\n",
    "        if val == 1 and visit[i]==0 :\n",
    "#            print(i, end=\"\")\n",
    "            if findRoutine(i, en, checkHR, visit):\n",
    "                print(pos+1, end=\" \")\n",
    "                return True\n",
    "#        print()\n",
    "    return False"
   ]
  },
  {
   "cell_type": "code",
   "execution_count": null,
   "metadata": {},
   "outputs": [],
   "source": [
    "findRoutine(end-1, start-1, checkHR, visit)"
   ]
  }
 ],
 "metadata": {
  "kernelspec": {
   "display_name": "Python 3",
   "language": "python",
   "name": "python3"
  },
  "language_info": {
   "codemirror_mode": {
    "name": "ipython",
    "version": 3
   },
   "file_extension": ".py",
   "mimetype": "text/x-python",
   "name": "python",
   "nbconvert_exporter": "python",
   "pygments_lexer": "ipython3",
   "version": "3.7.7"
  }
 },
 "nbformat": 4,
 "nbformat_minor": 4
}
