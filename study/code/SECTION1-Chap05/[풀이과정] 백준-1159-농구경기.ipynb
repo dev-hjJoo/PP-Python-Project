{
 "cells": [
  {
   "cell_type": "code",
   "execution_count": null,
   "metadata": {},
   "outputs": [],
   "source": [
    "# 입력받을 이름 수를 출력\n",
    "n = int(input())"
   ]
  },
  {
   "cell_type": "code",
   "execution_count": null,
   "metadata": {},
   "outputs": [],
   "source": [
    "# 이름을 저장할 딕셔너리 names 생성\n",
    "# 이름의 최대 개수 저장할 변수 max (항복여부 체크)\n",
    "names = {}\n",
    "max = 0"
   ]
  },
  {
   "cell_type": "code",
   "execution_count": null,
   "metadata": {},
   "outputs": [],
   "source": [
    "# 입력받은 성에 따라 값 증가\n",
    "for _ in range(n):\n",
    "    name = input()\n",
    "    # 딕셔너리에 있는 경우와 없는 경우 분리\n",
    "    if name[0] in names:\n",
    "        names[name[0]] += 1\n",
    "    else:\n",
    "        names[name[0]] = 1\n",
    "    # max가 5를 넘으면 항복은 하지 않으므로 더 이상 검색할 필요 없음\n",
    "    if max<5 and names[name[0]] > max:\n",
    "        max = names[name[0]]"
   ]
  },
  {
   "cell_type": "code",
   "execution_count": null,
   "metadata": {},
   "outputs": [],
   "source": [
    "# max가 5보다 작으면 확인해볼 필요 없음!\n",
    "if max < 5:\n",
    "    print(\"PREDAJA\")\n",
    "else:\n",
    "    names = sorted(names.items())\n",
    "    for firstLetter, num in names:\n",
    "        if num >= 5:\n",
    "            print(firstLetter, end=\"\")"
   ]
  }
 ],
 "metadata": {
  "kernelspec": {
   "display_name": "Python 3",
   "language": "python",
   "name": "python3"
  },
  "language_info": {
   "codemirror_mode": {
    "name": "ipython",
    "version": 3
   },
   "file_extension": ".py",
   "mimetype": "text/x-python",
   "name": "python",
   "nbconvert_exporter": "python",
   "pygments_lexer": "ipython3",
   "version": "3.7.7"
  }
 },
 "nbformat": 4,
 "nbformat_minor": 4
}
