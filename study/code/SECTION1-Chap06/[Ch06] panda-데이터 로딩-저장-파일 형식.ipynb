{
 "cells": [
  {
   "cell_type": "markdown",
   "metadata": {},
   "source": [
    "## pandas를 이용한 데이터 접근\n",
    "### 입출력을 진행하는 방법\n",
    "1. 텍스트 파일 이용하는 방법 \n",
    "2. 데이터베이스 이용하는 방법\n",
    "3. 웹 API를 이용하여 네트워크를 통해 불러오는 방법"
   ]
  },
  {
   "cell_type": "markdown",
   "metadata": {},
   "source": [
    "### 주로 사용하는  파싱 함수 read_csv와 read_table\n",
    "* 두 함수 모두 파일, URL 또는 파일과 유사한 객체로부터 구분된 데이터를 읽어온다.\n",
    "* 이 외에도 다양한 함수들이 있으며, 책 237~238쪽을 참고한다.\n",
    "<pre>\n",
    "<b>read_csv</b>\n",
    "* 데이터 구분자는 쉼표(,)를 기본으로 한다.\n",
    "</pre>\n",
    "<pre>\n",
    "<b>read_table</b>\n",
    "* 데이터 구분자는 탭('\\t') 기본으로 한다.\n",
    "</pre>\n",
    "- - - -\n",
    "<pre>\n",
    "* 이 함수들은 텍스트 데이터들을 <b>DataFrame</b>으로 읽어오기 위한 함수이다.\n",
    "* <b>색인, 자료형 추론과 데이터 변환, 날짜 분석, 반복, 정제되지 않은 데이터 처리</b>에 대한 옵션을 취한다.\n",
    "* 데이터가 정형화되어있지 않으므로 이런 데이터를 불러오는 함수들은 개발이 계속됨에 따라 복잡도가 급속도로 증가\n",
    "  * 따라서 pandas 온라인 문서를 참고하여 적절한 자료와 예제를 살펴보며 활용하는 법을 익혀둘 것\n",
    "</pre>"
   ]
  },
  {
   "cell_type": "markdown",
   "metadata": {},
   "source": [
    "## MARK: 텍스트 파일에서 데이터 읽고 쓰기"
   ]
  },
  {
   "cell_type": "code",
   "execution_count": 1,
   "metadata": {},
   "outputs": [],
   "source": [
    "import pandas as pd\n",
    "import numpy as np"
   ]
  },
  {
   "cell_type": "code",
   "execution_count": 2,
   "metadata": {},
   "outputs": [
    {
     "name": "stdout",
     "output_type": "stream",
     "text": [
      "a,b,c,d,message\r\n",
      "1,2,3,4,hello\r\n",
      "5,6,7,8,world\r\n",
      "9,10,11,12,foo"
     ]
    }
   ],
   "source": [
    "# pandas.read_csv같은 함수들은 데이터 형식에 자료형이 포함되어 있지 않아 타입 추론을 수행\n",
    "# HDF5나 Feather, msgpack의 경우에는 데이터 형식에 자료형이 포함되어 있음\n",
    "!cat examples/ex1.csv"
   ]
  },
  {
   "cell_type": "code",
   "execution_count": 3,
   "metadata": {},
   "outputs": [],
   "source": [
    "# ex1.csv 파일은 쉼표로 구분되어 있기 때문에 read_csv를 사용해서 DataFrame으로 읽어올 수 있다\n",
    "df = pd.read_csv('examples/ex1.csv')"
   ]
  },
  {
   "cell_type": "code",
   "execution_count": 4,
   "metadata": {},
   "outputs": [
    {
     "data": {
      "text/html": [
       "<div>\n",
       "<style scoped>\n",
       "    .dataframe tbody tr th:only-of-type {\n",
       "        vertical-align: middle;\n",
       "    }\n",
       "\n",
       "    .dataframe tbody tr th {\n",
       "        vertical-align: top;\n",
       "    }\n",
       "\n",
       "    .dataframe thead th {\n",
       "        text-align: right;\n",
       "    }\n",
       "</style>\n",
       "<table border=\"1\" class=\"dataframe\">\n",
       "  <thead>\n",
       "    <tr style=\"text-align: right;\">\n",
       "      <th></th>\n",
       "      <th>a</th>\n",
       "      <th>b</th>\n",
       "      <th>c</th>\n",
       "      <th>d</th>\n",
       "      <th>message</th>\n",
       "    </tr>\n",
       "  </thead>\n",
       "  <tbody>\n",
       "    <tr>\n",
       "      <th>0</th>\n",
       "      <td>1</td>\n",
       "      <td>2</td>\n",
       "      <td>3</td>\n",
       "      <td>4</td>\n",
       "      <td>hello</td>\n",
       "    </tr>\n",
       "    <tr>\n",
       "      <th>1</th>\n",
       "      <td>5</td>\n",
       "      <td>6</td>\n",
       "      <td>7</td>\n",
       "      <td>8</td>\n",
       "      <td>world</td>\n",
       "    </tr>\n",
       "    <tr>\n",
       "      <th>2</th>\n",
       "      <td>9</td>\n",
       "      <td>10</td>\n",
       "      <td>11</td>\n",
       "      <td>12</td>\n",
       "      <td>foo</td>\n",
       "    </tr>\n",
       "  </tbody>\n",
       "</table>\n",
       "</div>"
      ],
      "text/plain": [
       "   a   b   c   d message\n",
       "0  1   2   3   4   hello\n",
       "1  5   6   7   8   world\n",
       "2  9  10  11  12     foo"
      ]
     },
     "execution_count": 4,
     "metadata": {},
     "output_type": "execute_result"
    }
   ],
   "source": [
    "df"
   ]
  },
  {
   "cell_type": "code",
   "execution_count": 5,
   "metadata": {},
   "outputs": [
    {
     "data": {
      "text/html": [
       "<div>\n",
       "<style scoped>\n",
       "    .dataframe tbody tr th:only-of-type {\n",
       "        vertical-align: middle;\n",
       "    }\n",
       "\n",
       "    .dataframe tbody tr th {\n",
       "        vertical-align: top;\n",
       "    }\n",
       "\n",
       "    .dataframe thead th {\n",
       "        text-align: right;\n",
       "    }\n",
       "</style>\n",
       "<table border=\"1\" class=\"dataframe\">\n",
       "  <thead>\n",
       "    <tr style=\"text-align: right;\">\n",
       "      <th></th>\n",
       "      <th>a</th>\n",
       "      <th>b</th>\n",
       "      <th>c</th>\n",
       "      <th>d</th>\n",
       "      <th>message</th>\n",
       "    </tr>\n",
       "  </thead>\n",
       "  <tbody>\n",
       "    <tr>\n",
       "      <th>0</th>\n",
       "      <td>1</td>\n",
       "      <td>2</td>\n",
       "      <td>3</td>\n",
       "      <td>4</td>\n",
       "      <td>hello</td>\n",
       "    </tr>\n",
       "    <tr>\n",
       "      <th>1</th>\n",
       "      <td>5</td>\n",
       "      <td>6</td>\n",
       "      <td>7</td>\n",
       "      <td>8</td>\n",
       "      <td>world</td>\n",
       "    </tr>\n",
       "    <tr>\n",
       "      <th>2</th>\n",
       "      <td>9</td>\n",
       "      <td>10</td>\n",
       "      <td>11</td>\n",
       "      <td>12</td>\n",
       "      <td>foo</td>\n",
       "    </tr>\n",
       "  </tbody>\n",
       "</table>\n",
       "</div>"
      ],
      "text/plain": [
       "   a   b   c   d message\n",
       "0  1   2   3   4   hello\n",
       "1  5   6   7   8   world\n",
       "2  9  10  11  12     foo"
      ]
     },
     "execution_count": 5,
     "metadata": {},
     "output_type": "execute_result"
    }
   ],
   "source": [
    "# read_table에 구분자를 쉼표로 지정해서 읽어올 수 있다\n",
    "pd.read_table('examples/ex1.csv', sep=',')"
   ]
  },
  {
   "cell_type": "code",
   "execution_count": 6,
   "metadata": {},
   "outputs": [
    {
     "name": "stdout",
     "output_type": "stream",
     "text": [
      "1,2,3,4,hello\r\n",
      "5,6,7,8,world\r\n",
      "9,10,11,12,foo"
     ]
    }
   ],
   "source": [
    "# 모든 파일에 컬럼 이름이 있는 건 아님\n",
    "!cat examples/ex2.csv"
   ]
  },
  {
   "cell_type": "code",
   "execution_count": 7,
   "metadata": {},
   "outputs": [
    {
     "data": {
      "text/html": [
       "<div>\n",
       "<style scoped>\n",
       "    .dataframe tbody tr th:only-of-type {\n",
       "        vertical-align: middle;\n",
       "    }\n",
       "\n",
       "    .dataframe tbody tr th {\n",
       "        vertical-align: top;\n",
       "    }\n",
       "\n",
       "    .dataframe thead th {\n",
       "        text-align: right;\n",
       "    }\n",
       "</style>\n",
       "<table border=\"1\" class=\"dataframe\">\n",
       "  <thead>\n",
       "    <tr style=\"text-align: right;\">\n",
       "      <th></th>\n",
       "      <th>0</th>\n",
       "      <th>1</th>\n",
       "      <th>2</th>\n",
       "      <th>3</th>\n",
       "      <th>4</th>\n",
       "    </tr>\n",
       "  </thead>\n",
       "  <tbody>\n",
       "    <tr>\n",
       "      <th>0</th>\n",
       "      <td>1</td>\n",
       "      <td>2</td>\n",
       "      <td>3</td>\n",
       "      <td>4</td>\n",
       "      <td>hello</td>\n",
       "    </tr>\n",
       "    <tr>\n",
       "      <th>1</th>\n",
       "      <td>5</td>\n",
       "      <td>6</td>\n",
       "      <td>7</td>\n",
       "      <td>8</td>\n",
       "      <td>world</td>\n",
       "    </tr>\n",
       "    <tr>\n",
       "      <th>2</th>\n",
       "      <td>9</td>\n",
       "      <td>10</td>\n",
       "      <td>11</td>\n",
       "      <td>12</td>\n",
       "      <td>foo</td>\n",
       "    </tr>\n",
       "  </tbody>\n",
       "</table>\n",
       "</div>"
      ],
      "text/plain": [
       "   0   1   2   3      4\n",
       "0  1   2   3   4  hello\n",
       "1  5   6   7   8  world\n",
       "2  9  10  11  12    foo"
      ]
     },
     "execution_count": 7,
     "metadata": {},
     "output_type": "execute_result"
    }
   ],
   "source": [
    "# header에 인자를 None으로 설정하면 컬럼 이름 설정 없이 호출 가능 (pandas가 자동으로 이름 설정)\n",
    "pd.read_csv('examples/ex2.csv', header=None)"
   ]
  },
  {
   "cell_type": "code",
   "execution_count": 8,
   "metadata": {},
   "outputs": [
    {
     "data": {
      "text/html": [
       "<div>\n",
       "<style scoped>\n",
       "    .dataframe tbody tr th:only-of-type {\n",
       "        vertical-align: middle;\n",
       "    }\n",
       "\n",
       "    .dataframe tbody tr th {\n",
       "        vertical-align: top;\n",
       "    }\n",
       "\n",
       "    .dataframe thead th {\n",
       "        text-align: right;\n",
       "    }\n",
       "</style>\n",
       "<table border=\"1\" class=\"dataframe\">\n",
       "  <thead>\n",
       "    <tr style=\"text-align: right;\">\n",
       "      <th></th>\n",
       "      <th>0</th>\n",
       "      <th>1</th>\n",
       "      <th>2</th>\n",
       "      <th>3</th>\n",
       "      <th>4</th>\n",
       "    </tr>\n",
       "  </thead>\n",
       "  <tbody>\n",
       "    <tr>\n",
       "      <th>0</th>\n",
       "      <td>a</td>\n",
       "      <td>b</td>\n",
       "      <td>c</td>\n",
       "      <td>d</td>\n",
       "      <td>message</td>\n",
       "    </tr>\n",
       "    <tr>\n",
       "      <th>1</th>\n",
       "      <td>1</td>\n",
       "      <td>2</td>\n",
       "      <td>3</td>\n",
       "      <td>4</td>\n",
       "      <td>hello</td>\n",
       "    </tr>\n",
       "    <tr>\n",
       "      <th>2</th>\n",
       "      <td>5</td>\n",
       "      <td>6</td>\n",
       "      <td>7</td>\n",
       "      <td>8</td>\n",
       "      <td>world</td>\n",
       "    </tr>\n",
       "    <tr>\n",
       "      <th>3</th>\n",
       "      <td>9</td>\n",
       "      <td>10</td>\n",
       "      <td>11</td>\n",
       "      <td>12</td>\n",
       "      <td>foo</td>\n",
       "    </tr>\n",
       "  </tbody>\n",
       "</table>\n",
       "</div>"
      ],
      "text/plain": [
       "   0   1   2   3        4\n",
       "0  a   b   c   d  message\n",
       "1  1   2   3   4    hello\n",
       "2  5   6   7   8    world\n",
       "3  9  10  11  12      foo"
      ]
     },
     "execution_count": 8,
     "metadata": {},
     "output_type": "execute_result"
    }
   ],
   "source": [
    "# 동일한 방법으로 위에서 살펴봤던 ex1파일도 수행해보면 다음과 같은 결과를 얻을 수 있음\n",
    "pd.read_csv('examples/ex1.csv', header=None)"
   ]
  },
  {
   "cell_type": "code",
   "execution_count": 9,
   "metadata": {},
   "outputs": [
    {
     "data": {
      "text/html": [
       "<div>\n",
       "<style scoped>\n",
       "    .dataframe tbody tr th:only-of-type {\n",
       "        vertical-align: middle;\n",
       "    }\n",
       "\n",
       "    .dataframe tbody tr th {\n",
       "        vertical-align: top;\n",
       "    }\n",
       "\n",
       "    .dataframe thead th {\n",
       "        text-align: right;\n",
       "    }\n",
       "</style>\n",
       "<table border=\"1\" class=\"dataframe\">\n",
       "  <thead>\n",
       "    <tr style=\"text-align: right;\">\n",
       "      <th></th>\n",
       "      <th>a</th>\n",
       "      <th>b</th>\n",
       "      <th>c</th>\n",
       "      <th>d</th>\n",
       "      <th>message</th>\n",
       "    </tr>\n",
       "  </thead>\n",
       "  <tbody>\n",
       "    <tr>\n",
       "      <th>0</th>\n",
       "      <td>1</td>\n",
       "      <td>2</td>\n",
       "      <td>3</td>\n",
       "      <td>4</td>\n",
       "      <td>hello</td>\n",
       "    </tr>\n",
       "    <tr>\n",
       "      <th>1</th>\n",
       "      <td>5</td>\n",
       "      <td>6</td>\n",
       "      <td>7</td>\n",
       "      <td>8</td>\n",
       "      <td>world</td>\n",
       "    </tr>\n",
       "    <tr>\n",
       "      <th>2</th>\n",
       "      <td>9</td>\n",
       "      <td>10</td>\n",
       "      <td>11</td>\n",
       "      <td>12</td>\n",
       "      <td>foo</td>\n",
       "    </tr>\n",
       "  </tbody>\n",
       "</table>\n",
       "</div>"
      ],
      "text/plain": [
       "   a   b   c   d message\n",
       "0  1   2   3   4   hello\n",
       "1  5   6   7   8   world\n",
       "2  9  10  11  12     foo"
      ]
     },
     "execution_count": 9,
     "metadata": {},
     "output_type": "execute_result"
    }
   ],
   "source": [
    "# 컬럼 이름을 직접 지정하고자 한다면 names 옵션을 이용한다\n",
    "pd.read_csv('examples/ex2.csv', names=['a', 'b', 'c', 'd', 'message'])"
   ]
  },
  {
   "cell_type": "code",
   "execution_count": 10,
   "metadata": {},
   "outputs": [],
   "source": [
    "# message 컬럼을 \"색인\"으로 하는 DataFrame을 반환하려면\n",
    "# index_col 인자에 4번째 컬럼 또는 'message'이름을 가진 컬럼을 지정해서 색인으로 만들 수 있다\n",
    "# -> 즉, 하나의 열을 인덱스로서 사용 (그 열의 컬럼이름은 다시 인덱스 이름이 됨)\n",
    "names = ['a', 'b', 'c', 'd', 'message']"
   ]
  },
  {
   "cell_type": "code",
   "execution_count": 11,
   "metadata": {},
   "outputs": [
    {
     "data": {
      "text/html": [
       "<div>\n",
       "<style scoped>\n",
       "    .dataframe tbody tr th:only-of-type {\n",
       "        vertical-align: middle;\n",
       "    }\n",
       "\n",
       "    .dataframe tbody tr th {\n",
       "        vertical-align: top;\n",
       "    }\n",
       "\n",
       "    .dataframe thead th {\n",
       "        text-align: right;\n",
       "    }\n",
       "</style>\n",
       "<table border=\"1\" class=\"dataframe\">\n",
       "  <thead>\n",
       "    <tr style=\"text-align: right;\">\n",
       "      <th></th>\n",
       "      <th>a</th>\n",
       "      <th>b</th>\n",
       "      <th>c</th>\n",
       "      <th>d</th>\n",
       "    </tr>\n",
       "    <tr>\n",
       "      <th>message</th>\n",
       "      <th></th>\n",
       "      <th></th>\n",
       "      <th></th>\n",
       "      <th></th>\n",
       "    </tr>\n",
       "  </thead>\n",
       "  <tbody>\n",
       "    <tr>\n",
       "      <th>hello</th>\n",
       "      <td>1</td>\n",
       "      <td>2</td>\n",
       "      <td>3</td>\n",
       "      <td>4</td>\n",
       "    </tr>\n",
       "    <tr>\n",
       "      <th>world</th>\n",
       "      <td>5</td>\n",
       "      <td>6</td>\n",
       "      <td>7</td>\n",
       "      <td>8</td>\n",
       "    </tr>\n",
       "    <tr>\n",
       "      <th>foo</th>\n",
       "      <td>9</td>\n",
       "      <td>10</td>\n",
       "      <td>11</td>\n",
       "      <td>12</td>\n",
       "    </tr>\n",
       "  </tbody>\n",
       "</table>\n",
       "</div>"
      ],
      "text/plain": [
       "         a   b   c   d\n",
       "message               \n",
       "hello    1   2   3   4\n",
       "world    5   6   7   8\n",
       "foo      9  10  11  12"
      ]
     },
     "execution_count": 11,
     "metadata": {},
     "output_type": "execute_result"
    }
   ],
   "source": [
    "pd.read_csv('examples/ex2.csv', names=names, index_col='message')"
   ]
  },
  {
   "cell_type": "code",
   "execution_count": 12,
   "metadata": {},
   "outputs": [
    {
     "data": {
      "text/html": [
       "<div>\n",
       "<style scoped>\n",
       "    .dataframe tbody tr th:only-of-type {\n",
       "        vertical-align: middle;\n",
       "    }\n",
       "\n",
       "    .dataframe tbody tr th {\n",
       "        vertical-align: top;\n",
       "    }\n",
       "\n",
       "    .dataframe thead th {\n",
       "        text-align: right;\n",
       "    }\n",
       "</style>\n",
       "<table border=\"1\" class=\"dataframe\">\n",
       "  <thead>\n",
       "    <tr style=\"text-align: right;\">\n",
       "      <th></th>\n",
       "      <th>a</th>\n",
       "      <th>b</th>\n",
       "      <th>c</th>\n",
       "      <th>d</th>\n",
       "    </tr>\n",
       "    <tr>\n",
       "      <th>message</th>\n",
       "      <th></th>\n",
       "      <th></th>\n",
       "      <th></th>\n",
       "      <th></th>\n",
       "    </tr>\n",
       "  </thead>\n",
       "  <tbody>\n",
       "    <tr>\n",
       "      <th>hello</th>\n",
       "      <td>1</td>\n",
       "      <td>2</td>\n",
       "      <td>3</td>\n",
       "      <td>4</td>\n",
       "    </tr>\n",
       "    <tr>\n",
       "      <th>world</th>\n",
       "      <td>5</td>\n",
       "      <td>6</td>\n",
       "      <td>7</td>\n",
       "      <td>8</td>\n",
       "    </tr>\n",
       "    <tr>\n",
       "      <th>foo</th>\n",
       "      <td>9</td>\n",
       "      <td>10</td>\n",
       "      <td>11</td>\n",
       "      <td>12</td>\n",
       "    </tr>\n",
       "  </tbody>\n",
       "</table>\n",
       "</div>"
      ],
      "text/plain": [
       "         a   b   c   d\n",
       "message               \n",
       "hello    1   2   3   4\n",
       "world    5   6   7   8\n",
       "foo      9  10  11  12"
      ]
     },
     "execution_count": 12,
     "metadata": {},
     "output_type": "execute_result"
    }
   ],
   "source": [
    "pd.read_csv('examples/ex2.csv', names=names, index_col=4)"
   ]
  },
  {
   "cell_type": "code",
   "execution_count": 13,
   "metadata": {},
   "outputs": [
    {
     "data": {
      "text/html": [
       "<div>\n",
       "<style scoped>\n",
       "    .dataframe tbody tr th:only-of-type {\n",
       "        vertical-align: middle;\n",
       "    }\n",
       "\n",
       "    .dataframe tbody tr th {\n",
       "        vertical-align: top;\n",
       "    }\n",
       "\n",
       "    .dataframe thead th {\n",
       "        text-align: right;\n",
       "    }\n",
       "</style>\n",
       "<table border=\"1\" class=\"dataframe\">\n",
       "  <thead>\n",
       "    <tr style=\"text-align: right;\">\n",
       "      <th></th>\n",
       "      <th>a</th>\n",
       "      <th>c</th>\n",
       "      <th>d</th>\n",
       "      <th>message</th>\n",
       "    </tr>\n",
       "    <tr>\n",
       "      <th>b</th>\n",
       "      <th></th>\n",
       "      <th></th>\n",
       "      <th></th>\n",
       "      <th></th>\n",
       "    </tr>\n",
       "  </thead>\n",
       "  <tbody>\n",
       "    <tr>\n",
       "      <th>2</th>\n",
       "      <td>1</td>\n",
       "      <td>3</td>\n",
       "      <td>4</td>\n",
       "      <td>hello</td>\n",
       "    </tr>\n",
       "    <tr>\n",
       "      <th>6</th>\n",
       "      <td>5</td>\n",
       "      <td>7</td>\n",
       "      <td>8</td>\n",
       "      <td>world</td>\n",
       "    </tr>\n",
       "    <tr>\n",
       "      <th>10</th>\n",
       "      <td>9</td>\n",
       "      <td>11</td>\n",
       "      <td>12</td>\n",
       "      <td>foo</td>\n",
       "    </tr>\n",
       "  </tbody>\n",
       "</table>\n",
       "</div>"
      ],
      "text/plain": [
       "    a   c   d message\n",
       "b                    \n",
       "2   1   3   4   hello\n",
       "6   5   7   8   world\n",
       "10  9  11  12     foo"
      ]
     },
     "execution_count": 13,
     "metadata": {},
     "output_type": "execute_result"
    }
   ],
   "source": [
    "pd.read_csv('examples/ex2.csv', names=names, index_col='b')"
   ]
  },
  {
   "cell_type": "code",
   "execution_count": 14,
   "metadata": {},
   "outputs": [
    {
     "name": "stdout",
     "output_type": "stream",
     "text": [
      "key1,key2,value1,value2\r\n",
      "one,a,1,2\r\n",
      "one,b,3,4\r\n",
      "one,c,5,6\r\n",
      "one,d,7,8\r\n",
      "two,a,9,10\r\n",
      "two,b,11,12\r\n",
      "two,c,13,14\r\n",
      "two,d,15,16\r\n"
     ]
    }
   ],
   "source": [
    "# 계층적 색인 지정을 원한다면 컬럼 번호나 이름의 리스트를 넘기면 됨\n",
    "!cat examples/csv_mindex.csv"
   ]
  },
  {
   "cell_type": "code",
   "execution_count": 15,
   "metadata": {},
   "outputs": [],
   "source": [
    "parsed = pd.read_csv('examples/csv_mindex.csv', index_col=['key1', 'key2'])"
   ]
  },
  {
   "cell_type": "code",
   "execution_count": 16,
   "metadata": {},
   "outputs": [
    {
     "data": {
      "text/html": [
       "<div>\n",
       "<style scoped>\n",
       "    .dataframe tbody tr th:only-of-type {\n",
       "        vertical-align: middle;\n",
       "    }\n",
       "\n",
       "    .dataframe tbody tr th {\n",
       "        vertical-align: top;\n",
       "    }\n",
       "\n",
       "    .dataframe thead th {\n",
       "        text-align: right;\n",
       "    }\n",
       "</style>\n",
       "<table border=\"1\" class=\"dataframe\">\n",
       "  <thead>\n",
       "    <tr style=\"text-align: right;\">\n",
       "      <th></th>\n",
       "      <th></th>\n",
       "      <th>value1</th>\n",
       "      <th>value2</th>\n",
       "    </tr>\n",
       "    <tr>\n",
       "      <th>key1</th>\n",
       "      <th>key2</th>\n",
       "      <th></th>\n",
       "      <th></th>\n",
       "    </tr>\n",
       "  </thead>\n",
       "  <tbody>\n",
       "    <tr>\n",
       "      <th rowspan=\"4\" valign=\"top\">one</th>\n",
       "      <th>a</th>\n",
       "      <td>1</td>\n",
       "      <td>2</td>\n",
       "    </tr>\n",
       "    <tr>\n",
       "      <th>b</th>\n",
       "      <td>3</td>\n",
       "      <td>4</td>\n",
       "    </tr>\n",
       "    <tr>\n",
       "      <th>c</th>\n",
       "      <td>5</td>\n",
       "      <td>6</td>\n",
       "    </tr>\n",
       "    <tr>\n",
       "      <th>d</th>\n",
       "      <td>7</td>\n",
       "      <td>8</td>\n",
       "    </tr>\n",
       "    <tr>\n",
       "      <th rowspan=\"4\" valign=\"top\">two</th>\n",
       "      <th>a</th>\n",
       "      <td>9</td>\n",
       "      <td>10</td>\n",
       "    </tr>\n",
       "    <tr>\n",
       "      <th>b</th>\n",
       "      <td>11</td>\n",
       "      <td>12</td>\n",
       "    </tr>\n",
       "    <tr>\n",
       "      <th>c</th>\n",
       "      <td>13</td>\n",
       "      <td>14</td>\n",
       "    </tr>\n",
       "    <tr>\n",
       "      <th>d</th>\n",
       "      <td>15</td>\n",
       "      <td>16</td>\n",
       "    </tr>\n",
       "  </tbody>\n",
       "</table>\n",
       "</div>"
      ],
      "text/plain": [
       "           value1  value2\n",
       "key1 key2                \n",
       "one  a          1       2\n",
       "     b          3       4\n",
       "     c          5       6\n",
       "     d          7       8\n",
       "two  a          9      10\n",
       "     b         11      12\n",
       "     c         13      14\n",
       "     d         15      16"
      ]
     },
     "execution_count": 16,
     "metadata": {},
     "output_type": "execute_result"
    }
   ],
   "source": [
    "parsed # 오..오오.."
   ]
  },
  {
   "cell_type": "code",
   "execution_count": 17,
   "metadata": {},
   "outputs": [
    {
     "data": {
      "text/plain": [
       "['            A         B         C\\n',\n",
       " 'aaa -0.264438 -1.026059 -0.619500\\n',\n",
       " 'bbb  0.927272  0.302904 -0.032399\\n',\n",
       " 'ccc -0.264273 -0.386314 -0.217601\\n',\n",
       " 'ddd -0.871858 -0.348382  1.100491\\n']"
      ]
     },
     "execution_count": 17,
     "metadata": {},
     "output_type": "execute_result"
    }
   ],
   "source": [
    "# 고정된 구분자 없이 공백이나 다른 패턴으로 필드를 구분해놓은 경우\n",
    "list(open('examples/ex3.txt'))"
   ]
  },
  {
   "cell_type": "code",
   "execution_count": 18,
   "metadata": {},
   "outputs": [],
   "source": [
    "# 직접 파일을 수정해도 되지만, 이 파일은 공백 문자로 구분되어 있으므로 정규 표현식 \\s+를 사용해서 처리\n",
    "result = pd.read_table('examples/ex3.txt', sep='\\s+')"
   ]
  },
  {
   "cell_type": "code",
   "execution_count": 19,
   "metadata": {},
   "outputs": [
    {
     "data": {
      "text/html": [
       "<div>\n",
       "<style scoped>\n",
       "    .dataframe tbody tr th:only-of-type {\n",
       "        vertical-align: middle;\n",
       "    }\n",
       "\n",
       "    .dataframe tbody tr th {\n",
       "        vertical-align: top;\n",
       "    }\n",
       "\n",
       "    .dataframe thead th {\n",
       "        text-align: right;\n",
       "    }\n",
       "</style>\n",
       "<table border=\"1\" class=\"dataframe\">\n",
       "  <thead>\n",
       "    <tr style=\"text-align: right;\">\n",
       "      <th></th>\n",
       "      <th>A</th>\n",
       "      <th>B</th>\n",
       "      <th>C</th>\n",
       "    </tr>\n",
       "  </thead>\n",
       "  <tbody>\n",
       "    <tr>\n",
       "      <th>aaa</th>\n",
       "      <td>-0.264438</td>\n",
       "      <td>-1.026059</td>\n",
       "      <td>-0.619500</td>\n",
       "    </tr>\n",
       "    <tr>\n",
       "      <th>bbb</th>\n",
       "      <td>0.927272</td>\n",
       "      <td>0.302904</td>\n",
       "      <td>-0.032399</td>\n",
       "    </tr>\n",
       "    <tr>\n",
       "      <th>ccc</th>\n",
       "      <td>-0.264273</td>\n",
       "      <td>-0.386314</td>\n",
       "      <td>-0.217601</td>\n",
       "    </tr>\n",
       "    <tr>\n",
       "      <th>ddd</th>\n",
       "      <td>-0.871858</td>\n",
       "      <td>-0.348382</td>\n",
       "      <td>1.100491</td>\n",
       "    </tr>\n",
       "  </tbody>\n",
       "</table>\n",
       "</div>"
      ],
      "text/plain": [
       "            A         B         C\n",
       "aaa -0.264438 -1.026059 -0.619500\n",
       "bbb  0.927272  0.302904 -0.032399\n",
       "ccc -0.264273 -0.386314 -0.217601\n",
       "ddd -0.871858 -0.348382  1.100491"
      ]
     },
     "execution_count": 19,
     "metadata": {},
     "output_type": "execute_result"
    }
   ],
   "source": [
    "# 첫 번째 행이 다른 행보다 컬럼이 하나 적기 때문에 read_table은 첫 번째 컬럼(행)이 DataFrame의 색인일 것이라고 추론\n",
    "result"
   ]
  },
  {
   "cell_type": "markdown",
   "metadata": {},
   "source": [
    "* 파서 함수는 파일 형식에서 발생할 수 있는 다양한 예외를 잘 처리할 수 있도록 추가 인자를 가지고 있음\n",
    "* 예를 들어 <b>skiprows</b>를 이용해서 특정 로우를 건너뛸 수 있다"
   ]
  },
  {
   "cell_type": "code",
   "execution_count": 20,
   "metadata": {},
   "outputs": [
    {
     "name": "stdout",
     "output_type": "stream",
     "text": [
      "# hey!\r\n",
      "a,b,c,d,message\r\n",
      "# just wanted to make things more difficult for you\r\n",
      "# who reads CSV files with computers, anyway?\r\n",
      "1,2,3,4,hello\r\n",
      "5,6,7,8,world\r\n",
      "9,10,11,12,foo"
     ]
    }
   ],
   "source": [
    "# 아래 파일에서 1,3,4번 로우를 건너뛰어보자!\n",
    "!cat examples/ex4.csv"
   ]
  },
  {
   "cell_type": "code",
   "execution_count": 21,
   "metadata": {},
   "outputs": [
    {
     "data": {
      "text/html": [
       "<div>\n",
       "<style scoped>\n",
       "    .dataframe tbody tr th:only-of-type {\n",
       "        vertical-align: middle;\n",
       "    }\n",
       "\n",
       "    .dataframe tbody tr th {\n",
       "        vertical-align: top;\n",
       "    }\n",
       "\n",
       "    .dataframe thead th {\n",
       "        text-align: right;\n",
       "    }\n",
       "</style>\n",
       "<table border=\"1\" class=\"dataframe\">\n",
       "  <thead>\n",
       "    <tr style=\"text-align: right;\">\n",
       "      <th></th>\n",
       "      <th>a</th>\n",
       "      <th>b</th>\n",
       "      <th>c</th>\n",
       "      <th>d</th>\n",
       "      <th>message</th>\n",
       "    </tr>\n",
       "  </thead>\n",
       "  <tbody>\n",
       "    <tr>\n",
       "      <th>0</th>\n",
       "      <td>1</td>\n",
       "      <td>2</td>\n",
       "      <td>3</td>\n",
       "      <td>4</td>\n",
       "      <td>hello</td>\n",
       "    </tr>\n",
       "    <tr>\n",
       "      <th>1</th>\n",
       "      <td>5</td>\n",
       "      <td>6</td>\n",
       "      <td>7</td>\n",
       "      <td>8</td>\n",
       "      <td>world</td>\n",
       "    </tr>\n",
       "    <tr>\n",
       "      <th>2</th>\n",
       "      <td>9</td>\n",
       "      <td>10</td>\n",
       "      <td>11</td>\n",
       "      <td>12</td>\n",
       "      <td>foo</td>\n",
       "    </tr>\n",
       "  </tbody>\n",
       "</table>\n",
       "</div>"
      ],
      "text/plain": [
       "   a   b   c   d message\n",
       "0  1   2   3   4   hello\n",
       "1  5   6   7   8   world\n",
       "2  9  10  11  12     foo"
      ]
     },
     "execution_count": 21,
     "metadata": {},
     "output_type": "execute_result"
    }
   ],
   "source": [
    "pd.read_csv('examples/ex4.csv', skiprows=[0, 2, 3])"
   ]
  },
  {
   "cell_type": "markdown",
   "metadata": {},
   "source": [
    "### 누락된 값 처리\n",
    "* 이는 파일을 읽는 과정에서 자주 발생하는 일이자 중요한 문제!\n",
    "* 보통 텍스트 파일에서 누락된 값은 표기되지 않거나(비어있는 문자열) 구분하기 쉬운 특수한 문자로 표기됨!\n",
    "* pandas는 기본적으로 NA나 NULL처럼 흔히 통용되는 문자를 비어 있는 값으로 사용"
   ]
  },
  {
   "cell_type": "code",
   "execution_count": 22,
   "metadata": {},
   "outputs": [
    {
     "name": "stdout",
     "output_type": "stream",
     "text": [
      "something,a,b,c,d,message\r\n",
      "one,1,2,3,4,NA\r\n",
      "two,5,6,,8,world\r\n",
      "three,9,10,11,12,foo"
     ]
    }
   ],
   "source": [
    "!cat examples/ex5.csv"
   ]
  },
  {
   "cell_type": "code",
   "execution_count": 23,
   "metadata": {},
   "outputs": [],
   "source": [
    "result = pd.read_csv('examples/ex5.csv')"
   ]
  },
  {
   "cell_type": "code",
   "execution_count": 24,
   "metadata": {},
   "outputs": [
    {
     "data": {
      "text/html": [
       "<div>\n",
       "<style scoped>\n",
       "    .dataframe tbody tr th:only-of-type {\n",
       "        vertical-align: middle;\n",
       "    }\n",
       "\n",
       "    .dataframe tbody tr th {\n",
       "        vertical-align: top;\n",
       "    }\n",
       "\n",
       "    .dataframe thead th {\n",
       "        text-align: right;\n",
       "    }\n",
       "</style>\n",
       "<table border=\"1\" class=\"dataframe\">\n",
       "  <thead>\n",
       "    <tr style=\"text-align: right;\">\n",
       "      <th></th>\n",
       "      <th>something</th>\n",
       "      <th>a</th>\n",
       "      <th>b</th>\n",
       "      <th>c</th>\n",
       "      <th>d</th>\n",
       "      <th>message</th>\n",
       "    </tr>\n",
       "  </thead>\n",
       "  <tbody>\n",
       "    <tr>\n",
       "      <th>0</th>\n",
       "      <td>one</td>\n",
       "      <td>1</td>\n",
       "      <td>2</td>\n",
       "      <td>3.0</td>\n",
       "      <td>4</td>\n",
       "      <td>NaN</td>\n",
       "    </tr>\n",
       "    <tr>\n",
       "      <th>1</th>\n",
       "      <td>two</td>\n",
       "      <td>5</td>\n",
       "      <td>6</td>\n",
       "      <td>NaN</td>\n",
       "      <td>8</td>\n",
       "      <td>world</td>\n",
       "    </tr>\n",
       "    <tr>\n",
       "      <th>2</th>\n",
       "      <td>three</td>\n",
       "      <td>9</td>\n",
       "      <td>10</td>\n",
       "      <td>11.0</td>\n",
       "      <td>12</td>\n",
       "      <td>foo</td>\n",
       "    </tr>\n",
       "  </tbody>\n",
       "</table>\n",
       "</div>"
      ],
      "text/plain": [
       "  something  a   b     c   d message\n",
       "0       one  1   2   3.0   4     NaN\n",
       "1       two  5   6   NaN   8   world\n",
       "2     three  9  10  11.0  12     foo"
      ]
     },
     "execution_count": 24,
     "metadata": {},
     "output_type": "execute_result"
    }
   ],
   "source": [
    "result"
   ]
  },
  {
   "cell_type": "code",
   "execution_count": 25,
   "metadata": {},
   "outputs": [
    {
     "data": {
      "text/html": [
       "<div>\n",
       "<style scoped>\n",
       "    .dataframe tbody tr th:only-of-type {\n",
       "        vertical-align: middle;\n",
       "    }\n",
       "\n",
       "    .dataframe tbody tr th {\n",
       "        vertical-align: top;\n",
       "    }\n",
       "\n",
       "    .dataframe thead th {\n",
       "        text-align: right;\n",
       "    }\n",
       "</style>\n",
       "<table border=\"1\" class=\"dataframe\">\n",
       "  <thead>\n",
       "    <tr style=\"text-align: right;\">\n",
       "      <th></th>\n",
       "      <th>something</th>\n",
       "      <th>a</th>\n",
       "      <th>b</th>\n",
       "      <th>c</th>\n",
       "      <th>d</th>\n",
       "      <th>message</th>\n",
       "    </tr>\n",
       "  </thead>\n",
       "  <tbody>\n",
       "    <tr>\n",
       "      <th>0</th>\n",
       "      <td>False</td>\n",
       "      <td>False</td>\n",
       "      <td>False</td>\n",
       "      <td>False</td>\n",
       "      <td>False</td>\n",
       "      <td>True</td>\n",
       "    </tr>\n",
       "    <tr>\n",
       "      <th>1</th>\n",
       "      <td>False</td>\n",
       "      <td>False</td>\n",
       "      <td>False</td>\n",
       "      <td>True</td>\n",
       "      <td>False</td>\n",
       "      <td>False</td>\n",
       "    </tr>\n",
       "    <tr>\n",
       "      <th>2</th>\n",
       "      <td>False</td>\n",
       "      <td>False</td>\n",
       "      <td>False</td>\n",
       "      <td>False</td>\n",
       "      <td>False</td>\n",
       "      <td>False</td>\n",
       "    </tr>\n",
       "  </tbody>\n",
       "</table>\n",
       "</div>"
      ],
      "text/plain": [
       "   something      a      b      c      d  message\n",
       "0      False  False  False  False  False     True\n",
       "1      False  False  False   True  False    False\n",
       "2      False  False  False  False  False    False"
      ]
     },
     "execution_count": 25,
     "metadata": {},
     "output_type": "execute_result"
    }
   ],
   "source": [
    "# 해당 값이 NULL값인지 판단하는 함수 isnull()\n",
    "pd.isnull(result)"
   ]
  },
  {
   "cell_type": "code",
   "execution_count": 26,
   "metadata": {},
   "outputs": [],
   "source": [
    "# na_value 옵션은 리스트나 문자열 집합을 받아 누락된 값을 처리\n",
    "result = pd.read_csv('examples/ex5.csv', na_values=['NULL'])"
   ]
  },
  {
   "cell_type": "code",
   "execution_count": 27,
   "metadata": {},
   "outputs": [
    {
     "data": {
      "text/html": [
       "<div>\n",
       "<style scoped>\n",
       "    .dataframe tbody tr th:only-of-type {\n",
       "        vertical-align: middle;\n",
       "    }\n",
       "\n",
       "    .dataframe tbody tr th {\n",
       "        vertical-align: top;\n",
       "    }\n",
       "\n",
       "    .dataframe thead th {\n",
       "        text-align: right;\n",
       "    }\n",
       "</style>\n",
       "<table border=\"1\" class=\"dataframe\">\n",
       "  <thead>\n",
       "    <tr style=\"text-align: right;\">\n",
       "      <th></th>\n",
       "      <th>something</th>\n",
       "      <th>a</th>\n",
       "      <th>b</th>\n",
       "      <th>c</th>\n",
       "      <th>d</th>\n",
       "      <th>message</th>\n",
       "    </tr>\n",
       "  </thead>\n",
       "  <tbody>\n",
       "    <tr>\n",
       "      <th>0</th>\n",
       "      <td>one</td>\n",
       "      <td>1</td>\n",
       "      <td>2</td>\n",
       "      <td>3.0</td>\n",
       "      <td>4</td>\n",
       "      <td>NaN</td>\n",
       "    </tr>\n",
       "    <tr>\n",
       "      <th>1</th>\n",
       "      <td>two</td>\n",
       "      <td>5</td>\n",
       "      <td>6</td>\n",
       "      <td>NaN</td>\n",
       "      <td>8</td>\n",
       "      <td>world</td>\n",
       "    </tr>\n",
       "    <tr>\n",
       "      <th>2</th>\n",
       "      <td>three</td>\n",
       "      <td>9</td>\n",
       "      <td>10</td>\n",
       "      <td>11.0</td>\n",
       "      <td>12</td>\n",
       "      <td>foo</td>\n",
       "    </tr>\n",
       "  </tbody>\n",
       "</table>\n",
       "</div>"
      ],
      "text/plain": [
       "  something  a   b     c   d message\n",
       "0       one  1   2   3.0   4     NaN\n",
       "1       two  5   6   NaN   8   world\n",
       "2     three  9  10  11.0  12     foo"
      ]
     },
     "execution_count": 27,
     "metadata": {},
     "output_type": "execute_result"
    }
   ],
   "source": [
    "result"
   ]
  },
  {
   "cell_type": "code",
   "execution_count": 28,
   "metadata": {},
   "outputs": [],
   "source": [
    "result = pd.read_csv('examples/ex5.csv', na_values=[4])"
   ]
  },
  {
   "cell_type": "code",
   "execution_count": 29,
   "metadata": {},
   "outputs": [
    {
     "data": {
      "text/html": [
       "<div>\n",
       "<style scoped>\n",
       "    .dataframe tbody tr th:only-of-type {\n",
       "        vertical-align: middle;\n",
       "    }\n",
       "\n",
       "    .dataframe tbody tr th {\n",
       "        vertical-align: top;\n",
       "    }\n",
       "\n",
       "    .dataframe thead th {\n",
       "        text-align: right;\n",
       "    }\n",
       "</style>\n",
       "<table border=\"1\" class=\"dataframe\">\n",
       "  <thead>\n",
       "    <tr style=\"text-align: right;\">\n",
       "      <th></th>\n",
       "      <th>something</th>\n",
       "      <th>a</th>\n",
       "      <th>b</th>\n",
       "      <th>c</th>\n",
       "      <th>d</th>\n",
       "      <th>message</th>\n",
       "    </tr>\n",
       "  </thead>\n",
       "  <tbody>\n",
       "    <tr>\n",
       "      <th>0</th>\n",
       "      <td>one</td>\n",
       "      <td>1</td>\n",
       "      <td>2</td>\n",
       "      <td>3.0</td>\n",
       "      <td>NaN</td>\n",
       "      <td>NaN</td>\n",
       "    </tr>\n",
       "    <tr>\n",
       "      <th>1</th>\n",
       "      <td>two</td>\n",
       "      <td>5</td>\n",
       "      <td>6</td>\n",
       "      <td>NaN</td>\n",
       "      <td>8.0</td>\n",
       "      <td>world</td>\n",
       "    </tr>\n",
       "    <tr>\n",
       "      <th>2</th>\n",
       "      <td>three</td>\n",
       "      <td>9</td>\n",
       "      <td>10</td>\n",
       "      <td>11.0</td>\n",
       "      <td>12.0</td>\n",
       "      <td>foo</td>\n",
       "    </tr>\n",
       "  </tbody>\n",
       "</table>\n",
       "</div>"
      ],
      "text/plain": [
       "  something  a   b     c     d message\n",
       "0       one  1   2   3.0   NaN     NaN\n",
       "1       two  5   6   NaN   8.0   world\n",
       "2     three  9  10  11.0  12.0     foo"
      ]
     },
     "execution_count": 29,
     "metadata": {},
     "output_type": "execute_result"
    }
   ],
   "source": [
    "result"
   ]
  },
  {
   "cell_type": "code",
   "execution_count": 30,
   "metadata": {},
   "outputs": [],
   "source": [
    "# 컬럼마다 다른 NA문자를 사전값으로 넘겨 처리할 수 있음\n",
    "sentinels = {'message': ['foo', 'NA'], 'something': ['two']}"
   ]
  },
  {
   "cell_type": "code",
   "execution_count": 31,
   "metadata": {},
   "outputs": [
    {
     "data": {
      "text/html": [
       "<div>\n",
       "<style scoped>\n",
       "    .dataframe tbody tr th:only-of-type {\n",
       "        vertical-align: middle;\n",
       "    }\n",
       "\n",
       "    .dataframe tbody tr th {\n",
       "        vertical-align: top;\n",
       "    }\n",
       "\n",
       "    .dataframe thead th {\n",
       "        text-align: right;\n",
       "    }\n",
       "</style>\n",
       "<table border=\"1\" class=\"dataframe\">\n",
       "  <thead>\n",
       "    <tr style=\"text-align: right;\">\n",
       "      <th></th>\n",
       "      <th>something</th>\n",
       "      <th>a</th>\n",
       "      <th>b</th>\n",
       "      <th>c</th>\n",
       "      <th>d</th>\n",
       "      <th>message</th>\n",
       "    </tr>\n",
       "  </thead>\n",
       "  <tbody>\n",
       "    <tr>\n",
       "      <th>0</th>\n",
       "      <td>one</td>\n",
       "      <td>1</td>\n",
       "      <td>2</td>\n",
       "      <td>3.0</td>\n",
       "      <td>4</td>\n",
       "      <td>NaN</td>\n",
       "    </tr>\n",
       "    <tr>\n",
       "      <th>1</th>\n",
       "      <td>NaN</td>\n",
       "      <td>5</td>\n",
       "      <td>6</td>\n",
       "      <td>NaN</td>\n",
       "      <td>8</td>\n",
       "      <td>world</td>\n",
       "    </tr>\n",
       "    <tr>\n",
       "      <th>2</th>\n",
       "      <td>three</td>\n",
       "      <td>9</td>\n",
       "      <td>10</td>\n",
       "      <td>11.0</td>\n",
       "      <td>12</td>\n",
       "      <td>NaN</td>\n",
       "    </tr>\n",
       "  </tbody>\n",
       "</table>\n",
       "</div>"
      ],
      "text/plain": [
       "  something  a   b     c   d message\n",
       "0       one  1   2   3.0   4     NaN\n",
       "1       NaN  5   6   NaN   8   world\n",
       "2     three  9  10  11.0  12     NaN"
      ]
     },
     "execution_count": 31,
     "metadata": {},
     "output_type": "execute_result"
    }
   ],
   "source": [
    "pd.read_csv('examples/ex5.csv', na_values=sentinels)"
   ]
  },
  {
   "cell_type": "markdown",
   "metadata": {},
   "source": [
    "### 파일의 일부분 혹은 여러 파일 중 몇 개의 파일만 읽어서 확인하는 경우"
   ]
  },
  {
   "cell_type": "code",
   "execution_count": 32,
   "metadata": {},
   "outputs": [],
   "source": [
    "# 최대 10개의 데이터만 출력\n",
    "pd.options.display.max_rows =  10"
   ]
  },
  {
   "cell_type": "code",
   "execution_count": 33,
   "metadata": {},
   "outputs": [],
   "source": [
    "result = pd.read_csv('examples/ex6.csv')"
   ]
  },
  {
   "cell_type": "code",
   "execution_count": 34,
   "metadata": {},
   "outputs": [
    {
     "data": {
      "text/html": [
       "<div>\n",
       "<style scoped>\n",
       "    .dataframe tbody tr th:only-of-type {\n",
       "        vertical-align: middle;\n",
       "    }\n",
       "\n",
       "    .dataframe tbody tr th {\n",
       "        vertical-align: top;\n",
       "    }\n",
       "\n",
       "    .dataframe thead th {\n",
       "        text-align: right;\n",
       "    }\n",
       "</style>\n",
       "<table border=\"1\" class=\"dataframe\">\n",
       "  <thead>\n",
       "    <tr style=\"text-align: right;\">\n",
       "      <th></th>\n",
       "      <th>one</th>\n",
       "      <th>two</th>\n",
       "      <th>three</th>\n",
       "      <th>four</th>\n",
       "      <th>key</th>\n",
       "    </tr>\n",
       "  </thead>\n",
       "  <tbody>\n",
       "    <tr>\n",
       "      <th>0</th>\n",
       "      <td>0.467976</td>\n",
       "      <td>-0.038649</td>\n",
       "      <td>-0.295344</td>\n",
       "      <td>-1.824726</td>\n",
       "      <td>L</td>\n",
       "    </tr>\n",
       "    <tr>\n",
       "      <th>1</th>\n",
       "      <td>-0.358893</td>\n",
       "      <td>1.404453</td>\n",
       "      <td>0.704965</td>\n",
       "      <td>-0.200638</td>\n",
       "      <td>B</td>\n",
       "    </tr>\n",
       "    <tr>\n",
       "      <th>2</th>\n",
       "      <td>-0.501840</td>\n",
       "      <td>0.659254</td>\n",
       "      <td>-0.421691</td>\n",
       "      <td>-0.057688</td>\n",
       "      <td>G</td>\n",
       "    </tr>\n",
       "    <tr>\n",
       "      <th>3</th>\n",
       "      <td>0.204886</td>\n",
       "      <td>1.074134</td>\n",
       "      <td>1.388361</td>\n",
       "      <td>-0.982404</td>\n",
       "      <td>R</td>\n",
       "    </tr>\n",
       "    <tr>\n",
       "      <th>4</th>\n",
       "      <td>0.354628</td>\n",
       "      <td>-0.133116</td>\n",
       "      <td>0.283763</td>\n",
       "      <td>-0.837063</td>\n",
       "      <td>Q</td>\n",
       "    </tr>\n",
       "    <tr>\n",
       "      <th>...</th>\n",
       "      <td>...</td>\n",
       "      <td>...</td>\n",
       "      <td>...</td>\n",
       "      <td>...</td>\n",
       "      <td>...</td>\n",
       "    </tr>\n",
       "    <tr>\n",
       "      <th>9995</th>\n",
       "      <td>2.311896</td>\n",
       "      <td>-0.417070</td>\n",
       "      <td>-1.409599</td>\n",
       "      <td>-0.515821</td>\n",
       "      <td>L</td>\n",
       "    </tr>\n",
       "    <tr>\n",
       "      <th>9996</th>\n",
       "      <td>-0.479893</td>\n",
       "      <td>-0.650419</td>\n",
       "      <td>0.745152</td>\n",
       "      <td>-0.646038</td>\n",
       "      <td>E</td>\n",
       "    </tr>\n",
       "    <tr>\n",
       "      <th>9997</th>\n",
       "      <td>0.523331</td>\n",
       "      <td>0.787112</td>\n",
       "      <td>0.486066</td>\n",
       "      <td>1.093156</td>\n",
       "      <td>K</td>\n",
       "    </tr>\n",
       "    <tr>\n",
       "      <th>9998</th>\n",
       "      <td>-0.362559</td>\n",
       "      <td>0.598894</td>\n",
       "      <td>-1.843201</td>\n",
       "      <td>0.887292</td>\n",
       "      <td>G</td>\n",
       "    </tr>\n",
       "    <tr>\n",
       "      <th>9999</th>\n",
       "      <td>-0.096376</td>\n",
       "      <td>-1.012999</td>\n",
       "      <td>-0.657431</td>\n",
       "      <td>-0.573315</td>\n",
       "      <td>0</td>\n",
       "    </tr>\n",
       "  </tbody>\n",
       "</table>\n",
       "<p>10000 rows × 5 columns</p>\n",
       "</div>"
      ],
      "text/plain": [
       "           one       two     three      four key\n",
       "0     0.467976 -0.038649 -0.295344 -1.824726   L\n",
       "1    -0.358893  1.404453  0.704965 -0.200638   B\n",
       "2    -0.501840  0.659254 -0.421691 -0.057688   G\n",
       "3     0.204886  1.074134  1.388361 -0.982404   R\n",
       "4     0.354628 -0.133116  0.283763 -0.837063   Q\n",
       "...        ...       ...       ...       ...  ..\n",
       "9995  2.311896 -0.417070 -1.409599 -0.515821   L\n",
       "9996 -0.479893 -0.650419  0.745152 -0.646038   E\n",
       "9997  0.523331  0.787112  0.486066  1.093156   K\n",
       "9998 -0.362559  0.598894 -1.843201  0.887292   G\n",
       "9999 -0.096376 -1.012999 -0.657431 -0.573315   0\n",
       "\n",
       "[10000 rows x 5 columns]"
      ]
     },
     "execution_count": 34,
     "metadata": {},
     "output_type": "execute_result"
    }
   ],
   "source": [
    "result"
   ]
  },
  {
   "cell_type": "code",
   "execution_count": 35,
   "metadata": {},
   "outputs": [
    {
     "data": {
      "text/html": [
       "<div>\n",
       "<style scoped>\n",
       "    .dataframe tbody tr th:only-of-type {\n",
       "        vertical-align: middle;\n",
       "    }\n",
       "\n",
       "    .dataframe tbody tr th {\n",
       "        vertical-align: top;\n",
       "    }\n",
       "\n",
       "    .dataframe thead th {\n",
       "        text-align: right;\n",
       "    }\n",
       "</style>\n",
       "<table border=\"1\" class=\"dataframe\">\n",
       "  <thead>\n",
       "    <tr style=\"text-align: right;\">\n",
       "      <th></th>\n",
       "      <th>one</th>\n",
       "      <th>two</th>\n",
       "      <th>three</th>\n",
       "      <th>four</th>\n",
       "      <th>key</th>\n",
       "    </tr>\n",
       "  </thead>\n",
       "  <tbody>\n",
       "    <tr>\n",
       "      <th>0</th>\n",
       "      <td>0.467976</td>\n",
       "      <td>-0.038649</td>\n",
       "      <td>-0.295344</td>\n",
       "      <td>-1.824726</td>\n",
       "      <td>L</td>\n",
       "    </tr>\n",
       "    <tr>\n",
       "      <th>1</th>\n",
       "      <td>-0.358893</td>\n",
       "      <td>1.404453</td>\n",
       "      <td>0.704965</td>\n",
       "      <td>-0.200638</td>\n",
       "      <td>B</td>\n",
       "    </tr>\n",
       "    <tr>\n",
       "      <th>2</th>\n",
       "      <td>-0.501840</td>\n",
       "      <td>0.659254</td>\n",
       "      <td>-0.421691</td>\n",
       "      <td>-0.057688</td>\n",
       "      <td>G</td>\n",
       "    </tr>\n",
       "    <tr>\n",
       "      <th>3</th>\n",
       "      <td>0.204886</td>\n",
       "      <td>1.074134</td>\n",
       "      <td>1.388361</td>\n",
       "      <td>-0.982404</td>\n",
       "      <td>R</td>\n",
       "    </tr>\n",
       "    <tr>\n",
       "      <th>4</th>\n",
       "      <td>0.354628</td>\n",
       "      <td>-0.133116</td>\n",
       "      <td>0.283763</td>\n",
       "      <td>-0.837063</td>\n",
       "      <td>Q</td>\n",
       "    </tr>\n",
       "  </tbody>\n",
       "</table>\n",
       "</div>"
      ],
      "text/plain": [
       "        one       two     three      four key\n",
       "0  0.467976 -0.038649 -0.295344 -1.824726   L\n",
       "1 -0.358893  1.404453  0.704965 -0.200638   B\n",
       "2 -0.501840  0.659254 -0.421691 -0.057688   G\n",
       "3  0.204886  1.074134  1.388361 -0.982404   R\n",
       "4  0.354628 -0.133116  0.283763 -0.837063   Q"
      ]
     },
     "execution_count": 35,
     "metadata": {},
     "output_type": "execute_result"
    }
   ],
   "source": [
    "# 처음 몇 줄만 읽고 싶다면 nrows 옵션 주기\n",
    "pd.read_csv('examples/ex6.csv', nrows=5)"
   ]
  },
  {
   "cell_type": "code",
   "execution_count": 36,
   "metadata": {},
   "outputs": [],
   "source": [
    "# 파일을 여러 조각으로 나누어 읽고 싶다면 chunksize 옵션 주기\n",
    "chunker = pd.read_csv('examples/ex6.csv', chunksize=1000)"
   ]
  },
  {
   "cell_type": "code",
   "execution_count": 37,
   "metadata": {},
   "outputs": [
    {
     "data": {
      "text/plain": [
       "<pandas.io.parsers.TextFileReader at 0x11dabd8d0>"
      ]
     },
     "execution_count": 37,
     "metadata": {},
     "output_type": "execute_result"
    }
   ],
   "source": [
    "chunker"
   ]
  },
  {
   "cell_type": "code",
   "execution_count": 38,
   "metadata": {},
   "outputs": [
    {
     "name": "stderr",
     "output_type": "stream",
     "text": [
      "/Users/adorable_hj/opt/anaconda3/lib/python3.7/site-packages/ipykernel_launcher.py:2: DeprecationWarning: The default dtype for empty Series will be 'object' instead of 'float64' in a future version. Specify a dtype explicitly to silence this warning.\n",
      "  \n"
     ]
    }
   ],
   "source": [
    "# ex6.csv 파일을 순회하면서 'key' 로우에 있는 값을 세어보기\n",
    "tot = pd.Series([])"
   ]
  },
  {
   "cell_type": "code",
   "execution_count": 39,
   "metadata": {},
   "outputs": [],
   "source": [
    "for piece in chunker:\n",
    "    tot = tot.add(piece['key'].value_counts(), fill_value=0)"
   ]
  },
  {
   "cell_type": "code",
   "execution_count": 40,
   "metadata": {},
   "outputs": [],
   "source": [
    "tot = tot.sort_values(ascending=False)"
   ]
  },
  {
   "cell_type": "code",
   "execution_count": 41,
   "metadata": {},
   "outputs": [
    {
     "data": {
      "text/plain": [
       "E    368.0\n",
       "X    364.0\n",
       "L    346.0\n",
       "O    343.0\n",
       "Q    340.0\n",
       "M    338.0\n",
       "J    337.0\n",
       "F    335.0\n",
       "K    334.0\n",
       "H    330.0\n",
       "dtype: float64"
      ]
     },
     "execution_count": 41,
     "metadata": {},
     "output_type": "execute_result"
    }
   ],
   "source": [
    "tot[:10]"
   ]
  },
  {
   "cell_type": "code",
   "execution_count": 42,
   "metadata": {},
   "outputs": [
    {
     "data": {
      "text/plain": [
       "E    368.0\n",
       "X    364.0\n",
       "L    346.0\n",
       "O    343.0\n",
       "Q    340.0\n",
       "     ...  \n",
       "5    157.0\n",
       "2    152.0\n",
       "0    151.0\n",
       "9    150.0\n",
       "1    146.0\n",
       "Length: 36, dtype: float64"
      ]
     },
     "execution_count": 42,
     "metadata": {},
     "output_type": "execute_result"
    }
   ],
   "source": [
    "tot"
   ]
  },
  {
   "cell_type": "code",
   "execution_count": 43,
   "metadata": {},
   "outputs": [],
   "source": [
    "# 내보내는 것 또한 구분자로 구분하여 파일을 생성할 수 있다\n",
    "data = pd.read_csv('examples/ex5.csv')"
   ]
  },
  {
   "cell_type": "code",
   "execution_count": 44,
   "metadata": {},
   "outputs": [
    {
     "data": {
      "text/html": [
       "<div>\n",
       "<style scoped>\n",
       "    .dataframe tbody tr th:only-of-type {\n",
       "        vertical-align: middle;\n",
       "    }\n",
       "\n",
       "    .dataframe tbody tr th {\n",
       "        vertical-align: top;\n",
       "    }\n",
       "\n",
       "    .dataframe thead th {\n",
       "        text-align: right;\n",
       "    }\n",
       "</style>\n",
       "<table border=\"1\" class=\"dataframe\">\n",
       "  <thead>\n",
       "    <tr style=\"text-align: right;\">\n",
       "      <th></th>\n",
       "      <th>something</th>\n",
       "      <th>a</th>\n",
       "      <th>b</th>\n",
       "      <th>c</th>\n",
       "      <th>d</th>\n",
       "      <th>message</th>\n",
       "    </tr>\n",
       "  </thead>\n",
       "  <tbody>\n",
       "    <tr>\n",
       "      <th>0</th>\n",
       "      <td>one</td>\n",
       "      <td>1</td>\n",
       "      <td>2</td>\n",
       "      <td>3.0</td>\n",
       "      <td>4</td>\n",
       "      <td>NaN</td>\n",
       "    </tr>\n",
       "    <tr>\n",
       "      <th>1</th>\n",
       "      <td>two</td>\n",
       "      <td>5</td>\n",
       "      <td>6</td>\n",
       "      <td>NaN</td>\n",
       "      <td>8</td>\n",
       "      <td>world</td>\n",
       "    </tr>\n",
       "    <tr>\n",
       "      <th>2</th>\n",
       "      <td>three</td>\n",
       "      <td>9</td>\n",
       "      <td>10</td>\n",
       "      <td>11.0</td>\n",
       "      <td>12</td>\n",
       "      <td>foo</td>\n",
       "    </tr>\n",
       "  </tbody>\n",
       "</table>\n",
       "</div>"
      ],
      "text/plain": [
       "  something  a   b     c   d message\n",
       "0       one  1   2   3.0   4     NaN\n",
       "1       two  5   6   NaN   8   world\n",
       "2     three  9  10  11.0  12     foo"
      ]
     },
     "execution_count": 44,
     "metadata": {},
     "output_type": "execute_result"
    }
   ],
   "source": [
    "data"
   ]
  },
  {
   "cell_type": "code",
   "execution_count": 45,
   "metadata": {},
   "outputs": [],
   "source": [
    "# DataFrame의 to_csv(): 데이터를 쉼표로 구분된 형식으로 파일 생성\n",
    "data.to_csv('examples/out.csv')"
   ]
  },
  {
   "cell_type": "code",
   "execution_count": 46,
   "metadata": {},
   "outputs": [
    {
     "name": "stdout",
     "output_type": "stream",
     "text": [
      ",something,a,b,c,d,message\r\n",
      "0,one,1,2,3.0,4,\r\n",
      "1,two,5,6,,8,world\r\n",
      "2,three,9,10,11.0,12,foo\r\n"
     ]
    }
   ],
   "source": [
    "!cat examples/out.csv"
   ]
  },
  {
   "cell_type": "code",
   "execution_count": 47,
   "metadata": {},
   "outputs": [
    {
     "name": "stdout",
     "output_type": "stream",
     "text": [
      "|something|a|b|c|d|message\n",
      "0|one|1|2|3.0|4|\n",
      "1|two|5|6||8|world\n",
      "2|three|9|10|11.0|12|foo\n"
     ]
    }
   ],
   "source": [
    "# 다른 구분자 또한 가능 (실제 파일 기록 없이 콘솔에서 확인하기 위해 sys 모듈 필요- sys.stdout에 결과 기록)\n",
    "import sys\n",
    "data.to_csv(sys.stdout, sep='|')"
   ]
  },
  {
   "cell_type": "code",
   "execution_count": 48,
   "metadata": {},
   "outputs": [
    {
     "name": "stdout",
     "output_type": "stream",
     "text": [
      ",something,a,b,c,d,message\n",
      "0,one,1,2,3.0,4,NULL\n",
      "1,two,5,6,NULL,8,world\n",
      "2,three,9,10,11.0,12,foo\n"
     ]
    }
   ],
   "source": [
    "# 누락된 값은 비어 있는 문자열로 나타남, 이것 역시 원하는 값으로 지정.\n",
    "data.to_csv(sys.stdout, na_rep='NULL')"
   ]
  },
  {
   "cell_type": "code",
   "execution_count": 49,
   "metadata": {},
   "outputs": [
    {
     "name": "stdout",
     "output_type": "stream",
     "text": [
      ":something:a:b:c:d:message\n",
      "0:one:1:2:3.0:4:NULL\n",
      "1:two:5:6:NULL:8:world\n",
      "2:three:9:10:11.0:12:foo\n"
     ]
    }
   ],
   "source": [
    "data.to_csv(sys.stdout, na_rep='NULL', sep=':')"
   ]
  },
  {
   "cell_type": "code",
   "execution_count": 50,
   "metadata": {},
   "outputs": [
    {
     "name": "stdout",
     "output_type": "stream",
     "text": [
      "one,1,2,3.0,4,\n",
      "two,5,6,,8,world\n",
      "three,9,10,11.0,12,foo\n"
     ]
    }
   ],
   "source": [
    "# 다른 옵션을 명시하지 않으면 로우와 컬럼 이름이 기록\n",
    "# 로우와 컬럼 이름을 포함하지 않으려면 index, header 옵션 지정\n",
    "data.to_csv(sys.stdout, index=False, header=False)"
   ]
  },
  {
   "cell_type": "code",
   "execution_count": 51,
   "metadata": {},
   "outputs": [
    {
     "name": "stdout",
     "output_type": "stream",
     "text": [
      "a,b,c\n",
      "1,2,3.0\n",
      "5,6,\n",
      "9,10,11.0\n"
     ]
    }
   ],
   "source": [
    "# 컬럼의 일부만 기록할 수 있으며, 순서를 직접 지정할 수 있음.\n",
    "data.to_csv(sys.stdout, index=False, columns=['a', 'b', 'c'])"
   ]
  },
  {
   "cell_type": "code",
   "execution_count": 52,
   "metadata": {},
   "outputs": [],
   "source": [
    "# Series에도 to_csv 메서드가 존재\n",
    "dates = pd.date_range('1/1/2000', periods=7)"
   ]
  },
  {
   "cell_type": "code",
   "execution_count": 53,
   "metadata": {},
   "outputs": [],
   "source": [
    "ts = pd.Series(np.arange(7), index=dates)"
   ]
  },
  {
   "cell_type": "code",
   "execution_count": 54,
   "metadata": {},
   "outputs": [],
   "source": [
    "ts.to_csv('examples/tseries.csv')"
   ]
  },
  {
   "cell_type": "code",
   "execution_count": 55,
   "metadata": {},
   "outputs": [
    {
     "name": "stdout",
     "output_type": "stream",
     "text": [
      ",0\r\n",
      "2000-01-01,0\r\n",
      "2000-01-02,1\r\n",
      "2000-01-03,2\r\n",
      "2000-01-04,3\r\n",
      "2000-01-05,4\r\n",
      "2000-01-06,5\r\n",
      "2000-01-07,6\r\n"
     ]
    }
   ],
   "source": [
    "!cat examples/tseries.csv # 엥 실행결과에 ,0은 뭐지 컬럼?"
   ]
  },
  {
   "cell_type": "markdown",
   "metadata": {},
   "source": [
    "### 구분자 형식 다루기\n",
    "* read_table 함수가 데이터를 불러오는 것을 실패하게끔 만드는 잘못된 라인이 포함되어 있는 데이터 존재\n",
    "* 작은 csv 파일을 불러오는 과정으로 기본적인 도구 사용법 익히기"
   ]
  },
  {
   "cell_type": "code",
   "execution_count": 56,
   "metadata": {},
   "outputs": [
    {
     "name": "stdout",
     "output_type": "stream",
     "text": [
      "\"a\",\"b\",\"c\"\r\n",
      "\"1\",\"2\",\"3\"\r\n",
      "\"1\",\"2\",\"3\"\r\n"
     ]
    }
   ],
   "source": [
    "!cat examples/ex7.csv"
   ]
  },
  {
   "cell_type": "code",
   "execution_count": 57,
   "metadata": {},
   "outputs": [],
   "source": [
    "# 구분자가 한 글자인 파일은 파이썬 내장 csv 모듈을 이용해서 처리할 수 있음\n",
    "# 열려진 파일을 csv.reader()에 넘기면 됨\n",
    "import csv"
   ]
  },
  {
   "cell_type": "code",
   "execution_count": 58,
   "metadata": {},
   "outputs": [],
   "source": [
    "f = open('examples/ex7.csv')"
   ]
  },
  {
   "cell_type": "code",
   "execution_count": 59,
   "metadata": {},
   "outputs": [],
   "source": [
    "reader = csv.reader(f)"
   ]
  },
  {
   "cell_type": "code",
   "execution_count": 60,
   "metadata": {},
   "outputs": [
    {
     "name": "stdout",
     "output_type": "stream",
     "text": [
      "['a', 'b', 'c']\n",
      "['1', '2', '3']\n",
      "['1', '2', '3']\n"
     ]
    }
   ],
   "source": [
    "# 파일을 읽듯 reader를 순회하면 둘러싸고 있는 큰따옴표가 제거된 튜플을 얻을 수 있음 (튜플? 리스트 아닌가?)\n",
    "for line in reader:\n",
    "    print(line)"
   ]
  },
  {
   "cell_type": "code",
   "execution_count": 66,
   "metadata": {},
   "outputs": [
    {
     "data": {
      "text/plain": [
       "list"
      ]
     },
     "execution_count": 66,
     "metadata": {},
     "output_type": "execute_result"
    }
   ],
   "source": [
    "# 리스트 맞네 ~!~~!~!\n",
    "type(line)"
   ]
  },
  {
   "cell_type": "code",
   "execution_count": 87,
   "metadata": {},
   "outputs": [],
   "source": [
    "# 원하는 형태로 데이터 넣기1: 파일을 읽어 줄 단위 리스트로 저장\n",
    "with open('examples/ex7.csv') as f:\n",
    "    lines = list(csv.reader(f))"
   ]
  },
  {
   "cell_type": "code",
   "execution_count": 68,
   "metadata": {},
   "outputs": [],
   "source": [
    "header, values = lines[0], lines[1:]"
   ]
  },
  {
   "cell_type": "code",
   "execution_count": 69,
   "metadata": {},
   "outputs": [
    {
     "data": {
      "text/plain": [
       "['a', 'b', 'c']"
      ]
     },
     "execution_count": 69,
     "metadata": {},
     "output_type": "execute_result"
    }
   ],
   "source": [
    "header"
   ]
  },
  {
   "cell_type": "code",
   "execution_count": 70,
   "metadata": {},
   "outputs": [
    {
     "data": {
      "text/plain": [
       "[['1', '2', '3'], ['1', '2', '3']]"
      ]
     },
     "execution_count": 70,
     "metadata": {},
     "output_type": "execute_result"
    }
   ],
   "source": [
    "values"
   ]
  },
  {
   "cell_type": "code",
   "execution_count": 71,
   "metadata": {},
   "outputs": [],
   "source": [
    "# zip(*values)를 이용해서 데이터 컬럼 사전 만들기\n",
    "# zip(): 사전 표기법과 로우를 컬럼으로 전치해주는 함수\n",
    "data_dict = {h: v for h, v in zip(header, zip(*values))}"
   ]
  },
  {
   "cell_type": "code",
   "execution_count": 72,
   "metadata": {},
   "outputs": [
    {
     "data": {
      "text/plain": [
       "{'a': ('1', '1'), 'b': ('2', '2'), 'c': ('3', '3')}"
      ]
     },
     "execution_count": 72,
     "metadata": {},
     "output_type": "execute_result"
    }
   ],
   "source": [
    "data_dict"
   ]
  },
  {
   "cell_type": "code",
   "execution_count": 88,
   "metadata": {},
   "outputs": [],
   "source": [
    "# CSV 파일은 다양한 형태로 존재\n",
    "# 다양한 구분자, 문자열 둘러싸는 방법, 개행 문자 등은 csv.Dialect를 상속받아 새로운 클래스 정의 후 해결 가능\n",
    "class my_dialect(csv.Dialect):\n",
    "    lineterminator = '\\n'\n",
    "    delimiter = ';'\n",
    "    quotechar = '\"'\n",
    "    quoting = csv.QUOTE_MINIMAL"
   ]
  },
  {
   "cell_type": "code",
   "execution_count": 89,
   "metadata": {},
   "outputs": [
    {
     "ename": "TypeError",
     "evalue": "argument 1 must be an iterator",
     "output_type": "error",
     "traceback": [
      "\u001b[0;31m---------------------------------------------------------------------------\u001b[0m",
      "\u001b[0;31mTypeError\u001b[0m                                 Traceback (most recent call last)",
      "\u001b[0;32m<ipython-input-89-52ac1fdbe3c8>\u001b[0m in \u001b[0;36m<module>\u001b[0;34m\u001b[0m\n\u001b[0;32m----> 1\u001b[0;31m \u001b[0mreader\u001b[0m \u001b[0;34m=\u001b[0m \u001b[0mcsv\u001b[0m\u001b[0;34m.\u001b[0m\u001b[0mreader\u001b[0m\u001b[0;34m(\u001b[0m\u001b[0mf\u001b[0m\u001b[0;34m,\u001b[0m \u001b[0mdialect\u001b[0m\u001b[0;34m=\u001b[0m\u001b[0mmy_dialect\u001b[0m\u001b[0;34m)\u001b[0m\u001b[0;34m\u001b[0m\u001b[0;34m\u001b[0m\u001b[0m\n\u001b[0m",
      "\u001b[0;31mTypeError\u001b[0m: argument 1 must be an iterator"
     ]
    }
   ],
   "source": [
    "reader = csv.reader(f, dialect=my_dialect)"
   ]
  },
  {
   "cell_type": "code",
   "execution_count": 79,
   "metadata": {},
   "outputs": [
    {
     "data": {
      "text/plain": [
       "<_io.TextIOWrapper name='examples/ex7.csv' mode='r' encoding='UTF-8'>"
      ]
     },
     "execution_count": 79,
     "metadata": {},
     "output_type": "execute_result"
    }
   ],
   "source": [
    "f"
   ]
  },
  {
   "cell_type": "code",
   "execution_count": 82,
   "metadata": {},
   "outputs": [
    {
     "ename": "TypeError",
     "evalue": "argument 1 must be an iterator",
     "output_type": "error",
     "traceback": [
      "\u001b[0;31m---------------------------------------------------------------------------\u001b[0m",
      "\u001b[0;31mTypeError\u001b[0m                                 Traceback (most recent call last)",
      "\u001b[0;32m<ipython-input-82-cb03ed6e28ac>\u001b[0m in \u001b[0;36m<module>\u001b[0;34m\u001b[0m\n\u001b[0;32m----> 1\u001b[0;31m \u001b[0mreader\u001b[0m \u001b[0;34m=\u001b[0m \u001b[0mcsv\u001b[0m\u001b[0;34m.\u001b[0m\u001b[0mreader\u001b[0m\u001b[0;34m(\u001b[0m\u001b[0mf\u001b[0m\u001b[0;34m,\u001b[0m \u001b[0mdelimiter\u001b[0m\u001b[0;34m=\u001b[0m\u001b[0;34m'|'\u001b[0m\u001b[0;34m)\u001b[0m\u001b[0;34m\u001b[0m\u001b[0;34m\u001b[0m\u001b[0m\n\u001b[0m",
      "\u001b[0;31mTypeError\u001b[0m: argument 1 must be an iterator"
     ]
    }
   ],
   "source": [
    "reader = csv.reader(f, delimiter='|')"
   ]
  },
  {
   "cell_type": "code",
   "execution_count": 83,
   "metadata": {},
   "outputs": [],
   "source": [
    "# csv처럼 구분자로 구분된 파일을 기록하려면 csv.writer를 이용하면 됨\n",
    "# csv.writer는 이미 열린, 쓰기가 가능한 파일 객체를 받아서 csv.reader와 동일한 옵션으로 파일 기록\n",
    "with open('mydata.csv', 'w') as f:\n",
    "    writer = csv.writer(f, dialect=my_dialect)\n",
    "    writer.writerow(('one', 'two', 'three'))\n",
    "    writer.writerow(('1', '2', '3'))\n",
    "    writer.writerow(('4', '5', '6'))\n",
    "    writer.writerow(('7', '8', '9'))    "
   ]
  },
  {
   "cell_type": "markdown",
   "metadata": {},
   "source": [
    "### JSON 데이터\n",
    "* JSON은 웹브라우저와 다른 애플리케이션이 HTTP 요청으로 데이터를 보낼 때 널리 사용하는 표준 파일 형식 중 하나\n",
    "* csv같은 표 형식의 텍스트보다 좀 더 유연한 데이터 형식\n",
    "* 널값(null)과 다른 몇 가지 미묘한 차이를 제외하면 파이썬 코드와 거의 유사\n",
    "<pre>JSON\n",
    " * 기본 자료형: 객체(사전), 배열(리스트), 문자열, 숫자, 불리언, 그리고 널\n",
    " * 객체의 키는 반드시 문자열!\n",
    "</pre>\n",
    "* JSON 데이터를 읽고 쓸 수 있는 파이썬 라이브러리가 몇 가지 있는데 여기서 파이썬 표준 라이브러리인 json 사용\n",
    "* JSON 문자열을 파이썬 형태로 변환하기 위해서는 json.loads 사용"
   ]
  },
  {
   "cell_type": "code",
   "execution_count": 104,
   "metadata": {},
   "outputs": [],
   "source": [
    "obj = \"\"\"\n",
    "{\"name\": \"Wes\",\n",
    " \"Places_lived\": [\"United States\", \"Spain\", \"Germany\"],\n",
    " \"pet\": null,\n",
    " \"siblings\": [{\"name\": \"Scott\", \"age\": 30, \"pets\": [\"Zeus\", \"Zuko\"]},\n",
    "              {\"name\": \"Katie\", \"age\": 38, \"pets\": [\"Sixes\", \"Stache\", \"Cisco\"]}]\n",
    "}\n",
    "\"\"\""
   ]
  },
  {
   "cell_type": "code",
   "execution_count": 105,
   "metadata": {},
   "outputs": [
    {
     "data": {
      "text/plain": [
       "'\\n{\"name\": \"Wes\",\\n \"Places_lived\": [\"United States\", \"Spain\", \"Germany\"],\\n \"pet\": null,\\n \"siblings\": [{\"name\": \"Scott\", \"age\": 30, \"pets\": [\"Zeus\", \"Zuko\"]},\\n              {\"name\": \"Katie\", \"age\": 38, \"pets\": [\"Sixes\", \"Stache\", \"Cisco\"]}]\\n}\\n'"
      ]
     },
     "execution_count": 105,
     "metadata": {},
     "output_type": "execute_result"
    }
   ],
   "source": [
    "obj"
   ]
  },
  {
   "cell_type": "code",
   "execution_count": 91,
   "metadata": {},
   "outputs": [],
   "source": [
    "import json"
   ]
  },
  {
   "cell_type": "code",
   "execution_count": 106,
   "metadata": {},
   "outputs": [],
   "source": [
    "result = json.loads(obj)"
   ]
  },
  {
   "cell_type": "code",
   "execution_count": 108,
   "metadata": {},
   "outputs": [
    {
     "data": {
      "text/plain": [
       "{'name': 'Wes',\n",
       " 'Places_lived': ['United States', 'Spain', 'Germany'],\n",
       " 'pet': None,\n",
       " 'siblings': [{'name': 'Scott', 'age': 30, 'pets': ['Zeus', 'Zuko']},\n",
       "  {'name': 'Katie', 'age': 38, 'pets': ['Sixes', 'Stache', 'Cisco']}]}"
      ]
     },
     "execution_count": 108,
     "metadata": {},
     "output_type": "execute_result"
    }
   ],
   "source": [
    "result"
   ]
  },
  {
   "cell_type": "code",
   "execution_count": 107,
   "metadata": {},
   "outputs": [],
   "source": [
    "asjson = json.dumps(result)"
   ]
  },
  {
   "cell_type": "code",
   "execution_count": 109,
   "metadata": {},
   "outputs": [],
   "source": [
    "# JSON 객체나 객체의 리스트를 DataFrame이나 다른 자료구조로 변환해서 분석할 지는 각자의 몫!\n",
    "# JSON 객체의 리스트를 사전을 담고 있는 리스트로 변환하여 DataFrame 생성자로 넘겨 데이터 필드 선택 가능\n",
    "siblings = pd.DataFrame(result['siblings'], columns=['name', 'age'])"
   ]
  },
  {
   "cell_type": "code",
   "execution_count": 110,
   "metadata": {},
   "outputs": [
    {
     "data": {
      "text/html": [
       "<div>\n",
       "<style scoped>\n",
       "    .dataframe tbody tr th:only-of-type {\n",
       "        vertical-align: middle;\n",
       "    }\n",
       "\n",
       "    .dataframe tbody tr th {\n",
       "        vertical-align: top;\n",
       "    }\n",
       "\n",
       "    .dataframe thead th {\n",
       "        text-align: right;\n",
       "    }\n",
       "</style>\n",
       "<table border=\"1\" class=\"dataframe\">\n",
       "  <thead>\n",
       "    <tr style=\"text-align: right;\">\n",
       "      <th></th>\n",
       "      <th>name</th>\n",
       "      <th>age</th>\n",
       "    </tr>\n",
       "  </thead>\n",
       "  <tbody>\n",
       "    <tr>\n",
       "      <th>0</th>\n",
       "      <td>Scott</td>\n",
       "      <td>30</td>\n",
       "    </tr>\n",
       "    <tr>\n",
       "      <th>1</th>\n",
       "      <td>Katie</td>\n",
       "      <td>38</td>\n",
       "    </tr>\n",
       "  </tbody>\n",
       "</table>\n",
       "</div>"
      ],
      "text/plain": [
       "    name  age\n",
       "0  Scott   30\n",
       "1  Katie   38"
      ]
     },
     "execution_count": 110,
     "metadata": {},
     "output_type": "execute_result"
    }
   ],
   "source": [
    "siblings"
   ]
  },
  {
   "cell_type": "code",
   "execution_count": 111,
   "metadata": {},
   "outputs": [
    {
     "name": "stdout",
     "output_type": "stream",
     "text": [
      "[{\"a\": 1, \"b\": 2, \"c\": 3},\r\n",
      " {\"a\": 4, \"b\": 5, \"c\": 6},\r\n",
      " {\"a\": 7, \"b\": 8, \"c\": 9}]\r\n"
     ]
    }
   ],
   "source": [
    "!cat examples/example.json"
   ]
  },
  {
   "cell_type": "code",
   "execution_count": 112,
   "metadata": {},
   "outputs": [],
   "source": [
    "# 별도의 옵션이 없는 경우 pandas.read_json은 JSON 배열에 담긴 각 객체를 테이블의 로우로 간주\n",
    "data = pd.read_json('examples/example.json')"
   ]
  },
  {
   "cell_type": "code",
   "execution_count": 113,
   "metadata": {},
   "outputs": [
    {
     "data": {
      "text/html": [
       "<div>\n",
       "<style scoped>\n",
       "    .dataframe tbody tr th:only-of-type {\n",
       "        vertical-align: middle;\n",
       "    }\n",
       "\n",
       "    .dataframe tbody tr th {\n",
       "        vertical-align: top;\n",
       "    }\n",
       "\n",
       "    .dataframe thead th {\n",
       "        text-align: right;\n",
       "    }\n",
       "</style>\n",
       "<table border=\"1\" class=\"dataframe\">\n",
       "  <thead>\n",
       "    <tr style=\"text-align: right;\">\n",
       "      <th></th>\n",
       "      <th>a</th>\n",
       "      <th>b</th>\n",
       "      <th>c</th>\n",
       "    </tr>\n",
       "  </thead>\n",
       "  <tbody>\n",
       "    <tr>\n",
       "      <th>0</th>\n",
       "      <td>1</td>\n",
       "      <td>2</td>\n",
       "      <td>3</td>\n",
       "    </tr>\n",
       "    <tr>\n",
       "      <th>1</th>\n",
       "      <td>4</td>\n",
       "      <td>5</td>\n",
       "      <td>6</td>\n",
       "    </tr>\n",
       "    <tr>\n",
       "      <th>2</th>\n",
       "      <td>7</td>\n",
       "      <td>8</td>\n",
       "      <td>9</td>\n",
       "    </tr>\n",
       "  </tbody>\n",
       "</table>\n",
       "</div>"
      ],
      "text/plain": [
       "   a  b  c\n",
       "0  1  2  3\n",
       "1  4  5  6\n",
       "2  7  8  9"
      ]
     },
     "execution_count": 113,
     "metadata": {},
     "output_type": "execute_result"
    }
   ],
   "source": [
    "data"
   ]
  },
  {
   "cell_type": "code",
   "execution_count": 114,
   "metadata": {},
   "outputs": [
    {
     "name": "stdout",
     "output_type": "stream",
     "text": [
      "{\"a\":{\"0\":1,\"1\":4,\"2\":7},\"b\":{\"0\":2,\"1\":5,\"2\":8},\"c\":{\"0\":3,\"1\":6,\"2\":9}}\n"
     ]
    }
   ],
   "source": [
    "# pandas의 데이터를 JSON으로 저장하는 방법: Series나 DataFrame의 to_json 함수 이용\n",
    "print(data.to_json())"
   ]
  },
  {
   "cell_type": "code",
   "execution_count": 115,
   "metadata": {},
   "outputs": [
    {
     "name": "stdout",
     "output_type": "stream",
     "text": [
      "[{\"a\":1,\"b\":2,\"c\":3},{\"a\":4,\"b\":5,\"c\":6},{\"a\":7,\"b\":8,\"c\":9}]\n"
     ]
    }
   ],
   "source": [
    "print(data.to_json(orient='records'))"
   ]
  },
  {
   "cell_type": "markdown",
   "metadata": {},
   "source": [
    "### XML과 HTML: 웹 스크래핑\n",
    "* 파이썬에는 lxml, Beautiful Soup, html5lib 같은 HTML과 XML 형식의 데이터를 읽고 쓸 수 있는 라이브러리가 많음\n",
    "* 그 중에서도 lxml은 가장 빠르게 동작, 깨진 HTML과 XML 파일도 잘 처리함\n",
    "<pre> <b>pandas의 read_html 내장 함수</b>\n",
    " * lxml이나 Beautiful Soup 같은 라이브러리를 사용해서 자동으로 HTML 파일을 파싱하여 DataFrame으로 변환\n",
    " * 미연방예금보험공사에서 부도은행을 보여주는 HTML을 이용하여 실습을 진행해보자\n",
    "</pre>\n",
    "* 요약: HTML에서 데이터를 파싱하기 위해 내부적으로 lxml 또는 Beautiful Soup을 사용하는 pandas.read_html을 살펴봄"
   ]
  },
  {
   "cell_type": "code",
   "execution_count": 116,
   "metadata": {},
   "outputs": [],
   "source": [
    "# pandas.read_html 함수에는 다양한 함수 존재\n",
    "# 기본적으로 <table> 태그 안에 있는 모든 표 형식의 데이터 파싱 시도\n",
    "# 결과는 DataFrame 객체 리스트에 저장\n",
    "tables = pd.read_html('examples/fdic_failed_bank_list.html')"
   ]
  },
  {
   "cell_type": "code",
   "execution_count": 117,
   "metadata": {},
   "outputs": [
    {
     "data": {
      "text/plain": [
       "1"
      ]
     },
     "execution_count": 117,
     "metadata": {},
     "output_type": "execute_result"
    }
   ],
   "source": [
    "len(tables)"
   ]
  },
  {
   "cell_type": "code",
   "execution_count": 119,
   "metadata": {},
   "outputs": [],
   "source": [
    "failues = tables[0]"
   ]
  },
  {
   "cell_type": "code",
   "execution_count": 121,
   "metadata": {},
   "outputs": [
    {
     "data": {
      "text/html": [
       "<div>\n",
       "<style scoped>\n",
       "    .dataframe tbody tr th:only-of-type {\n",
       "        vertical-align: middle;\n",
       "    }\n",
       "\n",
       "    .dataframe tbody tr th {\n",
       "        vertical-align: top;\n",
       "    }\n",
       "\n",
       "    .dataframe thead th {\n",
       "        text-align: right;\n",
       "    }\n",
       "</style>\n",
       "<table border=\"1\" class=\"dataframe\">\n",
       "  <thead>\n",
       "    <tr style=\"text-align: right;\">\n",
       "      <th></th>\n",
       "      <th>Bank Name</th>\n",
       "      <th>City</th>\n",
       "      <th>ST</th>\n",
       "      <th>CERT</th>\n",
       "      <th>Acquiring Institution</th>\n",
       "      <th>Closing Date</th>\n",
       "      <th>Updated Date</th>\n",
       "    </tr>\n",
       "  </thead>\n",
       "  <tbody>\n",
       "    <tr>\n",
       "      <th>0</th>\n",
       "      <td>Allied Bank</td>\n",
       "      <td>Mulberry</td>\n",
       "      <td>AR</td>\n",
       "      <td>91</td>\n",
       "      <td>Today's Bank</td>\n",
       "      <td>September 23, 2016</td>\n",
       "      <td>November 17, 2016</td>\n",
       "    </tr>\n",
       "    <tr>\n",
       "      <th>1</th>\n",
       "      <td>The Woodbury Banking Company</td>\n",
       "      <td>Woodbury</td>\n",
       "      <td>GA</td>\n",
       "      <td>11297</td>\n",
       "      <td>United Bank</td>\n",
       "      <td>August 19, 2016</td>\n",
       "      <td>November 17, 2016</td>\n",
       "    </tr>\n",
       "    <tr>\n",
       "      <th>2</th>\n",
       "      <td>First CornerStone Bank</td>\n",
       "      <td>King of Prussia</td>\n",
       "      <td>PA</td>\n",
       "      <td>35312</td>\n",
       "      <td>First-Citizens Bank &amp; Trust Company</td>\n",
       "      <td>May 6, 2016</td>\n",
       "      <td>September 6, 2016</td>\n",
       "    </tr>\n",
       "    <tr>\n",
       "      <th>3</th>\n",
       "      <td>Trust Company Bank</td>\n",
       "      <td>Memphis</td>\n",
       "      <td>TN</td>\n",
       "      <td>9956</td>\n",
       "      <td>The Bank of Fayette County</td>\n",
       "      <td>April 29, 2016</td>\n",
       "      <td>September 6, 2016</td>\n",
       "    </tr>\n",
       "    <tr>\n",
       "      <th>4</th>\n",
       "      <td>North Milwaukee State Bank</td>\n",
       "      <td>Milwaukee</td>\n",
       "      <td>WI</td>\n",
       "      <td>20364</td>\n",
       "      <td>First-Citizens Bank &amp; Trust Company</td>\n",
       "      <td>March 11, 2016</td>\n",
       "      <td>June 16, 2016</td>\n",
       "    </tr>\n",
       "  </tbody>\n",
       "</table>\n",
       "</div>"
      ],
      "text/plain": [
       "                      Bank Name             City  ST   CERT  \\\n",
       "0                   Allied Bank         Mulberry  AR     91   \n",
       "1  The Woodbury Banking Company         Woodbury  GA  11297   \n",
       "2        First CornerStone Bank  King of Prussia  PA  35312   \n",
       "3            Trust Company Bank          Memphis  TN   9956   \n",
       "4    North Milwaukee State Bank        Milwaukee  WI  20364   \n",
       "\n",
       "                 Acquiring Institution        Closing Date       Updated Date  \n",
       "0                         Today's Bank  September 23, 2016  November 17, 2016  \n",
       "1                          United Bank     August 19, 2016  November 17, 2016  \n",
       "2  First-Citizens Bank & Trust Company         May 6, 2016  September 6, 2016  \n",
       "3           The Bank of Fayette County      April 29, 2016  September 6, 2016  \n",
       "4  First-Citizens Bank & Trust Company      March 11, 2016      June 16, 2016  "
      ]
     },
     "execution_count": 121,
     "metadata": {},
     "output_type": "execute_result"
    }
   ],
   "source": [
    "# failues 내에는 컬럼이 많으므로 pandas는 \\문자로 줄을 구분해서 보여줌 (그런데 화면 축소해봐도 그냥 표 형식으로 보여주넹)\n",
    "failues.head()"
   ]
  },
  {
   "cell_type": "code",
   "execution_count": 122,
   "metadata": {},
   "outputs": [],
   "source": [
    "# 데이터 정제나 연도별 부도은행 수 계산 등의 분석을 시작할 수 있음\n",
    "close_timestamps = pd.to_datetime(failues['Closing Date'])"
   ]
  },
  {
   "cell_type": "code",
   "execution_count": 123,
   "metadata": {},
   "outputs": [
    {
     "data": {
      "text/plain": [
       "2010    157\n",
       "2009    140\n",
       "2011     92\n",
       "2012     51\n",
       "2008     25\n",
       "       ... \n",
       "2004      4\n",
       "2001      4\n",
       "2007      3\n",
       "2003      3\n",
       "2000      2\n",
       "Name: Closing Date, Length: 15, dtype: int64"
      ]
     },
     "execution_count": 123,
     "metadata": {},
     "output_type": "execute_result"
    }
   ],
   "source": [
    "close_timestamps.dt.year.value_counts()"
   ]
  },
  {
   "cell_type": "markdown",
   "metadata": {},
   "source": [
    "### XML이란,\n",
    "* 계층적 구조와 메타데이터를 포하하는 중첩된 구조를 지원하는 유명한 데이터 형식\n",
    "* XML과 HTML은 구조적으로 유사하지만 XML이 좀 더 범용적\n",
    "* 여기서는 lxml을 통해 XML 형식에서 데이터를 파싱하는 방법을 살펴봄\n",
    "* 뉴욕 MTA 에서 제공하는 자료를 활용하여 분석 예제를 실습해보자!"
   ]
  },
  {
   "cell_type": "code",
   "execution_count": 124,
   "metadata": {},
   "outputs": [],
   "source": [
    "from lxml import objectify"
   ]
  },
  {
   "cell_type": "code",
   "execution_count": 127,
   "metadata": {},
   "outputs": [],
   "source": [
    "path = 'examples/mta_perf/Performance_MNR.xml'\n",
    "parsed = objectify.parse(open(path))\n",
    "root = parsed.getroot()"
   ]
  },
  {
   "cell_type": "code",
   "execution_count": 133,
   "metadata": {},
   "outputs": [],
   "source": [
    "# root.INDICATOR를 이용해서 모든 <INDICATOR> XML 엘리먼트를 끄집어낼 수 있다.\n",
    "# 각각의 항목에 대해 몇몇 태그는 제외하고 태그 이름을 키값으로 하는 사전을 만들어낼 수 있다\n",
    "data = []\n",
    "skip_fields = ['PARENT_SEQ', 'INDICATOR_SEQ', 'DESIRED_CHANGE', 'DECIMAL_PLACES']"
   ]
  },
  {
   "cell_type": "code",
   "execution_count": 129,
   "metadata": {},
   "outputs": [],
   "source": [
    "for elt in root.INDICATOR:\n",
    "    el_data = {}\n",
    "    for child in elt.getchildren():\n",
    "        if child.tag in skip_fields:\n",
    "            continue\n",
    "        el_data[child.tag] = child.pyval\n",
    "    data.append(el_data)"
   ]
  },
  {
   "cell_type": "code",
   "execution_count": 134,
   "metadata": {},
   "outputs": [],
   "source": [
    "# 위 사전 리스트를 DataFrame으로 변환\n",
    "perf = pd.DataFrame(data)"
   ]
  },
  {
   "cell_type": "code",
   "execution_count": 135,
   "metadata": {},
   "outputs": [
    {
     "data": {
      "text/plain": [
       "[]"
      ]
     },
     "execution_count": 135,
     "metadata": {},
     "output_type": "execute_result"
    }
   ],
   "source": [
    "# 실행결과 다름: 위에서 data에 append 해 줬는데 왜 빈 DataFrame? 위 코드를 수행 안 해야 하나?\n",
    "data"
   ]
  },
  {
   "cell_type": "code",
   "execution_count": 136,
   "metadata": {},
   "outputs": [
    {
     "data": {
      "text/html": [
       "<div>\n",
       "<style scoped>\n",
       "    .dataframe tbody tr th:only-of-type {\n",
       "        vertical-align: middle;\n",
       "    }\n",
       "\n",
       "    .dataframe tbody tr th {\n",
       "        vertical-align: top;\n",
       "    }\n",
       "\n",
       "    .dataframe thead th {\n",
       "        text-align: right;\n",
       "    }\n",
       "</style>\n",
       "<table border=\"1\" class=\"dataframe\">\n",
       "  <thead>\n",
       "    <tr style=\"text-align: right;\">\n",
       "      <th></th>\n",
       "    </tr>\n",
       "  </thead>\n",
       "  <tbody>\n",
       "  </tbody>\n",
       "</table>\n",
       "</div>"
      ],
      "text/plain": [
       "Empty DataFrame\n",
       "Columns: []\n",
       "Index: []"
      ]
     },
     "execution_count": 136,
     "metadata": {},
     "output_type": "execute_result"
    }
   ],
   "source": [
    "perf.head()"
   ]
  },
  {
   "cell_type": "code",
   "execution_count": 137,
   "metadata": {},
   "outputs": [],
   "source": [
    "from io import StringIO\n",
    "tag = '<a href=\"http://www.google.com\">Google</a>'\n",
    "root = objectify.parse(StringIO(tag)).getroot()"
   ]
  },
  {
   "cell_type": "code",
   "execution_count": 138,
   "metadata": {},
   "outputs": [
    {
     "data": {
      "text/plain": [
       "<Element a at 0x11fd815a0>"
      ]
     },
     "execution_count": 138,
     "metadata": {},
     "output_type": "execute_result"
    }
   ],
   "source": [
    "# 이제 태그나 링크 이름에서 어떤 필드(href와 같은)라도 접근 가능\n",
    "root"
   ]
  },
  {
   "cell_type": "code",
   "execution_count": 139,
   "metadata": {},
   "outputs": [
    {
     "data": {
      "text/plain": [
       "'http://www.google.com'"
      ]
     },
     "execution_count": 139,
     "metadata": {},
     "output_type": "execute_result"
    }
   ],
   "source": [
    "root.get('href')"
   ]
  },
  {
   "cell_type": "code",
   "execution_count": 140,
   "metadata": {},
   "outputs": [
    {
     "data": {
      "text/plain": [
       "'Google'"
      ]
     },
     "execution_count": 140,
     "metadata": {},
     "output_type": "execute_result"
    }
   ],
   "source": [
    "root.text"
   ]
  },
  {
   "cell_type": "markdown",
   "metadata": {},
   "source": [
    "## MARK: 이진 데이터 형식\n",
    "* 데이터를 효율적으로 저장하는 가장 손쉬운 방법: 파이썬에 기본으로 내장되어 있는 pickle 직렬화 사용 -> 데이터를 이진 형식으로 저장\n",
    "* Pandas 객체는 모두 pickle을 이용하여 데이터를 저장하는 to_pickle 메서드를 가지고 있음"
   ]
  },
  {
   "cell_type": "code",
   "execution_count": 141,
   "metadata": {},
   "outputs": [],
   "source": [
    "frame = pd.read_csv('examples/ex1.csv')"
   ]
  },
  {
   "cell_type": "code",
   "execution_count": 142,
   "metadata": {},
   "outputs": [
    {
     "data": {
      "text/html": [
       "<div>\n",
       "<style scoped>\n",
       "    .dataframe tbody tr th:only-of-type {\n",
       "        vertical-align: middle;\n",
       "    }\n",
       "\n",
       "    .dataframe tbody tr th {\n",
       "        vertical-align: top;\n",
       "    }\n",
       "\n",
       "    .dataframe thead th {\n",
       "        text-align: right;\n",
       "    }\n",
       "</style>\n",
       "<table border=\"1\" class=\"dataframe\">\n",
       "  <thead>\n",
       "    <tr style=\"text-align: right;\">\n",
       "      <th></th>\n",
       "      <th>a</th>\n",
       "      <th>b</th>\n",
       "      <th>c</th>\n",
       "      <th>d</th>\n",
       "      <th>message</th>\n",
       "    </tr>\n",
       "  </thead>\n",
       "  <tbody>\n",
       "    <tr>\n",
       "      <th>0</th>\n",
       "      <td>1</td>\n",
       "      <td>2</td>\n",
       "      <td>3</td>\n",
       "      <td>4</td>\n",
       "      <td>hello</td>\n",
       "    </tr>\n",
       "    <tr>\n",
       "      <th>1</th>\n",
       "      <td>5</td>\n",
       "      <td>6</td>\n",
       "      <td>7</td>\n",
       "      <td>8</td>\n",
       "      <td>world</td>\n",
       "    </tr>\n",
       "    <tr>\n",
       "      <th>2</th>\n",
       "      <td>9</td>\n",
       "      <td>10</td>\n",
       "      <td>11</td>\n",
       "      <td>12</td>\n",
       "      <td>foo</td>\n",
       "    </tr>\n",
       "  </tbody>\n",
       "</table>\n",
       "</div>"
      ],
      "text/plain": [
       "   a   b   c   d message\n",
       "0  1   2   3   4   hello\n",
       "1  5   6   7   8   world\n",
       "2  9  10  11  12     foo"
      ]
     },
     "execution_count": 142,
     "metadata": {},
     "output_type": "execute_result"
    }
   ],
   "source": [
    "frame"
   ]
  },
  {
   "cell_type": "code",
   "execution_count": 143,
   "metadata": {},
   "outputs": [],
   "source": [
    "frame.to_pickle('examples/frame_pickle')"
   ]
  },
  {
   "cell_type": "code",
   "execution_count": 144,
   "metadata": {},
   "outputs": [
    {
     "data": {
      "text/html": [
       "<div>\n",
       "<style scoped>\n",
       "    .dataframe tbody tr th:only-of-type {\n",
       "        vertical-align: middle;\n",
       "    }\n",
       "\n",
       "    .dataframe tbody tr th {\n",
       "        vertical-align: top;\n",
       "    }\n",
       "\n",
       "    .dataframe thead th {\n",
       "        text-align: right;\n",
       "    }\n",
       "</style>\n",
       "<table border=\"1\" class=\"dataframe\">\n",
       "  <thead>\n",
       "    <tr style=\"text-align: right;\">\n",
       "      <th></th>\n",
       "      <th>a</th>\n",
       "      <th>b</th>\n",
       "      <th>c</th>\n",
       "      <th>d</th>\n",
       "      <th>message</th>\n",
       "    </tr>\n",
       "  </thead>\n",
       "  <tbody>\n",
       "    <tr>\n",
       "      <th>0</th>\n",
       "      <td>1</td>\n",
       "      <td>2</td>\n",
       "      <td>3</td>\n",
       "      <td>4</td>\n",
       "      <td>hello</td>\n",
       "    </tr>\n",
       "    <tr>\n",
       "      <th>1</th>\n",
       "      <td>5</td>\n",
       "      <td>6</td>\n",
       "      <td>7</td>\n",
       "      <td>8</td>\n",
       "      <td>world</td>\n",
       "    </tr>\n",
       "    <tr>\n",
       "      <th>2</th>\n",
       "      <td>9</td>\n",
       "      <td>10</td>\n",
       "      <td>11</td>\n",
       "      <td>12</td>\n",
       "      <td>foo</td>\n",
       "    </tr>\n",
       "  </tbody>\n",
       "</table>\n",
       "</div>"
      ],
      "text/plain": [
       "   a   b   c   d message\n",
       "0  1   2   3   4   hello\n",
       "1  5   6   7   8   world\n",
       "2  9  10  11  12     foo"
      ]
     },
     "execution_count": 144,
     "metadata": {},
     "output_type": "execute_result"
    }
   ],
   "source": [
    "pd.read_pickle('examples/frame_pickle')"
   ]
  },
  {
   "cell_type": "markdown",
   "metadata": {},
   "source": [
    "### pickle\n",
    "* 오래 보관할 필요 없는 데이터일 경우 추천\n",
    "* 안정적으로 데이터를 저장하는 것을 보장하기 어려움\n",
    "  * 라이브러리 버전이 올라갔을 때 다시 읽어오지 못할 가능성이 존재하기 때문"
   ]
  },
  {
   "cell_type": "markdown",
   "metadata": {},
   "source": [
    "### pandas 지원 바이너리 포맷: HDF5, Message-Pack\n",
    "* 다양한 파일 형식이 실제 분석 작업에 얼마나 더 적절한지 직접 살펴볼 것\n",
    "<pre> Bcolz\n",
    " : Blocs 압축 알고리즘에 기반한 압축이 가능한 컬럼지향 바이너리 포맷\n",
    "</pre>\n",
    "<pre> Feather\n",
    " : R 커뮤니티의 해들리 위컴과 저자(웨스 맥키니)가 함께 설계한 컬럼 지향 파일 형식\n",
    " : 아파치 에로우의 메모리 포맷 사용\n",
    "</pre>"
   ]
  },
  {
   "cell_type": "markdown",
   "metadata": {},
   "source": [
    "### HDF5\n",
    "* Hierarchical Data Format의 약자로 계층적 데이터 형식이라는 뜻\n",
    "* 대량의 과학 계산용 배열 데이터를 저장하기 위해 고안된 파일 포맷\n",
    "* C 라이브러리로도 존재\n",
    "* 자바, 줄리아, 매트랩, 파이썬 같은 다양한 언어에서도 사용할 수 있는 인터페이스 제공\n",
    "<pre> 특징\n",
    " * 각각의 HDF5 파일은 여러 개의 데이터셋을 저장하고 부가 정보를 기록할 수 있음\n",
    " * 다양한 압축 기술을 사용해서 온더플라이(실시간) 압축을 지원\n",
    " * 반복되는 패턴을 가진 데이터를 좀 더 효과적으로 저장\n",
    " * 메모리에 모두 적재할 수 없는 큰 데이터를 아주 큰 배열에서 필요한 작은 부분들만 효과적으로 읽고 쓸 수 있는 선택\n",
    "</pre>\n",
    "* PyTables나 h5py 라이브러리를 이용하여 직접 HDF5 파일에 접근하는 것도 가능\n",
    "* 하지만 pandas는 Series나 DataFrame 객체로 간단히 저장할 수 있는 고수준의 인터페이스 제공\n",
    "* HDFStore 클래스는 사전처럼 작동하며 세밀한 요구사항도 잘 처리함"
   ]
  },
  {
   "cell_type": "code",
   "execution_count": 145,
   "metadata": {},
   "outputs": [],
   "source": [
    "frame = pd.DataFrame({'a': np.random.randn(100)})"
   ]
  },
  {
   "cell_type": "code",
   "execution_count": 148,
   "metadata": {},
   "outputs": [],
   "source": [
    "store = pd.HDFStore('mydata.h5')"
   ]
  },
  {
   "cell_type": "code",
   "execution_count": 149,
   "metadata": {},
   "outputs": [],
   "source": [
    "store['obj1'] = frame"
   ]
  },
  {
   "cell_type": "code",
   "execution_count": 150,
   "metadata": {},
   "outputs": [],
   "source": [
    "store['obj1_col'] = frame['a']"
   ]
  },
  {
   "cell_type": "code",
   "execution_count": 151,
   "metadata": {},
   "outputs": [
    {
     "data": {
      "text/plain": [
       "<class 'pandas.io.pytables.HDFStore'>\n",
       "File path: mydata.h5"
      ]
     },
     "execution_count": 151,
     "metadata": {},
     "output_type": "execute_result"
    }
   ],
   "source": [
    "# 책이랑 실행 결과가 다르넹 ;-; obj1, obj1_col 얘네 왜 안 보여주니,,\n",
    "store"
   ]
  },
  {
   "cell_type": "code",
   "execution_count": 152,
   "metadata": {},
   "outputs": [
    {
     "data": {
      "text/html": [
       "<div>\n",
       "<style scoped>\n",
       "    .dataframe tbody tr th:only-of-type {\n",
       "        vertical-align: middle;\n",
       "    }\n",
       "\n",
       "    .dataframe tbody tr th {\n",
       "        vertical-align: top;\n",
       "    }\n",
       "\n",
       "    .dataframe thead th {\n",
       "        text-align: right;\n",
       "    }\n",
       "</style>\n",
       "<table border=\"1\" class=\"dataframe\">\n",
       "  <thead>\n",
       "    <tr style=\"text-align: right;\">\n",
       "      <th></th>\n",
       "      <th>a</th>\n",
       "    </tr>\n",
       "  </thead>\n",
       "  <tbody>\n",
       "    <tr>\n",
       "      <th>0</th>\n",
       "      <td>-1.368615</td>\n",
       "    </tr>\n",
       "    <tr>\n",
       "      <th>1</th>\n",
       "      <td>-0.081137</td>\n",
       "    </tr>\n",
       "    <tr>\n",
       "      <th>2</th>\n",
       "      <td>1.515150</td>\n",
       "    </tr>\n",
       "    <tr>\n",
       "      <th>3</th>\n",
       "      <td>1.834070</td>\n",
       "    </tr>\n",
       "    <tr>\n",
       "      <th>4</th>\n",
       "      <td>1.487793</td>\n",
       "    </tr>\n",
       "    <tr>\n",
       "      <th>...</th>\n",
       "      <td>...</td>\n",
       "    </tr>\n",
       "    <tr>\n",
       "      <th>95</th>\n",
       "      <td>-1.695363</td>\n",
       "    </tr>\n",
       "    <tr>\n",
       "      <th>96</th>\n",
       "      <td>0.487169</td>\n",
       "    </tr>\n",
       "    <tr>\n",
       "      <th>97</th>\n",
       "      <td>-1.016358</td>\n",
       "    </tr>\n",
       "    <tr>\n",
       "      <th>98</th>\n",
       "      <td>-1.371219</td>\n",
       "    </tr>\n",
       "    <tr>\n",
       "      <th>99</th>\n",
       "      <td>-0.243983</td>\n",
       "    </tr>\n",
       "  </tbody>\n",
       "</table>\n",
       "<p>100 rows × 1 columns</p>\n",
       "</div>"
      ],
      "text/plain": [
       "           a\n",
       "0  -1.368615\n",
       "1  -0.081137\n",
       "2   1.515150\n",
       "3   1.834070\n",
       "4   1.487793\n",
       "..       ...\n",
       "95 -1.695363\n",
       "96  0.487169\n",
       "97 -1.016358\n",
       "98 -1.371219\n",
       "99 -0.243983\n",
       "\n",
       "[100 rows x 1 columns]"
      ]
     },
     "execution_count": 152,
     "metadata": {},
     "output_type": "execute_result"
    }
   ],
   "source": [
    "# HDF5 파일에 포함된 객체는 파이썬 사전과 유사한 형식으로 사용 가능\n",
    "store['obj1']"
   ]
  },
  {
   "cell_type": "code",
   "execution_count": 153,
   "metadata": {},
   "outputs": [],
   "source": [
    "# put은 명시적인 store['obj2']=frame 메서드지만 저장 스키마를 지정하는 등의 옵션을 제공\n",
    "store.put('obj2', frame, format='table')"
   ]
  },
  {
   "cell_type": "code",
   "execution_count": 154,
   "metadata": {},
   "outputs": [
    {
     "data": {
      "text/html": [
       "<div>\n",
       "<style scoped>\n",
       "    .dataframe tbody tr th:only-of-type {\n",
       "        vertical-align: middle;\n",
       "    }\n",
       "\n",
       "    .dataframe tbody tr th {\n",
       "        vertical-align: top;\n",
       "    }\n",
       "\n",
       "    .dataframe thead th {\n",
       "        text-align: right;\n",
       "    }\n",
       "</style>\n",
       "<table border=\"1\" class=\"dataframe\">\n",
       "  <thead>\n",
       "    <tr style=\"text-align: right;\">\n",
       "      <th></th>\n",
       "      <th>a</th>\n",
       "    </tr>\n",
       "  </thead>\n",
       "  <tbody>\n",
       "    <tr>\n",
       "      <th>10</th>\n",
       "      <td>-0.331114</td>\n",
       "    </tr>\n",
       "    <tr>\n",
       "      <th>11</th>\n",
       "      <td>-0.777168</td>\n",
       "    </tr>\n",
       "    <tr>\n",
       "      <th>12</th>\n",
       "      <td>1.294321</td>\n",
       "    </tr>\n",
       "    <tr>\n",
       "      <th>13</th>\n",
       "      <td>-2.137434</td>\n",
       "    </tr>\n",
       "    <tr>\n",
       "      <th>14</th>\n",
       "      <td>-1.088772</td>\n",
       "    </tr>\n",
       "    <tr>\n",
       "      <th>15</th>\n",
       "      <td>-0.641938</td>\n",
       "    </tr>\n",
       "  </tbody>\n",
       "</table>\n",
       "</div>"
      ],
      "text/plain": [
       "           a\n",
       "10 -0.331114\n",
       "11 -0.777168\n",
       "12  1.294321\n",
       "13 -2.137434\n",
       "14 -1.088772\n",
       "15 -0.641938"
      ]
     },
     "execution_count": 154,
     "metadata": {},
     "output_type": "execute_result"
    }
   ],
   "source": [
    "store.select('obj2', where=['index >= 10 and index <= 15'])"
   ]
  },
  {
   "cell_type": "code",
   "execution_count": 155,
   "metadata": {},
   "outputs": [],
   "source": [
    "store.close()"
   ]
  },
  {
   "cell_type": "code",
   "execution_count": 156,
   "metadata": {},
   "outputs": [],
   "source": [
    "# pandas.read_hdf 함수는 이런 기능들을 축약해서 사용 가능\n",
    "frame.to_hdf('mydata.h5', 'obj3', format='table')"
   ]
  },
  {
   "cell_type": "code",
   "execution_count": 157,
   "metadata": {},
   "outputs": [
    {
     "data": {
      "text/html": [
       "<div>\n",
       "<style scoped>\n",
       "    .dataframe tbody tr th:only-of-type {\n",
       "        vertical-align: middle;\n",
       "    }\n",
       "\n",
       "    .dataframe tbody tr th {\n",
       "        vertical-align: top;\n",
       "    }\n",
       "\n",
       "    .dataframe thead th {\n",
       "        text-align: right;\n",
       "    }\n",
       "</style>\n",
       "<table border=\"1\" class=\"dataframe\">\n",
       "  <thead>\n",
       "    <tr style=\"text-align: right;\">\n",
       "      <th></th>\n",
       "      <th>a</th>\n",
       "    </tr>\n",
       "  </thead>\n",
       "  <tbody>\n",
       "    <tr>\n",
       "      <th>0</th>\n",
       "      <td>-1.368615</td>\n",
       "    </tr>\n",
       "    <tr>\n",
       "      <th>1</th>\n",
       "      <td>-0.081137</td>\n",
       "    </tr>\n",
       "    <tr>\n",
       "      <th>2</th>\n",
       "      <td>1.515150</td>\n",
       "    </tr>\n",
       "    <tr>\n",
       "      <th>3</th>\n",
       "      <td>1.834070</td>\n",
       "    </tr>\n",
       "    <tr>\n",
       "      <th>4</th>\n",
       "      <td>1.487793</td>\n",
       "    </tr>\n",
       "  </tbody>\n",
       "</table>\n",
       "</div>"
      ],
      "text/plain": [
       "          a\n",
       "0 -1.368615\n",
       "1 -0.081137\n",
       "2  1.515150\n",
       "3  1.834070\n",
       "4  1.487793"
      ]
     },
     "execution_count": 157,
     "metadata": {},
     "output_type": "execute_result"
    }
   ],
   "source": [
    "pd.read_hdf('mydata.h5', 'obj3', where=['index < 5'])"
   ]
  },
  {
   "cell_type": "markdown",
   "metadata": {},
   "source": [
    "### TIP!\n",
    "* 원격 서버에 저장된 데이터를 처리해야 한다면 아파치 파케이(Parguet) 같은 분산 저장소를 고려하여 설계된 다른 바이너리 형식을 사용하는 편이 나을 수 있음\n",
    "* 로컬 스토리지에서 엄청난 양의 데이터를 다뤄야 하다면 PyTable와 h5py를 살펴보고 목적에 맞는지 알아볼 것\n",
    "* 대부분의 데이터 분석 문제는 CPU보다는 IO 성능에 의존적\n",
    "  * HDF5 같은 도구를 사용하면 애플리케이션의 성능을 어마어마하게 향상시킬 수 있음\n",
    "<pre> <b>HDF5</b>\n",
    " : 데이터베이스가 아님\n",
    " : 한 번만 기록하고 자주 여러 번 읽어야 하는 데이터에 최적화\n",
    " : 아무 때나 데이터를 파일에 추가할 수 있으나, 만약 여러 곳에서 동시에 파일을 추가하면 깨질 가능성이 존재\n",
    "</pre>"
   ]
  },
  {
   "cell_type": "markdown",
   "metadata": {},
   "source": [
    "### 마이크로소프트 엑셀 파일에서 데이터 읽어오기\n",
    "* pandas.read_excel() 함수를 사용하여 마이크로소프트 엑셀 2003 이후 버전 데이터를 읽어올 수 있음\n",
    "* 내부적으로 이들 도구는 XLS 파일과 XLSX 파일을 읽기 위해 각각 xlrd와 openpyxl 패키지를 이용\n",
    "* ExcelFile 클래스를 사용하려면 xls나 xlsx 파일의 경로를 지정하여 객체 생성"
   ]
  },
  {
   "cell_type": "code",
   "execution_count": 160,
   "metadata": {},
   "outputs": [],
   "source": [
    "xlsx = pd.ExcelFile('examples/ex1.xlsx')"
   ]
  },
  {
   "cell_type": "code",
   "execution_count": 161,
   "metadata": {},
   "outputs": [
    {
     "data": {
      "text/html": [
       "<div>\n",
       "<style scoped>\n",
       "    .dataframe tbody tr th:only-of-type {\n",
       "        vertical-align: middle;\n",
       "    }\n",
       "\n",
       "    .dataframe tbody tr th {\n",
       "        vertical-align: top;\n",
       "    }\n",
       "\n",
       "    .dataframe thead th {\n",
       "        text-align: right;\n",
       "    }\n",
       "</style>\n",
       "<table border=\"1\" class=\"dataframe\">\n",
       "  <thead>\n",
       "    <tr style=\"text-align: right;\">\n",
       "      <th></th>\n",
       "      <th>Unnamed: 0</th>\n",
       "      <th>a</th>\n",
       "      <th>b</th>\n",
       "      <th>c</th>\n",
       "      <th>d</th>\n",
       "      <th>message</th>\n",
       "    </tr>\n",
       "  </thead>\n",
       "  <tbody>\n",
       "    <tr>\n",
       "      <th>0</th>\n",
       "      <td>0</td>\n",
       "      <td>1</td>\n",
       "      <td>2</td>\n",
       "      <td>3</td>\n",
       "      <td>4</td>\n",
       "      <td>hello</td>\n",
       "    </tr>\n",
       "    <tr>\n",
       "      <th>1</th>\n",
       "      <td>1</td>\n",
       "      <td>5</td>\n",
       "      <td>6</td>\n",
       "      <td>7</td>\n",
       "      <td>8</td>\n",
       "      <td>world</td>\n",
       "    </tr>\n",
       "    <tr>\n",
       "      <th>2</th>\n",
       "      <td>2</td>\n",
       "      <td>9</td>\n",
       "      <td>10</td>\n",
       "      <td>11</td>\n",
       "      <td>12</td>\n",
       "      <td>foo</td>\n",
       "    </tr>\n",
       "  </tbody>\n",
       "</table>\n",
       "</div>"
      ],
      "text/plain": [
       "   Unnamed: 0  a   b   c   d message\n",
       "0           0  1   2   3   4   hello\n",
       "1           1  5   6   7   8   world\n",
       "2           2  9  10  11  12     foo"
      ]
     },
     "execution_count": 161,
     "metadata": {},
     "output_type": "execute_result"
    }
   ],
   "source": [
    "pd.read_excel(xlsx, 'Sheet1')"
   ]
  },
  {
   "cell_type": "code",
   "execution_count": 162,
   "metadata": {},
   "outputs": [],
   "source": [
    "# 한 파일에서 여러 시트를 읽어오려면 ExcelFile을 생성하면 빠르지만 간단하게 pandas.read_excel에 파일 이름만 넘겨도 됨\n",
    "frame = pd.read_excel('examples/ex1.xlsx', 'Sheet1')"
   ]
  },
  {
   "cell_type": "code",
   "execution_count": 163,
   "metadata": {},
   "outputs": [
    {
     "data": {
      "text/html": [
       "<div>\n",
       "<style scoped>\n",
       "    .dataframe tbody tr th:only-of-type {\n",
       "        vertical-align: middle;\n",
       "    }\n",
       "\n",
       "    .dataframe tbody tr th {\n",
       "        vertical-align: top;\n",
       "    }\n",
       "\n",
       "    .dataframe thead th {\n",
       "        text-align: right;\n",
       "    }\n",
       "</style>\n",
       "<table border=\"1\" class=\"dataframe\">\n",
       "  <thead>\n",
       "    <tr style=\"text-align: right;\">\n",
       "      <th></th>\n",
       "      <th>Unnamed: 0</th>\n",
       "      <th>a</th>\n",
       "      <th>b</th>\n",
       "      <th>c</th>\n",
       "      <th>d</th>\n",
       "      <th>message</th>\n",
       "    </tr>\n",
       "  </thead>\n",
       "  <tbody>\n",
       "    <tr>\n",
       "      <th>0</th>\n",
       "      <td>0</td>\n",
       "      <td>1</td>\n",
       "      <td>2</td>\n",
       "      <td>3</td>\n",
       "      <td>4</td>\n",
       "      <td>hello</td>\n",
       "    </tr>\n",
       "    <tr>\n",
       "      <th>1</th>\n",
       "      <td>1</td>\n",
       "      <td>5</td>\n",
       "      <td>6</td>\n",
       "      <td>7</td>\n",
       "      <td>8</td>\n",
       "      <td>world</td>\n",
       "    </tr>\n",
       "    <tr>\n",
       "      <th>2</th>\n",
       "      <td>2</td>\n",
       "      <td>9</td>\n",
       "      <td>10</td>\n",
       "      <td>11</td>\n",
       "      <td>12</td>\n",
       "      <td>foo</td>\n",
       "    </tr>\n",
       "  </tbody>\n",
       "</table>\n",
       "</div>"
      ],
      "text/plain": [
       "   Unnamed: 0  a   b   c   d message\n",
       "0           0  1   2   3   4   hello\n",
       "1           1  5   6   7   8   world\n",
       "2           2  9  10  11  12     foo"
      ]
     },
     "execution_count": 163,
     "metadata": {},
     "output_type": "execute_result"
    }
   ],
   "source": [
    "frame"
   ]
  },
  {
   "cell_type": "code",
   "execution_count": 164,
   "metadata": {},
   "outputs": [],
   "source": [
    "# pandas 데이터를 엑셀 파일로 저장하고 싶다면 ExcelWrite를 생성해서 데이터를 기록\n",
    "# pandas 객체의 to_excel 메서드로 넘기기\n",
    "writer = pd.ExcelWriter('examples/ex2.xlsx')"
   ]
  },
  {
   "cell_type": "code",
   "execution_count": 165,
   "metadata": {},
   "outputs": [],
   "source": [
    "frame.to_excel(writer, 'Sheet1')"
   ]
  },
  {
   "cell_type": "code",
   "execution_count": 166,
   "metadata": {},
   "outputs": [],
   "source": [
    "writer.save()"
   ]
  },
  {
   "cell_type": "code",
   "execution_count": 167,
   "metadata": {},
   "outputs": [],
   "source": [
    "# ExcelWriter을 이용하지 않고 to_excel 메서드에 파일 경로만 넘겨도 되다\n",
    "frame.to_excel('examples/ex2.xlsx')"
   ]
  },
  {
   "cell_type": "markdown",
   "metadata": {},
   "source": [
    "## MARK: 웹 API와 함께 사용하기\n",
    "* 데이터 피드를 JSON이나 여타 다른 형식으로 얻을 수 있는 공개 API를 제공하는 웹사이트가 많음\n",
    "* 파이썬으로 이 API를 사용하는 방법은 다양한데 내가 추천하는 가장 손쉬운 방법은 requests 패키지를 이용하느 것\n",
    "* pandas 깃허브에서 최근 30개의 이슈를 가져오려면 requests 라이브러리를 이용해서 다음과 같은 GET HTTP 요청 생성"
   ]
  },
  {
   "cell_type": "code",
   "execution_count": 170,
   "metadata": {},
   "outputs": [],
   "source": [
    "import requests"
   ]
  },
  {
   "cell_type": "code",
   "execution_count": 171,
   "metadata": {},
   "outputs": [],
   "source": [
    "url = 'https://api.github.com/repos/pandas-dev/pandas/issues'"
   ]
  },
  {
   "cell_type": "code",
   "execution_count": 172,
   "metadata": {},
   "outputs": [],
   "source": [
    "resp = requests.get(url)"
   ]
  },
  {
   "cell_type": "code",
   "execution_count": 173,
   "metadata": {},
   "outputs": [
    {
     "data": {
      "text/plain": [
       "<Response [200]>"
      ]
     },
     "execution_count": 173,
     "metadata": {},
     "output_type": "execute_result"
    }
   ],
   "source": [
    "resp"
   ]
  },
  {
   "cell_type": "code",
   "execution_count": 174,
   "metadata": {},
   "outputs": [],
   "source": [
    "# 응답 객체의 json 메서드는 JSON의 내용을 파이썬 사전 형태로 반환한 객체를 반환\n",
    "data = resp.json()"
   ]
  },
  {
   "cell_type": "code",
   "execution_count": 175,
   "metadata": {},
   "outputs": [
    {
     "data": {
      "text/plain": [
       "'BUG: A change between Python version 3.6.0 and 3.6.1 causes an apply lambda function with selective column processing to check every column'"
      ]
     },
     "execution_count": 175,
     "metadata": {},
     "output_type": "execute_result"
    }
   ],
   "source": [
    "data[0]['title']"
   ]
  },
  {
   "cell_type": "code",
   "execution_count": 176,
   "metadata": {},
   "outputs": [
    {
     "data": {
      "text/plain": [
       "[{'url': 'https://api.github.com/repos/pandas-dev/pandas/issues/35433',\n",
       "  'repository_url': 'https://api.github.com/repos/pandas-dev/pandas',\n",
       "  'labels_url': 'https://api.github.com/repos/pandas-dev/pandas/issues/35433/labels{/name}',\n",
       "  'comments_url': 'https://api.github.com/repos/pandas-dev/pandas/issues/35433/comments',\n",
       "  'events_url': 'https://api.github.com/repos/pandas-dev/pandas/issues/35433/events',\n",
       "  'html_url': 'https://github.com/pandas-dev/pandas/issues/35433',\n",
       "  'id': 666853042,\n",
       "  'node_id': 'MDU6SXNzdWU2NjY4NTMwNDI=',\n",
       "  'number': 35433,\n",
       "  'title': 'BUG: A change between Python version 3.6.0 and 3.6.1 causes an apply lambda function with selective column processing to check every column',\n",
       "  'user': {'login': 'DeeeeLAN',\n",
       "   'id': 12877032,\n",
       "   'node_id': 'MDQ6VXNlcjEyODc3MDMy',\n",
       "   'avatar_url': 'https://avatars0.githubusercontent.com/u/12877032?v=4',\n",
       "   'gravatar_id': '',\n",
       "   'url': 'https://api.github.com/users/DeeeeLAN',\n",
       "   'html_url': 'https://github.com/DeeeeLAN',\n",
       "   'followers_url': 'https://api.github.com/users/DeeeeLAN/followers',\n",
       "   'following_url': 'https://api.github.com/users/DeeeeLAN/following{/other_user}',\n",
       "   'gists_url': 'https://api.github.com/users/DeeeeLAN/gists{/gist_id}',\n",
       "   'starred_url': 'https://api.github.com/users/DeeeeLAN/starred{/owner}{/repo}',\n",
       "   'subscriptions_url': 'https://api.github.com/users/DeeeeLAN/subscriptions',\n",
       "   'organizations_url': 'https://api.github.com/users/DeeeeLAN/orgs',\n",
       "   'repos_url': 'https://api.github.com/users/DeeeeLAN/repos',\n",
       "   'events_url': 'https://api.github.com/users/DeeeeLAN/events{/privacy}',\n",
       "   'received_events_url': 'https://api.github.com/users/DeeeeLAN/received_events',\n",
       "   'type': 'User',\n",
       "   'site_admin': False},\n",
       "  'labels': [{'id': 76811,\n",
       "    'node_id': 'MDU6TGFiZWw3NjgxMQ==',\n",
       "    'url': 'https://api.github.com/repos/pandas-dev/pandas/labels/Bug',\n",
       "    'name': 'Bug',\n",
       "    'color': 'e10c02',\n",
       "    'default': False,\n",
       "    'description': None},\n",
       "   {'id': 1954720290,\n",
       "    'node_id': 'MDU6TGFiZWwxOTU0NzIwMjkw',\n",
       "    'url': 'https://api.github.com/repos/pandas-dev/pandas/labels/Needs%20Triage',\n",
       "    'name': 'Needs Triage',\n",
       "    'color': '0052cc',\n",
       "    'default': False,\n",
       "    'description': 'Issue that has not been reviewed by a pandas team member'}],\n",
       "  'state': 'open',\n",
       "  'locked': False,\n",
       "  'assignee': None,\n",
       "  'assignees': [],\n",
       "  'milestone': None,\n",
       "  'comments': 0,\n",
       "  'created_at': '2020-07-28T07:59:50Z',\n",
       "  'updated_at': '2020-07-28T07:59:50Z',\n",
       "  'closed_at': None,\n",
       "  'author_association': 'NONE',\n",
       "  'active_lock_reason': None,\n",
       "  'body': \"- [x] I have checked that this issue has not already been reported.\\r\\n\\r\\n- [x] I have confirmed this bug exists on the latest version of pandas.\\r\\n\\r\\n- [ ] (optional) I have confirmed this bug exists on the master branch of pandas.\\r\\n\\r\\n---\\r\\n\\r\\n**Note**: Please read [this guide](https://matthewrocklin.com/blog/work/2018/02/28/minimal-bug-reports) detailing how to provide the necessary information for us to reproduce your bug.\\r\\n\\r\\n#### Code Sample, a copy-pastable example\\r\\n\\r\\n```python\\r\\nimport pandas as pd\\r\\n\\r\\ntest = pd.DataFrame([\\r\\n  [1, {'c': 1}],\\r\\n  [2, {'c': 2}],\\r\\n  [3, {'c': 3}],\\r\\n  [4, {'c': 4}],\\r\\n  [5, {'c': 5}]\\r\\n], columns=['A', 'B'])\\r\\n\\r\\nprint(test[['A', 'B']].apply(lambda x: x.nlargest(2, keep='all') if x.name in ['A'] else x.apply(lambda y: y['c']).nsmallest(2, keep='all')))\\r\\n```\\r\\n\\r\\n#### Problem description\\r\\n\\r\\nOn and after Python version 3.6.1, the above code crashes with the error: `TypeError: Cannot use method 'nlargest' with dtype object`. This happens because the `apply(lambda x` function is applying to both columns, even though the `if/else` check should only apply it to the specified column. I am not certain if this is a bug in Python itself, or if python changed and Pandas needs to update to match. I am starting here, though, because I believe the issue will be identified (and fixed if necessary) quicker. On previous versions, the following output is produced: \\r\\n\\r\\n#### Expected Output\\r\\n```\\r\\n>>> test[['A', 'B']].apply(lambda x: x.nlargest(2, keep='all') if x.name in ['A'] else x.apply(lambda y: y['c']).nsmallest(2, keep='all'))\\r\\n     A    B\\r\\n0  NaN  1.0\\r\\n1  NaN  2.0\\r\\n3  4.0  NaN\\r\\n4  5.0  NaN\\r\\n```\\r\\n\\r\\n#### Output of ``pd.show_versions()``\\r\\n\\r\\n<details>\\r\\n\\r\\n```\\r\\nINSTALLED VERSIONS\\r\\n------------------\\r\\ncommit           : None\\r\\npython           : 3.6.1.final.0\\r\\npython-bits      : 64\\r\\nOS               : Linux\\r\\nOS-release       : 4.9.0-11-amd64\\r\\nmachine          : x86_64\\r\\nprocessor        : \\r\\nbyteorder        : little\\r\\nLC_ALL           : None\\r\\nLANG             : en_US.UTF-8\\r\\nLOCALE           : en_US.UTF-8\\r\\n\\r\\npandas           : 1.0.5\\r\\nnumpy            : 1.19.1\\r\\npytz             : 2020.1\\r\\ndateutil         : 2.8.1\\r\\npip              : 20.1.1\\r\\nsetuptools       : 49.2.0\\r\\nCython           : None\\r\\npytest           : None\\r\\nhypothesis       : None\\r\\nsphinx           : None\\r\\nblosc            : None\\r\\nfeather          : None\\r\\nxlsxwriter       : None\\r\\nlxml.etree       : None\\r\\nhtml5lib         : None\\r\\npymysql          : None\\r\\npsycopg2         : None\\r\\njinja2           : None\\r\\nIPython          : None\\r\\npandas_datareader: None\\r\\nbs4              : None\\r\\nbottleneck       : None\\r\\nfastparquet      : None\\r\\ngcsfs            : None\\r\\nlxml.etree       : None\\r\\nmatplotlib       : None\\r\\nnumexpr          : None\\r\\nodfpy            : None\\r\\nopenpyxl         : None\\r\\npandas_gbq       : None\\r\\npyarrow          : None\\r\\npytables         : None\\r\\npytest           : None\\r\\npyxlsb           : None\\r\\ns3fs             : None\\r\\nscipy            : None\\r\\nsqlalchemy       : None\\r\\ntables           : None\\r\\ntabulate         : None\\r\\nxarray           : None\\r\\nxlrd             : None\\r\\nxlwt             : None\\r\\nxlsxwriter       : None\\r\\nnumba            : None\\r\\n```\\r\\n\\r\\n</details>\\r\\n\",\n",
       "  'performed_via_github_app': None},\n",
       " {'url': 'https://api.github.com/repos/pandas-dev/pandas/issues/35432',\n",
       "  'repository_url': 'https://api.github.com/repos/pandas-dev/pandas',\n",
       "  'labels_url': 'https://api.github.com/repos/pandas-dev/pandas/issues/35432/labels{/name}',\n",
       "  'comments_url': 'https://api.github.com/repos/pandas-dev/pandas/issues/35432/comments',\n",
       "  'events_url': 'https://api.github.com/repos/pandas-dev/pandas/issues/35432/events',\n",
       "  'html_url': 'https://github.com/pandas-dev/pandas/pull/35432',\n",
       "  'id': 666804755,\n",
       "  'node_id': 'MDExOlB1bGxSZXF1ZXN0NDU3NTg1ODE2',\n",
       "  'number': 35432,\n",
       "  'title': 'CLN/PERF: move RangeIndex._cached_data to RangeIndex._cache',\n",
       "  'user': {'login': 'topper-123',\n",
       "   'id': 26364415,\n",
       "   'node_id': 'MDQ6VXNlcjI2MzY0NDE1',\n",
       "   'avatar_url': 'https://avatars1.githubusercontent.com/u/26364415?v=4',\n",
       "   'gravatar_id': '',\n",
       "   'url': 'https://api.github.com/users/topper-123',\n",
       "   'html_url': 'https://github.com/topper-123',\n",
       "   'followers_url': 'https://api.github.com/users/topper-123/followers',\n",
       "   'following_url': 'https://api.github.com/users/topper-123/following{/other_user}',\n",
       "   'gists_url': 'https://api.github.com/users/topper-123/gists{/gist_id}',\n",
       "   'starred_url': 'https://api.github.com/users/topper-123/starred{/owner}{/repo}',\n",
       "   'subscriptions_url': 'https://api.github.com/users/topper-123/subscriptions',\n",
       "   'organizations_url': 'https://api.github.com/users/topper-123/orgs',\n",
       "   'repos_url': 'https://api.github.com/users/topper-123/repos',\n",
       "   'events_url': 'https://api.github.com/users/topper-123/events{/privacy}',\n",
       "   'received_events_url': 'https://api.github.com/users/topper-123/received_events',\n",
       "   'type': 'User',\n",
       "   'site_admin': False},\n",
       "  'labels': [],\n",
       "  'state': 'open',\n",
       "  'locked': False,\n",
       "  'assignee': None,\n",
       "  'assignees': [],\n",
       "  'milestone': None,\n",
       "  'comments': 0,\n",
       "  'created_at': '2020-07-28T06:27:36Z',\n",
       "  'updated_at': '2020-07-28T08:10:40Z',\n",
       "  'closed_at': None,\n",
       "  'author_association': 'CONTRIBUTOR',\n",
       "  'active_lock_reason': None,\n",
       "  'pull_request': {'url': 'https://api.github.com/repos/pandas-dev/pandas/pulls/35432',\n",
       "   'html_url': 'https://github.com/pandas-dev/pandas/pull/35432',\n",
       "   'diff_url': 'https://github.com/pandas-dev/pandas/pull/35432.diff',\n",
       "   'patch_url': 'https://github.com/pandas-dev/pandas/pull/35432.patch'},\n",
       "  'body': 'The ``cached_data`` is not necessary. It was originally added to allow a check to see it the ndarray had been created, but that\\'s also possible to do by a ``\"_data\" in _cache`` check in the new implemention, which IMO would be more idiomatic.\\r\\n\\r\\nThe new implementation has the benefit that the ``_data`` will be copied to new instances, saving the need to create a new ndarray for each new copy of the RangeIndex.\\r\\n\\r\\n```python\\r\\n>>> idx = pd.RangeIndex(1_000_000)\\r\\n>>> idx[[1, 4]]  # this accesses ._data\\r\\n>> %timeit idx._shallow_copy()[[1, 4]]\\r\\n2.55 ms ± 69.3 µs per loop  # master\\r\\n17.7 µs ± 405 ns per loop  # this PR\\r\\n```\\r\\n\\r\\nxref #26565.\\r\\n',\n",
       "  'performed_via_github_app': None},\n",
       " {'url': 'https://api.github.com/repos/pandas-dev/pandas/issues/35431',\n",
       "  'repository_url': 'https://api.github.com/repos/pandas-dev/pandas',\n",
       "  'labels_url': 'https://api.github.com/repos/pandas-dev/pandas/issues/35431/labels{/name}',\n",
       "  'comments_url': 'https://api.github.com/repos/pandas-dev/pandas/issues/35431/comments',\n",
       "  'events_url': 'https://api.github.com/repos/pandas-dev/pandas/issues/35431/events',\n",
       "  'html_url': 'https://github.com/pandas-dev/pandas/issues/35431',\n",
       "  'id': 666750053,\n",
       "  'node_id': 'MDU6SXNzdWU2NjY3NTAwNTM=',\n",
       "  'number': 35431,\n",
       "  'title': 'BUG: index_col in read_csv ignores dtype',\n",
       "  'user': {'login': 'metazoic',\n",
       "   'id': 39023576,\n",
       "   'node_id': 'MDQ6VXNlcjM5MDIzNTc2',\n",
       "   'avatar_url': 'https://avatars3.githubusercontent.com/u/39023576?v=4',\n",
       "   'gravatar_id': '',\n",
       "   'url': 'https://api.github.com/users/metazoic',\n",
       "   'html_url': 'https://github.com/metazoic',\n",
       "   'followers_url': 'https://api.github.com/users/metazoic/followers',\n",
       "   'following_url': 'https://api.github.com/users/metazoic/following{/other_user}',\n",
       "   'gists_url': 'https://api.github.com/users/metazoic/gists{/gist_id}',\n",
       "   'starred_url': 'https://api.github.com/users/metazoic/starred{/owner}{/repo}',\n",
       "   'subscriptions_url': 'https://api.github.com/users/metazoic/subscriptions',\n",
       "   'organizations_url': 'https://api.github.com/users/metazoic/orgs',\n",
       "   'repos_url': 'https://api.github.com/users/metazoic/repos',\n",
       "   'events_url': 'https://api.github.com/users/metazoic/events{/privacy}',\n",
       "   'received_events_url': 'https://api.github.com/users/metazoic/received_events',\n",
       "   'type': 'User',\n",
       "   'site_admin': False},\n",
       "  'labels': [{'id': 76811,\n",
       "    'node_id': 'MDU6TGFiZWw3NjgxMQ==',\n",
       "    'url': 'https://api.github.com/repos/pandas-dev/pandas/labels/Bug',\n",
       "    'name': 'Bug',\n",
       "    'color': 'e10c02',\n",
       "    'default': False,\n",
       "    'description': None},\n",
       "   {'id': 1954720290,\n",
       "    'node_id': 'MDU6TGFiZWwxOTU0NzIwMjkw',\n",
       "    'url': 'https://api.github.com/repos/pandas-dev/pandas/labels/Needs%20Triage',\n",
       "    'name': 'Needs Triage',\n",
       "    'color': '0052cc',\n",
       "    'default': False,\n",
       "    'description': 'Issue that has not been reviewed by a pandas team member'}],\n",
       "  'state': 'open',\n",
       "  'locked': False,\n",
       "  'assignee': None,\n",
       "  'assignees': [],\n",
       "  'milestone': None,\n",
       "  'comments': 0,\n",
       "  'created_at': '2020-07-28T04:28:49Z',\n",
       "  'updated_at': '2020-07-28T04:28:49Z',\n",
       "  'closed_at': None,\n",
       "  'author_association': 'NONE',\n",
       "  'active_lock_reason': None,\n",
       "  'body': \"- [x] I have checked that this issue has not already been reported.\\r\\n\\r\\n- [x] I have confirmed this bug exists on the latest version of pandas.\\r\\n\\r\\n- [ ] (optional) I have confirmed this bug exists on the master branch of pandas.\\r\\n\\r\\n---\\r\\n\\r\\nIf `index.csv` contains:\\r\\n```\\r\\nid,key\\r\\n00,11\\r\\n22,33\\r\\n```\\r\\nthen\\r\\n```python\\r\\ndf = pandas.read_csv('index.csv', dtype=str, index_col='id')\\r\\ndf.index.dtype\\r\\n```\\r\\nresults in\\r\\n```\\r\\ndtype('int64')\\r\\n```\\r\\n\\r\\n#### Problem description\\r\\n\\r\\nThis does not result in an index of strings.\\r\\n\\r\\n#### Expected Output\\r\\n\\r\\nBy contrast,\\r\\n```python\\r\\ndf = pandas.read_csv('index.csv', dtype=str)\\r\\ndf.set_index('id', inplace=True)\\r\\ndf.index.dtype\\r\\n```\\r\\nresults in\\r\\n```\\r\\ndtype('O')\\r\\n```\\r\\nas intended.\\r\\n\\r\\n#### Output of ``pd.show_versions()``\\r\\n\\r\\n<details>\\r\\n\\r\\n```\\r\\nINSTALLED VERSIONS\\r\\n------------------\\r\\ncommit           : None\\r\\npython           : 3.7.7.final.0\\r\\npython-bits      : 64\\r\\nOS               : Darwin\\r\\nOS-release       : 18.7.0\\r\\nmachine          : x86_64\\r\\nprocessor        : i386\\r\\nbyteorder        : little\\r\\nLC_ALL           : None\\r\\nLANG             : None\\r\\nLOCALE           : None.UTF-8\\r\\n \\r\\npandas           : 1.0.5\\r\\nnumpy            : 1.18.5\\r\\npytz             : 2020.1\\r\\ndateutil         : 2.8.1\\r\\npip              : 20.1.1\\r\\nsetuptools       : 49.2.0.post20200714\\r\\nCython           : 0.29.21\\r\\npytest           : 5.4.3\\r\\nhypothesis       : None\\r\\nsphinx           : 3.1.2\\r\\nblosc            : None\\r\\nfeather          : None\\r\\nxlsxwriter       : 1.2.9\\r\\nlxml.etree       : 4.5.2\\r\\nhtml5lib         : 1.1\\r\\npymysql          : None\\r\\npsycopg2         : None\\r\\njinja2           : 2.11.2\\r\\nIPython          : 7.16.1\\r\\npandas_datareader: None\\r\\nbs4              : 4.9.1\\r\\nbottleneck       : 1.3.2\\r\\nfastparquet      : None\\r\\ngcsfs            : None\\r\\nlxml.etree       : 4.5.2\\r\\nmatplotlib       : 3.2.2\\r\\nnumexpr          : 2.7.1\\r\\nodfpy            : None\\r\\nopenpyxl         : 3.0.4\\r\\npandas_gbq       : None\\r\\npyarrow          : None\\r\\npytables         : None\\r\\npytest           : 5.4.3\\r\\npyxlsb           : None\\r\\ns3fs             : None\\r\\nscipy            : 1.5.0\\r\\nsqlalchemy       : 1.3.18\\r\\ntables           : 3.4.4\\r\\ntabulate         : None\\r\\nxarray           : None\\r\\nxlrd             : 1.2.0\\r\\nxlwt             : 1.3.0\\r\\nxlsxwriter       : 1.2.9\\r\\nnumba            : 0.50.1\\r\\n```\\r\\n\\r\\n</details>\\r\\n\",\n",
       "  'performed_via_github_app': None},\n",
       " {'url': 'https://api.github.com/repos/pandas-dev/pandas/issues/35429',\n",
       "  'repository_url': 'https://api.github.com/repos/pandas-dev/pandas',\n",
       "  'labels_url': 'https://api.github.com/repos/pandas-dev/pandas/issues/35429/labels{/name}',\n",
       "  'comments_url': 'https://api.github.com/repos/pandas-dev/pandas/issues/35429/comments',\n",
       "  'events_url': 'https://api.github.com/repos/pandas-dev/pandas/issues/35429/events',\n",
       "  'html_url': 'https://github.com/pandas-dev/pandas/issues/35429',\n",
       "  'id': 666589306,\n",
       "  'node_id': 'MDU6SXNzdWU2NjY1ODkzMDY=',\n",
       "  'number': 35429,\n",
       "  'title': 'BUG: NA does not propagate through mask and where/ raises AssertionError in 1.1.0rc',\n",
       "  'user': {'login': 'johnflavin',\n",
       "   'id': 1417503,\n",
       "   'node_id': 'MDQ6VXNlcjE0MTc1MDM=',\n",
       "   'avatar_url': 'https://avatars0.githubusercontent.com/u/1417503?v=4',\n",
       "   'gravatar_id': '',\n",
       "   'url': 'https://api.github.com/users/johnflavin',\n",
       "   'html_url': 'https://github.com/johnflavin',\n",
       "   'followers_url': 'https://api.github.com/users/johnflavin/followers',\n",
       "   'following_url': 'https://api.github.com/users/johnflavin/following{/other_user}',\n",
       "   'gists_url': 'https://api.github.com/users/johnflavin/gists{/gist_id}',\n",
       "   'starred_url': 'https://api.github.com/users/johnflavin/starred{/owner}{/repo}',\n",
       "   'subscriptions_url': 'https://api.github.com/users/johnflavin/subscriptions',\n",
       "   'organizations_url': 'https://api.github.com/users/johnflavin/orgs',\n",
       "   'repos_url': 'https://api.github.com/users/johnflavin/repos',\n",
       "   'events_url': 'https://api.github.com/users/johnflavin/events{/privacy}',\n",
       "   'received_events_url': 'https://api.github.com/users/johnflavin/received_events',\n",
       "   'type': 'User',\n",
       "   'site_admin': False},\n",
       "  'labels': [{'id': 76811,\n",
       "    'node_id': 'MDU6TGFiZWw3NjgxMQ==',\n",
       "    'url': 'https://api.github.com/repos/pandas-dev/pandas/labels/Bug',\n",
       "    'name': 'Bug',\n",
       "    'color': 'e10c02',\n",
       "    'default': False,\n",
       "    'description': None},\n",
       "   {'id': 849023693,\n",
       "    'node_id': 'MDU6TGFiZWw4NDkwMjM2OTM=',\n",
       "    'url': 'https://api.github.com/repos/pandas-dev/pandas/labels/ExtensionArray',\n",
       "    'name': 'ExtensionArray',\n",
       "    'color': '6138b5',\n",
       "    'default': False,\n",
       "    'description': 'Extending pandas with custom dtypes or arrays.'},\n",
       "   {'id': 1817503692,\n",
       "    'node_id': 'MDU6TGFiZWwxODE3NTAzNjky',\n",
       "    'url': 'https://api.github.com/repos/pandas-dev/pandas/labels/NA%20-%20MaskedArrays',\n",
       "    'name': 'NA - MaskedArrays',\n",
       "    'color': '8cc645',\n",
       "    'default': False,\n",
       "    'description': 'Related to pd.NA and nullable extension arrays'},\n",
       "   {'id': 32815646,\n",
       "    'node_id': 'MDU6TGFiZWwzMjgxNTY0Ng==',\n",
       "    'url': 'https://api.github.com/repos/pandas-dev/pandas/labels/Regression',\n",
       "    'name': 'Regression',\n",
       "    'color': 'e11d21',\n",
       "    'default': False,\n",
       "    'description': 'Functionality that used to work in a prior pandas version'}],\n",
       "  'state': 'open',\n",
       "  'locked': False,\n",
       "  'assignee': None,\n",
       "  'assignees': [],\n",
       "  'milestone': None,\n",
       "  'comments': 1,\n",
       "  'created_at': '2020-07-27T21:15:03Z',\n",
       "  'updated_at': '2020-07-28T08:52:41Z',\n",
       "  'closed_at': None,\n",
       "  'author_association': 'NONE',\n",
       "  'active_lock_reason': None,\n",
       "  'body': \"- [X] I have checked that this issue has not already been reported.\\r\\n\\r\\n- [X] I have confirmed this bug exists on the latest version of pandas.\\r\\n\\r\\n- [ ] (optional) I have confirmed this bug exists on the master branch of pandas.\\r\\n\\r\\n---\\r\\n\\r\\n**Note**: Please read [this guide](https://matthewrocklin.com/blog/work/2018/02/28/minimal-bug-reports) detailing how to provide the necessary information for us to reproduce your bug.\\r\\n\\r\\n#### Code Sample, a copy-pastable example\\r\\n\\r\\n```python\\r\\n>>> a = pd.DataFrame([{'col': 'a'}] * 3).convert_dtypes()\\r\\n>>> a\\r\\n  col\\r\\n0   a\\r\\n1   a\\r\\n2   a\\r\\n>>> tfna = pd.Series([True, False, pd.NA]).convert_dtypes()\\r\\n>>> tfna\\r\\n0     True\\r\\n1    False\\r\\n2     <NA>\\r\\ndtype: boolean\\r\\n>>> a.mask(tfna, 'b')\\r\\n  col\\r\\n0   b\\r\\n1   a\\r\\n2   b\\r\\n>>> a.where(tfna, 'b')\\r\\n  col\\r\\n0   a\\r\\n1   b\\r\\n2   b\\r\\n\\r\\n```\\r\\n\\r\\n#### Problem description\\r\\n\\r\\nWhen replacing values with `mask` or `where`, `pd.NA` values in a boolean series used for the `cond` input are always replaced. This means `pd.NA` gets treated as `False` by `where` but as `True` by `mask`.\\r\\n\\r\\n#### Expected Output\\r\\n\\r\\nI would expect that `pd.NA` values in `cond` would propagate to the output.\\r\\n\\r\\n```python\\r\\n>>> a.mask(tfna, 'b')\\r\\n    col\\r\\n0     b\\r\\n1     a\\r\\n2  <NA>\\r\\n>>> a.where(tfna, 'b')\\r\\n    col\\r\\n0     a\\r\\n1     b\\r\\n2  <NA>\\r\\n\\r\\n```\\r\\n\\r\\n#### Output of ``pd.show_versions()``\\r\\n\\r\\n<details>\\r\\n\\r\\nINSTALLED VERSIONS\\r\\n------------------\\r\\ncommit           : None\\r\\npython           : 3.8.3.final.0\\r\\npython-bits      : 64\\r\\nOS               : Darwin\\r\\nOS-release       : 18.7.0\\r\\nmachine          : x86_64\\r\\nprocessor        : i386\\r\\nbyteorder        : little\\r\\nLC_ALL           : None\\r\\nLANG             : en_US.UTF-8\\r\\nLOCALE           : en_US.UTF-8\\r\\n\\r\\npandas           : 1.0.5\\r\\nnumpy            : 1.19.1\\r\\npytz             : 2020.1\\r\\ndateutil         : 2.8.1\\r\\npip              : 20.1.1\\r\\nsetuptools       : 49.2.0.post20200712\\r\\nCython           : None\\r\\npytest           : 5.4.3\\r\\nhypothesis       : None\\r\\nsphinx           : None\\r\\nblosc            : None\\r\\nfeather          : None\\r\\nxlsxwriter       : None\\r\\nlxml.etree       : None\\r\\nhtml5lib         : None\\r\\npymysql          : None\\r\\npsycopg2         : None\\r\\njinja2           : 2.11.2\\r\\nIPython          : 7.15.0\\r\\npandas_datareader: None\\r\\nbs4              : None\\r\\nbottleneck       : None\\r\\nfastparquet      : None\\r\\ngcsfs            : None\\r\\nlxml.etree       : None\\r\\nmatplotlib       : 3.2.2\\r\\nnumexpr          : None\\r\\nodfpy            : None\\r\\nopenpyxl         : None\\r\\npandas_gbq       : None\\r\\npyarrow          : 0.17.1\\r\\npytables         : None\\r\\npytest           : 5.4.3\\r\\npyxlsb           : None\\r\\ns3fs             : 0.4.2\\r\\nscipy            : None\\r\\nsqlalchemy       : None\\r\\ntables           : None\\r\\ntabulate         : None\\r\\nxarray           : None\\r\\nxlrd             : None\\r\\nxlwt             : None\\r\\nxlsxwriter       : None\\r\\nnumba            : None\\r\\n\\r\\n</details>\\r\\n\",\n",
       "  'performed_via_github_app': None},\n",
       " {'url': 'https://api.github.com/repos/pandas-dev/pandas/issues/35428',\n",
       "  'repository_url': 'https://api.github.com/repos/pandas-dev/pandas',\n",
       "  'labels_url': 'https://api.github.com/repos/pandas-dev/pandas/issues/35428/labels{/name}',\n",
       "  'comments_url': 'https://api.github.com/repos/pandas-dev/pandas/issues/35428/comments',\n",
       "  'events_url': 'https://api.github.com/repos/pandas-dev/pandas/issues/35428/events',\n",
       "  'html_url': 'https://github.com/pandas-dev/pandas/pull/35428',\n",
       "  'id': 666459305,\n",
       "  'node_id': 'MDExOlB1bGxSZXF1ZXN0NDU3Mjk5Mzc2',\n",
       "  'number': 35428,\n",
       "  'title': 'BUG: Inconsistent date parsing of to_datetime',\n",
       "  'user': {'login': 'arw2019',\n",
       "   'id': 48889395,\n",
       "   'node_id': 'MDQ6VXNlcjQ4ODg5Mzk1',\n",
       "   'avatar_url': 'https://avatars0.githubusercontent.com/u/48889395?v=4',\n",
       "   'gravatar_id': '',\n",
       "   'url': 'https://api.github.com/users/arw2019',\n",
       "   'html_url': 'https://github.com/arw2019',\n",
       "   'followers_url': 'https://api.github.com/users/arw2019/followers',\n",
       "   'following_url': 'https://api.github.com/users/arw2019/following{/other_user}',\n",
       "   'gists_url': 'https://api.github.com/users/arw2019/gists{/gist_id}',\n",
       "   'starred_url': 'https://api.github.com/users/arw2019/starred{/owner}{/repo}',\n",
       "   'subscriptions_url': 'https://api.github.com/users/arw2019/subscriptions',\n",
       "   'organizations_url': 'https://api.github.com/users/arw2019/orgs',\n",
       "   'repos_url': 'https://api.github.com/users/arw2019/repos',\n",
       "   'events_url': 'https://api.github.com/users/arw2019/events{/privacy}',\n",
       "   'received_events_url': 'https://api.github.com/users/arw2019/received_events',\n",
       "   'type': 'User',\n",
       "   'site_admin': False},\n",
       "  'labels': [],\n",
       "  'state': 'open',\n",
       "  'locked': False,\n",
       "  'assignee': None,\n",
       "  'assignees': [],\n",
       "  'milestone': None,\n",
       "  'comments': 0,\n",
       "  'created_at': '2020-07-27T17:25:40Z',\n",
       "  'updated_at': '2020-07-28T00:35:55Z',\n",
       "  'closed_at': None,\n",
       "  'author_association': 'CONTRIBUTOR',\n",
       "  'active_lock_reason': None,\n",
       "  'pull_request': {'url': 'https://api.github.com/repos/pandas-dev/pandas/pulls/35428',\n",
       "   'html_url': 'https://github.com/pandas-dev/pandas/pull/35428',\n",
       "   'diff_url': 'https://github.com/pandas-dev/pandas/pull/35428.diff',\n",
       "   'patch_url': 'https://github.com/pandas-dev/pandas/pull/35428.patch'},\n",
       "  'body': '- [x] closes #12585\\r\\n- [x] tests added / passed\\r\\n- [ ] documentation updated \\r\\n- [x] passes `black pandas`\\r\\n- [x] passes `git diff upstream/master -u -- \"*.py\" | flake8 --diff`\\r\\n- [ ] whatsnew entry (pending 1.2)\\r\\n\\r\\nThis PR is an attempt to address concerns about datetime parsing. I\\'ll update the docs if people approve this change.\\r\\n\\r\\n#### Original problem\\r\\nFrom #12585:\\r\\n``` python\\r\\nIn [3]: pd.to_datetime([\"31/12/2014\", \"10/03/2011\"]) \\r\\n   ...:                                                                                                               \\r\\nOut[3]: DatetimeIndex([\\'2014-12-31\\', \\'2011-03-10\\'], dtype=\\'datetime64[ns]\\', freq=None)\\r\\n```\\r\\nThe issue is that the first item is parsed as `DD\\\\MM\\\\YYYY` whereas for the second the format is `MM\\\\DD\\\\YYYY`, and there is no message to alert the user of inconsistency in the output.\\r\\n\\r\\nThe problem lies with the `dayfirst` argument that selects between `DD\\\\MM\\\\YYYY` and `MM\\\\DD\\\\YYYY`. In the parser:\\r\\nhttps://github.com/pandas-dev/pandas/blob/04e9e0afd476b1b8bed930e47bf60ee20fa78f38/pandas/_libs/tslibs/parsing.pyx#L94-L163\\r\\nwe try  `DD\\\\MM\\\\YYYY` or `MM\\\\DD\\\\YYYY` first depending on `dayfirst` but if the result is invalid we try the other. \\r\\n\\r\\n#### Proposed change\\r\\nI\\'d like to raise warnings whenever we parse in contradiction to the directive of `dayfirst`. The OP, where `dayfirst` defaults to `False`, now raises a Warning:\\r\\n``` python\\r\\nIn [4]: pd.to_datetime([\"31/12/2014\", \"10/03/2011\"], dayfirst=False) \\r\\n   ...:                                                                                                               \\r\\n/workspaces/pandas-arw2019/pandas/core/arrays/datetimes.py:2044: UserWarning: Parsing 31/12/2014 DD/MM format.\\r\\n  result, tz_parsed = tslib.array_to_datetime(\\r\\nOut[4]: DatetimeIndex([\\'2014-12-31\\', \\'2011-10-03\\'], dtype=\\'datetime64[ns]\\', freq=None)\\r\\n```\\r\\nA downside of this change is that sometimes a consistent output produces unnecessary warnings (due to mismatch with the default value of `dayfirst`):\\r\\n``` python\\r\\nIn [11]: pd.to_datetime([\"31/12/2014\", \"30/04/2011\", \"31/05/2016\"] )                                                 \\r\\n/workspaces/pandas-arw2019/pandas/core/arrays/datetimes.py:2044: UserWarning: Parsing 31/12/2014 DD/MM format.\\r\\n  result, tz_parsed = tslib.array_to_datetime(\\r\\n/workspaces/pandas-arw2019/pandas/core/arrays/datetimes.py:2044: UserWarning: Parsing 30/04/2011 DD/MM format.\\r\\n  result, tz_parsed = tslib.array_to_datetime(\\r\\n/workspaces/pandas-arw2019/pandas/core/arrays/datetimes.py:2044: UserWarning: Parsing 31/05/2016 DD/MM format.\\r\\n  result, tz_parsed = tslib.array_to_datetime(\\r\\nOut[11]: DatetimeIndex([\\'2014-12-31\\', \\'2011-04-30\\', \\'2016-05-31\\'], dtype=\\'datetime64[ns]\\', freq=None)\\r\\n```\\r\\nbut these can be silenced with `infer_datetime_format`:\\r\\n``` python\\r\\nIn [12]: pd.to_datetime([\"31/12/2014\", \"30/04/2011\", \"31/05/2016\"], infer_datetime_format=True )                      \\r\\nOut[12]: DatetimeIndex([\\'2014-12-31\\', \\'2011-04-30\\', \\'2016-05-31\\'], dtype=\\'datetime64[ns]\\', freq=None)\\r\\n```\\r\\nFor invalid input (if it cannot be parsed according to a single format) we will *always* raise a warning, even with `infer_datetime_format=True`:\\r\\n``` python\\r\\nIn [13]: pd.to_datetime([\"31/12/2014\", \"03/31/2011\"], infer_datetime_format=True)                                     \\r\\n/workspaces/pandas-arw2019/pandas/core/arrays/datetimes.py:2044: UserWarning: Parsing 31/12/2014 DD/MM format.\\r\\n  result, tz_parsed = tslib.array_to_datetime(\\r\\nOut[13]: DatetimeIndex([\\'2014-12-31\\', \\'2011-03-31\\'], dtype=\\'datetime64[ns]\\', freq=None)\\r\\n```\\r\\n\\r\\n#### Remaining issues\\r\\nPersonally I can see a case for raising an error with \\r\\n``` python\\r\\nIn [13]: pd.to_datetime([\"31/12/2014\", \"03/31/2011\"], infer_datetime_format=True)                                     \\r\\n```\\r\\nsince there\\'s no valid way to process that. I also think that \\r\\n``` python\\r\\nIn [11]: pd.to_datetime([\"31/12/2014\", \"30/04/2011\", \"31/05/2016\"])                                                 \\r\\n```\\r\\nshouldn\\'t be raising warnings, but I feel much less strongly about that. That said, changing this behaviour will require more heavy-handed alterations to the codebase (and maybe performance implications - not sure).\\r\\n\\r\\nI think that the warnings I added here will allow users to figure out the origin of these problems when they turn up and that should do away with most of the headaches.',\n",
       "  'performed_via_github_app': None},\n",
       " {'url': 'https://api.github.com/repos/pandas-dev/pandas/issues/35427',\n",
       "  'repository_url': 'https://api.github.com/repos/pandas-dev/pandas',\n",
       "  'labels_url': 'https://api.github.com/repos/pandas-dev/pandas/issues/35427/labels{/name}',\n",
       "  'comments_url': 'https://api.github.com/repos/pandas-dev/pandas/issues/35427/comments',\n",
       "  'events_url': 'https://api.github.com/repos/pandas-dev/pandas/issues/35427/events',\n",
       "  'html_url': 'https://github.com/pandas-dev/pandas/pull/35427',\n",
       "  'id': 666199957,\n",
       "  'node_id': 'MDExOlB1bGxSZXF1ZXN0NDU3MDg0ODYy',\n",
       "  'number': 35427,\n",
       "  'title': 'MAINT: Fix issue in StataReader due to upstream changes',\n",
       "  'user': {'login': 'bashtage',\n",
       "   'id': 5585221,\n",
       "   'node_id': 'MDQ6VXNlcjU1ODUyMjE=',\n",
       "   'avatar_url': 'https://avatars3.githubusercontent.com/u/5585221?v=4',\n",
       "   'gravatar_id': '',\n",
       "   'url': 'https://api.github.com/users/bashtage',\n",
       "   'html_url': 'https://github.com/bashtage',\n",
       "   'followers_url': 'https://api.github.com/users/bashtage/followers',\n",
       "   'following_url': 'https://api.github.com/users/bashtage/following{/other_user}',\n",
       "   'gists_url': 'https://api.github.com/users/bashtage/gists{/gist_id}',\n",
       "   'starred_url': 'https://api.github.com/users/bashtage/starred{/owner}{/repo}',\n",
       "   'subscriptions_url': 'https://api.github.com/users/bashtage/subscriptions',\n",
       "   'organizations_url': 'https://api.github.com/users/bashtage/orgs',\n",
       "   'repos_url': 'https://api.github.com/users/bashtage/repos',\n",
       "   'events_url': 'https://api.github.com/users/bashtage/events{/privacy}',\n",
       "   'received_events_url': 'https://api.github.com/users/bashtage/received_events',\n",
       "   'type': 'User',\n",
       "   'site_admin': False},\n",
       "  'labels': [{'id': 48070600,\n",
       "    'node_id': 'MDU6TGFiZWw0ODA3MDYwMA==',\n",
       "    'url': 'https://api.github.com/repos/pandas-dev/pandas/labels/CI',\n",
       "    'name': 'CI',\n",
       "    'color': 'a2bca7',\n",
       "    'default': False,\n",
       "    'description': 'Related to Continuous Integration'},\n",
       "   {'id': 76865106,\n",
       "    'node_id': 'MDU6TGFiZWw3Njg2NTEwNg==',\n",
       "    'url': 'https://api.github.com/repos/pandas-dev/pandas/labels/Compat',\n",
       "    'name': 'Compat',\n",
       "    'color': '0052cc',\n",
       "    'default': False,\n",
       "    'description': 'Related to pandas compatibility with other libraries'},\n",
       "   {'id': 104865385,\n",
       "    'node_id': 'MDU6TGFiZWwxMDQ4NjUzODU=',\n",
       "    'url': 'https://api.github.com/repos/pandas-dev/pandas/labels/IO%20Stata',\n",
       "    'name': 'IO Stata',\n",
       "    'color': '5319e7',\n",
       "    'default': False,\n",
       "    'description': 'Stata: read_stata, to_stata'}],\n",
       "  'state': 'open',\n",
       "  'locked': False,\n",
       "  'assignee': None,\n",
       "  'assignees': [],\n",
       "  'milestone': {'url': 'https://api.github.com/repos/pandas-dev/pandas/milestones/75',\n",
       "   'html_url': 'https://github.com/pandas-dev/pandas/milestone/75',\n",
       "   'labels_url': 'https://api.github.com/repos/pandas-dev/pandas/milestones/75/labels',\n",
       "   'id': 5640672,\n",
       "   'node_id': 'MDk6TWlsZXN0b25lNTY0MDY3Mg==',\n",
       "   'number': 75,\n",
       "   'title': '1.1.1',\n",
       "   'description': 'on-merge: backport to 1.1.x',\n",
       "   'creator': {'login': 'jreback',\n",
       "    'id': 953992,\n",
       "    'node_id': 'MDQ6VXNlcjk1Mzk5Mg==',\n",
       "    'avatar_url': 'https://avatars2.githubusercontent.com/u/953992?v=4',\n",
       "    'gravatar_id': '',\n",
       "    'url': 'https://api.github.com/users/jreback',\n",
       "    'html_url': 'https://github.com/jreback',\n",
       "    'followers_url': 'https://api.github.com/users/jreback/followers',\n",
       "    'following_url': 'https://api.github.com/users/jreback/following{/other_user}',\n",
       "    'gists_url': 'https://api.github.com/users/jreback/gists{/gist_id}',\n",
       "    'starred_url': 'https://api.github.com/users/jreback/starred{/owner}{/repo}',\n",
       "    'subscriptions_url': 'https://api.github.com/users/jreback/subscriptions',\n",
       "    'organizations_url': 'https://api.github.com/users/jreback/orgs',\n",
       "    'repos_url': 'https://api.github.com/users/jreback/repos',\n",
       "    'events_url': 'https://api.github.com/users/jreback/events{/privacy}',\n",
       "    'received_events_url': 'https://api.github.com/users/jreback/received_events',\n",
       "    'type': 'User',\n",
       "    'site_admin': False},\n",
       "   'open_issues': 8,\n",
       "   'closed_issues': 1,\n",
       "   'state': 'open',\n",
       "   'created_at': '2020-07-10T13:54:44Z',\n",
       "   'updated_at': '2020-07-27T15:11:20Z',\n",
       "   'due_on': '2020-08-15T07:00:00Z',\n",
       "   'closed_at': None},\n",
       "  'comments': 2,\n",
       "  'created_at': '2020-07-27T10:57:26Z',\n",
       "  'updated_at': '2020-07-27T17:18:23Z',\n",
       "  'closed_at': None,\n",
       "  'author_association': 'CONTRIBUTOR',\n",
       "  'active_lock_reason': None,\n",
       "  'pull_request': {'url': 'https://api.github.com/repos/pandas-dev/pandas/pulls/35427',\n",
       "   'html_url': 'https://github.com/pandas-dev/pandas/pull/35427',\n",
       "   'diff_url': 'https://github.com/pandas-dev/pandas/pull/35427.diff',\n",
       "   'patch_url': 'https://github.com/pandas-dev/pandas/pull/35427.patch'},\n",
       "  'body': 'Avoid creating an array of dtypes to workaround NumPy future change\\r\\n\\r\\ncloses #35426\\r\\n\\r\\n- [X] closes #35426\\r\\n- [ ] tests added / passed\\r\\n- [X] passes `black pandas`\\r\\n- [X] passes `git diff upstream/master -u -- \"*.py\" | flake8 --diff`\\r\\n- [ ] whatsnew entry\\r\\n',\n",
       "  'performed_via_github_app': None},\n",
       " {'url': 'https://api.github.com/repos/pandas-dev/pandas/issues/35426',\n",
       "  'repository_url': 'https://api.github.com/repos/pandas-dev/pandas',\n",
       "  'labels_url': 'https://api.github.com/repos/pandas-dev/pandas/issues/35426/labels{/name}',\n",
       "  'comments_url': 'https://api.github.com/repos/pandas-dev/pandas/issues/35426/comments',\n",
       "  'events_url': 'https://api.github.com/repos/pandas-dev/pandas/issues/35426/events',\n",
       "  'html_url': 'https://github.com/pandas-dev/pandas/issues/35426',\n",
       "  'id': 666183589,\n",
       "  'node_id': 'MDU6SXNzdWU2NjYxODM1ODk=',\n",
       "  'number': 35426,\n",
       "  'title': 'CI/COMPAT: read_stata failing in numpy dev pipeline',\n",
       "  'user': {'login': 'AlexKirko',\n",
       "   'id': 23253999,\n",
       "   'node_id': 'MDQ6VXNlcjIzMjUzOTk5',\n",
       "   'avatar_url': 'https://avatars1.githubusercontent.com/u/23253999?v=4',\n",
       "   'gravatar_id': '',\n",
       "   'url': 'https://api.github.com/users/AlexKirko',\n",
       "   'html_url': 'https://github.com/AlexKirko',\n",
       "   'followers_url': 'https://api.github.com/users/AlexKirko/followers',\n",
       "   'following_url': 'https://api.github.com/users/AlexKirko/following{/other_user}',\n",
       "   'gists_url': 'https://api.github.com/users/AlexKirko/gists{/gist_id}',\n",
       "   'starred_url': 'https://api.github.com/users/AlexKirko/starred{/owner}{/repo}',\n",
       "   'subscriptions_url': 'https://api.github.com/users/AlexKirko/subscriptions',\n",
       "   'organizations_url': 'https://api.github.com/users/AlexKirko/orgs',\n",
       "   'repos_url': 'https://api.github.com/users/AlexKirko/repos',\n",
       "   'events_url': 'https://api.github.com/users/AlexKirko/events{/privacy}',\n",
       "   'received_events_url': 'https://api.github.com/users/AlexKirko/received_events',\n",
       "   'type': 'User',\n",
       "   'site_admin': False},\n",
       "  'labels': [{'id': 48070600,\n",
       "    'node_id': 'MDU6TGFiZWw0ODA3MDYwMA==',\n",
       "    'url': 'https://api.github.com/repos/pandas-dev/pandas/labels/CI',\n",
       "    'name': 'CI',\n",
       "    'color': 'a2bca7',\n",
       "    'default': False,\n",
       "    'description': 'Related to Continuous Integration'},\n",
       "   {'id': 76865106,\n",
       "    'node_id': 'MDU6TGFiZWw3Njg2NTEwNg==',\n",
       "    'url': 'https://api.github.com/repos/pandas-dev/pandas/labels/Compat',\n",
       "    'name': 'Compat',\n",
       "    'color': '0052cc',\n",
       "    'default': False,\n",
       "    'description': 'Related to pandas compatibility with other libraries'},\n",
       "   {'id': 104865385,\n",
       "    'node_id': 'MDU6TGFiZWwxMDQ4NjUzODU=',\n",
       "    'url': 'https://api.github.com/repos/pandas-dev/pandas/labels/IO%20Stata',\n",
       "    'name': 'IO Stata',\n",
       "    'color': '5319e7',\n",
       "    'default': False,\n",
       "    'description': 'Stata: read_stata, to_stata'}],\n",
       "  'state': 'open',\n",
       "  'locked': False,\n",
       "  'assignee': None,\n",
       "  'assignees': [],\n",
       "  'milestone': {'url': 'https://api.github.com/repos/pandas-dev/pandas/milestones/75',\n",
       "   'html_url': 'https://github.com/pandas-dev/pandas/milestone/75',\n",
       "   'labels_url': 'https://api.github.com/repos/pandas-dev/pandas/milestones/75/labels',\n",
       "   'id': 5640672,\n",
       "   'node_id': 'MDk6TWlsZXN0b25lNTY0MDY3Mg==',\n",
       "   'number': 75,\n",
       "   'title': '1.1.1',\n",
       "   'description': 'on-merge: backport to 1.1.x',\n",
       "   'creator': {'login': 'jreback',\n",
       "    'id': 953992,\n",
       "    'node_id': 'MDQ6VXNlcjk1Mzk5Mg==',\n",
       "    'avatar_url': 'https://avatars2.githubusercontent.com/u/953992?v=4',\n",
       "    'gravatar_id': '',\n",
       "    'url': 'https://api.github.com/users/jreback',\n",
       "    'html_url': 'https://github.com/jreback',\n",
       "    'followers_url': 'https://api.github.com/users/jreback/followers',\n",
       "    'following_url': 'https://api.github.com/users/jreback/following{/other_user}',\n",
       "    'gists_url': 'https://api.github.com/users/jreback/gists{/gist_id}',\n",
       "    'starred_url': 'https://api.github.com/users/jreback/starred{/owner}{/repo}',\n",
       "    'subscriptions_url': 'https://api.github.com/users/jreback/subscriptions',\n",
       "    'organizations_url': 'https://api.github.com/users/jreback/orgs',\n",
       "    'repos_url': 'https://api.github.com/users/jreback/repos',\n",
       "    'events_url': 'https://api.github.com/users/jreback/events{/privacy}',\n",
       "    'received_events_url': 'https://api.github.com/users/jreback/received_events',\n",
       "    'type': 'User',\n",
       "    'site_admin': False},\n",
       "   'open_issues': 8,\n",
       "   'closed_issues': 1,\n",
       "   'state': 'open',\n",
       "   'created_at': '2020-07-10T13:54:44Z',\n",
       "   'updated_at': '2020-07-27T15:11:20Z',\n",
       "   'due_on': '2020-08-15T07:00:00Z',\n",
       "   'closed_at': None},\n",
       "  'comments': 5,\n",
       "  'created_at': '2020-07-27T10:34:35Z',\n",
       "  'updated_at': '2020-07-28T07:48:29Z',\n",
       "  'closed_at': None,\n",
       "  'author_association': 'MEMBER',\n",
       "  'active_lock_reason': None,\n",
       "  'body': \"- [X] I have checked that this issue has not already been reported.\\r\\n\\r\\n- [X] I have confirmed this bug exists on the latest version of pandas.\\r\\n\\r\\n- [X] (optional) I have confirmed this bug exists on the master branch of pandas.\\r\\n\\r\\n---\\r\\n\\r\\n#### Problem description\\r\\n\\r\\nLooks like a change in numpy broke our `read_stata` code, so now we have a bunch of `read_stata` test errors popping up during CI in the numpy_dev pipeline. Maybe this [Numpy PR](https://github.com/numpy/numpy/pull/16943) somehow broke things? I don't think any other PR merged during the last 24 hours could have possibly done so, although I might be missing something.\\r\\n\\r\\nError example:\\r\\n```\\r\\npandas/tests/io/test_stata.py:52: \\r\\n_ _ _ _ _ _ _ _ _ _ _ _ _ _ _ _ _ _ _ _ _ _ _ _ _ _ _ _ _ _ _ _ _ _ _ _ _ _ _ _ \\r\\npandas/io/stata.py:1928: in read_stata\\r\\n    data = reader.read()\\r\\npandas/io/stata.py:1646: in read\\r\\n    cols_ = np.where(self.dtyplist)[0]\\r\\n_ _ _ _ _ _ _ _ _ _ _ _ _ _ _ _ _ _ _ _ _ _ _ _ _ _ _ _ _ _ _ _ _ _ _ _ _ _ _ _ \\r\\n\\r\\nargs = ([<class 'numpy.int8'>, <class 'numpy.int16'>, <class 'numpy.int32'>, <class 'numpy.float32'>, <class 'numpy.float64'>, <class 'numpy.float32'>, ...],)\\r\\nkwargs = {}\\r\\nrelevant_args = ([<class 'numpy.int8'>, <class 'numpy.int16'>, <class 'numpy.int32'>, <class 'numpy.float32'>, <class 'numpy.float64'>, <class 'numpy.float32'>, ...], None, None)\\r\\n\\r\\n>   ???\\r\\nE   ValueError: invalid __array_struct__\\r\\n```\\r\\n\",\n",
       "  'performed_via_github_app': None},\n",
       " {'url': 'https://api.github.com/repos/pandas-dev/pandas/issues/35425',\n",
       "  'repository_url': 'https://api.github.com/repos/pandas-dev/pandas',\n",
       "  'labels_url': 'https://api.github.com/repos/pandas-dev/pandas/issues/35425/labels{/name}',\n",
       "  'comments_url': 'https://api.github.com/repos/pandas-dev/pandas/issues/35425/comments',\n",
       "  'events_url': 'https://api.github.com/repos/pandas-dev/pandas/issues/35425/events',\n",
       "  'html_url': 'https://github.com/pandas-dev/pandas/issues/35425',\n",
       "  'id': 666160202,\n",
       "  'node_id': 'MDU6SXNzdWU2NjYxNjAyMDI=',\n",
       "  'number': 35425,\n",
       "  'title': 'BUG: attrs lost for Series in DataFrame',\n",
       "  'user': {'login': 'RobertRosca',\n",
       "   'id': 32569096,\n",
       "   'node_id': 'MDQ6VXNlcjMyNTY5MDk2',\n",
       "   'avatar_url': 'https://avatars0.githubusercontent.com/u/32569096?v=4',\n",
       "   'gravatar_id': '',\n",
       "   'url': 'https://api.github.com/users/RobertRosca',\n",
       "   'html_url': 'https://github.com/RobertRosca',\n",
       "   'followers_url': 'https://api.github.com/users/RobertRosca/followers',\n",
       "   'following_url': 'https://api.github.com/users/RobertRosca/following{/other_user}',\n",
       "   'gists_url': 'https://api.github.com/users/RobertRosca/gists{/gist_id}',\n",
       "   'starred_url': 'https://api.github.com/users/RobertRosca/starred{/owner}{/repo}',\n",
       "   'subscriptions_url': 'https://api.github.com/users/RobertRosca/subscriptions',\n",
       "   'organizations_url': 'https://api.github.com/users/RobertRosca/orgs',\n",
       "   'repos_url': 'https://api.github.com/users/RobertRosca/repos',\n",
       "   'events_url': 'https://api.github.com/users/RobertRosca/events{/privacy}',\n",
       "   'received_events_url': 'https://api.github.com/users/RobertRosca/received_events',\n",
       "   'type': 'User',\n",
       "   'site_admin': False},\n",
       "  'labels': [{'id': 76811,\n",
       "    'node_id': 'MDU6TGFiZWw3NjgxMQ==',\n",
       "    'url': 'https://api.github.com/repos/pandas-dev/pandas/labels/Bug',\n",
       "    'name': 'Bug',\n",
       "    'color': 'e10c02',\n",
       "    'default': False,\n",
       "    'description': None},\n",
       "   {'id': 1539579994,\n",
       "    'node_id': 'MDU6TGFiZWwxNTM5NTc5OTk0',\n",
       "    'url': 'https://api.github.com/repos/pandas-dev/pandas/labels/metadata',\n",
       "    'name': 'metadata',\n",
       "    'color': '56efc9',\n",
       "    'default': False,\n",
       "    'description': '_metadata attribute'}],\n",
       "  'state': 'open',\n",
       "  'locked': False,\n",
       "  'assignee': None,\n",
       "  'assignees': [],\n",
       "  'milestone': None,\n",
       "  'comments': 2,\n",
       "  'created_at': '2020-07-27T10:04:47Z',\n",
       "  'updated_at': '2020-07-28T03:56:23Z',\n",
       "  'closed_at': None,\n",
       "  'author_association': 'NONE',\n",
       "  'active_lock_reason': None,\n",
       "  'body': '- [x] I have checked that this issue has not already been reported.\\r\\n  - Has sort of come up in other issues related to metadata/attrs not propagating through properly, however I haven\\'t seen any issues specifically about `Series` attrs being lost when put into a `DataFrame`.\\r\\n\\r\\n- [x] I have confirmed this bug exists on the latest version of pandas.\\r\\n\\r\\n- [x] (optional) I have confirmed this bug exists on the master branch of pandas.\\r\\n\\r\\n---\\r\\n\\r\\n**Note**: Please read [this guide](https://matthewrocklin.com/blog/work/2018/02/28/minimal-bug-reports) detailing how to provide the necessary information for us to reproduce your bug.\\r\\n\\r\\n#### Code Sample, a copy-pastable example\\r\\n\\r\\nSee this [GitHub Gist Notebook](https://gist.github.com/RobertRosca/d3c53151dd93242c448daf008fb4bb23).\\r\\n\\r\\nSummary of the issue is:\\r\\n\\r\\n```python\\r\\nimport pandas as pd\\r\\n\\r\\n#  Make some dummy dataframe\\r\\ndf = pd.DataFrame({\\'col1\\': [1, 2], \\'col2\\': [3, 4]})\\r\\n\\r\\n#  Make some dummy series\\r\\ncol1_w_attr = df[\"col1\"].copy()\\r\\n#  Add some attrs to it\\r\\ncol1_w_attr.attrs[\"test_attr\"] = 1\\r\\ndf[\"col1_w_attr\"] = col1_w_attr\\r\\n#  Issue 1: The attrs are missing, call `__finalize__` manually\\r\\ndf[\"col1_w_attr\"].__finalize__(col1_w_attr)\\r\\n\\r\\n#  Repeat the above with another column:\\r\\ncol2_w_attr = df[\"col2\"].copy()\\r\\ncol2_w_attr.attrs[\"test_attr\"] = 2\\r\\ndf[\"col2_w_attr\"] = col2_w_attr\\r\\ndf[\"col2_w_attr\"].__finalize__(col2_w_attr)\\r\\n\\r\\n#  Attrs are present as before\\r\\ndf[\"col2_w_attr\"].attrs\\r\\n\\r\\n#  Issue 2: col1_w_attrs is now missing its attrs:\\r\\ndf[\"col1_w_attr\"].attrs\\r\\n```\\r\\n\\r\\n#### Problem description\\r\\n\\r\\nFirst issue is that attrs are not propagated through when a `Series` is added to a `DataFrame` (likely related to #28283).\\r\\n\\r\\nSecond issue is that if you call `__finalize__` to make sure that the attrs are present, once you add another column in or modify the dataframe, the attrs already present for a column are lost. My guess is that when the DataFrame is modified, finalize is not called per-column again, but I haven\\'t looked into it much.\\r\\n\\r\\nI\\'d be happy to help with this issue, however there are already many issues related to this topic and a few branches where others are working on attrs/metadata/finalize, so I\\'m a bit hesitant to start work as it\\'ll probably conflict with what has already been done.\\r\\n\\r\\nWhat would be the best place to discuss collaboration on this?\\r\\n\\r\\n#### Expected Output\\r\\n\\r\\nExpectation would be that you can attach some attrs to a Series, place it into a dataframe, modify/work with the dataframe, then access the attrs again.\\r\\n\\r\\n#### Output of ``pd.show_versions()``\\r\\n\\r\\n<details>\\r\\n\\r\\nimport pandas as pd\\r\\n\\r\\npd.show_versions()\\r\\n\\r\\n\\r\\nINSTALLED VERSIONS\\r\\n------------------\\r\\ncommit           : None\\r\\npython           : 3.8.3.final.0\\r\\npython-bits      : 64\\r\\nOS               : Linux\\r\\nOS-release       : 5.7.0-3-MANJARO\\r\\nmachine          : x86_64\\r\\nprocessor        : \\r\\nbyteorder        : little\\r\\nLC_ALL           : None\\r\\nLANG             : en_GB.UTF-8\\r\\nLOCALE           : en_GB.UTF-8\\r\\n\\r\\npandas           : 1.0.5\\r\\nnumpy            : 1.19.1\\r\\npytz             : 2020.1\\r\\ndateutil         : 2.8.1\\r\\npip              : 19.2.3\\r\\nsetuptools       : 41.2.0\\r\\nCython           : None\\r\\npytest           : None\\r\\nhypothesis       : None\\r\\nsphinx           : None\\r\\nblosc            : None\\r\\nfeather          : None\\r\\nxlsxwriter       : None\\r\\nlxml.etree       : None\\r\\nhtml5lib         : None\\r\\npymysql          : None\\r\\npsycopg2         : None\\r\\njinja2           : 2.11.2\\r\\nIPython          : 7.16.1\\r\\npandas_datareader: None\\r\\nbs4              : None\\r\\nbottleneck       : None\\r\\nfastparquet      : None\\r\\ngcsfs            : None\\r\\nlxml.etree       : None\\r\\nmatplotlib       : None\\r\\nnumexpr          : None\\r\\nodfpy            : None\\r\\nopenpyxl         : None\\r\\npandas_gbq       : None\\r\\npyarrow          : None\\r\\npytables         : None\\r\\npytest           : None\\r\\npyxlsb           : None\\r\\ns3fs             : None\\r\\nscipy            : None\\r\\nsqlalchemy       : None\\r\\ntables           : None\\r\\ntabulate         : None\\r\\nxarray           : None\\r\\nxlrd             : None\\r\\nxlwt             : None\\r\\nxlsxwriter       : None\\r\\nnumba            : None\\r\\n\\r\\n</details>\\r\\n',\n",
       "  'performed_via_github_app': None},\n",
       " {'url': 'https://api.github.com/repos/pandas-dev/pandas/issues/35424',\n",
       "  'repository_url': 'https://api.github.com/repos/pandas-dev/pandas',\n",
       "  'labels_url': 'https://api.github.com/repos/pandas-dev/pandas/issues/35424/labels{/name}',\n",
       "  'comments_url': 'https://api.github.com/repos/pandas-dev/pandas/issues/35424/comments',\n",
       "  'events_url': 'https://api.github.com/repos/pandas-dev/pandas/issues/35424/events',\n",
       "  'html_url': 'https://github.com/pandas-dev/pandas/pull/35424',\n",
       "  'id': 666146406,\n",
       "  'node_id': 'MDExOlB1bGxSZXF1ZXN0NDU3MDQwNTg0',\n",
       "  'number': 35424,\n",
       "  'title': 'TST: adding test for .describe() with duplicate columns',\n",
       "  'user': {'login': 'smithto1',\n",
       "   'id': 3813175,\n",
       "   'node_id': 'MDQ6VXNlcjM4MTMxNzU=',\n",
       "   'avatar_url': 'https://avatars2.githubusercontent.com/u/3813175?v=4',\n",
       "   'gravatar_id': '',\n",
       "   'url': 'https://api.github.com/users/smithto1',\n",
       "   'html_url': 'https://github.com/smithto1',\n",
       "   'followers_url': 'https://api.github.com/users/smithto1/followers',\n",
       "   'following_url': 'https://api.github.com/users/smithto1/following{/other_user}',\n",
       "   'gists_url': 'https://api.github.com/users/smithto1/gists{/gist_id}',\n",
       "   'starred_url': 'https://api.github.com/users/smithto1/starred{/owner}{/repo}',\n",
       "   'subscriptions_url': 'https://api.github.com/users/smithto1/subscriptions',\n",
       "   'organizations_url': 'https://api.github.com/users/smithto1/orgs',\n",
       "   'repos_url': 'https://api.github.com/users/smithto1/repos',\n",
       "   'events_url': 'https://api.github.com/users/smithto1/events{/privacy}',\n",
       "   'received_events_url': 'https://api.github.com/users/smithto1/received_events',\n",
       "   'type': 'User',\n",
       "   'site_admin': False},\n",
       "  'labels': [{'id': 697792067,\n",
       "    'node_id': 'MDU6TGFiZWw2OTc3OTIwNjc=',\n",
       "    'url': 'https://api.github.com/repos/pandas-dev/pandas/labels/Apply',\n",
       "    'name': 'Apply',\n",
       "    'color': 'fbca04',\n",
       "    'default': False,\n",
       "    'description': 'Apply, Aggregate, Transform'},\n",
       "   {'id': 233160,\n",
       "    'node_id': 'MDU6TGFiZWwyMzMxNjA=',\n",
       "    'url': 'https://api.github.com/repos/pandas-dev/pandas/labels/Groupby',\n",
       "    'name': 'Groupby',\n",
       "    'color': '729FCF',\n",
       "    'default': False,\n",
       "    'description': None},\n",
       "   {'id': 127685,\n",
       "    'node_id': 'MDU6TGFiZWwxMjc2ODU=',\n",
       "    'url': 'https://api.github.com/repos/pandas-dev/pandas/labels/Testing',\n",
       "    'name': 'Testing',\n",
       "    'color': 'C4A000',\n",
       "    'default': False,\n",
       "    'description': 'Custom testing functions or related to the test suite'}],\n",
       "  'state': 'open',\n",
       "  'locked': False,\n",
       "  'assignee': None,\n",
       "  'assignees': [],\n",
       "  'milestone': None,\n",
       "  'comments': 0,\n",
       "  'created_at': '2020-07-27T09:47:09Z',\n",
       "  'updated_at': '2020-07-27T17:42:30Z',\n",
       "  'closed_at': None,\n",
       "  'author_association': 'CONTRIBUTOR',\n",
       "  'active_lock_reason': None,\n",
       "  'pull_request': {'url': 'https://api.github.com/repos/pandas-dev/pandas/pulls/35424',\n",
       "   'html_url': 'https://github.com/pandas-dev/pandas/pull/35424',\n",
       "   'diff_url': 'https://github.com/pandas-dev/pandas/pull/35424.diff',\n",
       "   'patch_url': 'https://github.com/pandas-dev/pandas/pull/35424.patch'},\n",
       "  'body': '- [x] closes #35423 \\r\\n- [x] tests added / passed\\r\\n- [x] passes `black pandas`\\r\\n- [x] passes `git diff upstream/master -u -- \"*.py\" | flake8 --diff`\\r\\n\\r\\nWhile working on #35314 I made a change that broke `GroupBy.apply` if you called it on a DataFrame with duplicate columns; however, this break was not caught by any test. Was just caught on inpsection: https://github.com/pandas-dev/pandas/pull/35314#discussion_r460000612\\r\\n\\r\\nThis PR is just to add a test for this case to ensure it works and doesn\\'t break again in the future. ',\n",
       "  'performed_via_github_app': None},\n",
       " {'url': 'https://api.github.com/repos/pandas-dev/pandas/issues/35423',\n",
       "  'repository_url': 'https://api.github.com/repos/pandas-dev/pandas',\n",
       "  'labels_url': 'https://api.github.com/repos/pandas-dev/pandas/issues/35423/labels{/name}',\n",
       "  'comments_url': 'https://api.github.com/repos/pandas-dev/pandas/issues/35423/comments',\n",
       "  'events_url': 'https://api.github.com/repos/pandas-dev/pandas/issues/35423/events',\n",
       "  'html_url': 'https://github.com/pandas-dev/pandas/issues/35423',\n",
       "  'id': 666144923,\n",
       "  'node_id': 'MDU6SXNzdWU2NjYxNDQ5MjM=',\n",
       "  'number': 35423,\n",
       "  'title': 'TST: Add test for `GroupBy.describe()` with duplicate columns',\n",
       "  'user': {'login': 'smithto1',\n",
       "   'id': 3813175,\n",
       "   'node_id': 'MDQ6VXNlcjM4MTMxNzU=',\n",
       "   'avatar_url': 'https://avatars2.githubusercontent.com/u/3813175?v=4',\n",
       "   'gravatar_id': '',\n",
       "   'url': 'https://api.github.com/users/smithto1',\n",
       "   'html_url': 'https://github.com/smithto1',\n",
       "   'followers_url': 'https://api.github.com/users/smithto1/followers',\n",
       "   'following_url': 'https://api.github.com/users/smithto1/following{/other_user}',\n",
       "   'gists_url': 'https://api.github.com/users/smithto1/gists{/gist_id}',\n",
       "   'starred_url': 'https://api.github.com/users/smithto1/starred{/owner}{/repo}',\n",
       "   'subscriptions_url': 'https://api.github.com/users/smithto1/subscriptions',\n",
       "   'organizations_url': 'https://api.github.com/users/smithto1/orgs',\n",
       "   'repos_url': 'https://api.github.com/users/smithto1/repos',\n",
       "   'events_url': 'https://api.github.com/users/smithto1/events{/privacy}',\n",
       "   'received_events_url': 'https://api.github.com/users/smithto1/received_events',\n",
       "   'type': 'User',\n",
       "   'site_admin': False},\n",
       "  'labels': [{'id': 697792067,\n",
       "    'node_id': 'MDU6TGFiZWw2OTc3OTIwNjc=',\n",
       "    'url': 'https://api.github.com/repos/pandas-dev/pandas/labels/Apply',\n",
       "    'name': 'Apply',\n",
       "    'color': 'fbca04',\n",
       "    'default': False,\n",
       "    'description': 'Apply, Aggregate, Transform'},\n",
       "   {'id': 233160,\n",
       "    'node_id': 'MDU6TGFiZWwyMzMxNjA=',\n",
       "    'url': 'https://api.github.com/repos/pandas-dev/pandas/labels/Groupby',\n",
       "    'name': 'Groupby',\n",
       "    'color': '729FCF',\n",
       "    'default': False,\n",
       "    'description': None},\n",
       "   {'id': 127685,\n",
       "    'node_id': 'MDU6TGFiZWwxMjc2ODU=',\n",
       "    'url': 'https://api.github.com/repos/pandas-dev/pandas/labels/Testing',\n",
       "    'name': 'Testing',\n",
       "    'color': 'C4A000',\n",
       "    'default': False,\n",
       "    'description': 'Custom testing functions or related to the test suite'}],\n",
       "  'state': 'open',\n",
       "  'locked': False,\n",
       "  'assignee': None,\n",
       "  'assignees': [],\n",
       "  'milestone': None,\n",
       "  'comments': 0,\n",
       "  'created_at': '2020-07-27T09:44:59Z',\n",
       "  'updated_at': '2020-07-27T11:27:58Z',\n",
       "  'closed_at': None,\n",
       "  'author_association': 'CONTRIBUTOR',\n",
       "  'active_lock_reason': None,\n",
       "  'body': \"- [x] I have checked that this issue has not already been reported.\\r\\n\\r\\n- [x] I have confirmed this bug exists on the latest version of pandas.\\r\\n\\r\\n- [x] (optional) I have confirmed this bug exists on the master branch of pandas.\\r\\n\\r\\n---\\r\\n\\r\\nWhile working on #35314 I made a change that broke `GroupBy.apply` if you called it on a DataFrame with duplicate columns; however, this break as not caught by any test. Was just caught on inpsection: https://github.com/pandas-dev/pandas/pull/35314#discussion_r460000612\\r\\n\\r\\nThis issue is just to add a test for this case to ensure it works and doesn't break again in the future. \",\n",
       "  'performed_via_github_app': None},\n",
       " {'url': 'https://api.github.com/repos/pandas-dev/pandas/issues/35421',\n",
       "  'repository_url': 'https://api.github.com/repos/pandas-dev/pandas',\n",
       "  'labels_url': 'https://api.github.com/repos/pandas-dev/pandas/issues/35421/labels{/name}',\n",
       "  'comments_url': 'https://api.github.com/repos/pandas-dev/pandas/issues/35421/comments',\n",
       "  'events_url': 'https://api.github.com/repos/pandas-dev/pandas/issues/35421/events',\n",
       "  'html_url': 'https://github.com/pandas-dev/pandas/issues/35421',\n",
       "  'id': 666091563,\n",
       "  'node_id': 'MDU6SXNzdWU2NjYwOTE1NjM=',\n",
       "  'number': 35421,\n",
       "  'title': 'Support reading YAML files',\n",
       "  'user': {'login': 'janosh',\n",
       "   'id': 30958850,\n",
       "   'node_id': 'MDQ6VXNlcjMwOTU4ODUw',\n",
       "   'avatar_url': 'https://avatars0.githubusercontent.com/u/30958850?v=4',\n",
       "   'gravatar_id': '',\n",
       "   'url': 'https://api.github.com/users/janosh',\n",
       "   'html_url': 'https://github.com/janosh',\n",
       "   'followers_url': 'https://api.github.com/users/janosh/followers',\n",
       "   'following_url': 'https://api.github.com/users/janosh/following{/other_user}',\n",
       "   'gists_url': 'https://api.github.com/users/janosh/gists{/gist_id}',\n",
       "   'starred_url': 'https://api.github.com/users/janosh/starred{/owner}{/repo}',\n",
       "   'subscriptions_url': 'https://api.github.com/users/janosh/subscriptions',\n",
       "   'organizations_url': 'https://api.github.com/users/janosh/orgs',\n",
       "   'repos_url': 'https://api.github.com/users/janosh/repos',\n",
       "   'events_url': 'https://api.github.com/users/janosh/events{/privacy}',\n",
       "   'received_events_url': 'https://api.github.com/users/janosh/received_events',\n",
       "   'type': 'User',\n",
       "   'site_admin': False},\n",
       "  'labels': [{'id': 76812,\n",
       "    'node_id': 'MDU6TGFiZWw3NjgxMg==',\n",
       "    'url': 'https://api.github.com/repos/pandas-dev/pandas/labels/Enhancement',\n",
       "    'name': 'Enhancement',\n",
       "    'color': '4E9A06',\n",
       "    'default': False,\n",
       "    'description': None},\n",
       "   {'id': 2301354,\n",
       "    'node_id': 'MDU6TGFiZWwyMzAxMzU0',\n",
       "    'url': 'https://api.github.com/repos/pandas-dev/pandas/labels/IO%20Data',\n",
       "    'name': 'IO Data',\n",
       "    'color': '06909A',\n",
       "    'default': False,\n",
       "    'description': \"IO issues that don't fit into a more specific label\"},\n",
       "   {'id': 219960758,\n",
       "    'node_id': 'MDU6TGFiZWwyMTk5NjA3NTg=',\n",
       "    'url': 'https://api.github.com/repos/pandas-dev/pandas/labels/Needs%20Discussion',\n",
       "    'name': 'Needs Discussion',\n",
       "    'color': '207de5',\n",
       "    'default': False,\n",
       "    'description': None}],\n",
       "  'state': 'open',\n",
       "  'locked': False,\n",
       "  'assignee': None,\n",
       "  'assignees': [],\n",
       "  'milestone': None,\n",
       "  'comments': 3,\n",
       "  'created_at': '2020-07-27T08:25:21Z',\n",
       "  'updated_at': '2020-07-27T18:32:45Z',\n",
       "  'closed_at': None,\n",
       "  'author_association': 'NONE',\n",
       "  'active_lock_reason': None,\n",
       "  'body': 'Would be cool if pandas supported reading YAML files.\\r\\n\\r\\n#### Describe the solution you\\'d like\\r\\n\\r\\n`pd.read_yaml(file_path: str, **kwargs: dict)`\\r\\n\\r\\n#### API breaking implications\\r\\n\\r\\nNone\\r\\n\\r\\n#### Describe alternatives you\\'ve considered\\r\\n\\r\\nYou can of course import the `yaml` module, use it to read the file and then feed that data into pandas.\\r\\n\\r\\n```py\\r\\nimport pandas as pd\\r\\nimport yaml\\r\\n\\r\\nwith open(\"data.yml\") as stream:\\r\\n    data = yaml.safe_load(stream)\\r\\n\\r\\ndf = pd.DataFrame(data)\\r\\n```\\r\\n\\r\\nBut for a format that has become as widely used as YAML, this is a lot of manual work compared to\\r\\n\\r\\n```py\\r\\nimport pandas as pd\\r\\n\\r\\ndf = pd.read_yaml(\"data.yml\")\\r\\n```',\n",
       "  'performed_via_github_app': None},\n",
       " {'url': 'https://api.github.com/repos/pandas-dev/pandas/issues/35420',\n",
       "  'repository_url': 'https://api.github.com/repos/pandas-dev/pandas',\n",
       "  'labels_url': 'https://api.github.com/repos/pandas-dev/pandas/issues/35420/labels{/name}',\n",
       "  'comments_url': 'https://api.github.com/repos/pandas-dev/pandas/issues/35420/comments',\n",
       "  'events_url': 'https://api.github.com/repos/pandas-dev/pandas/issues/35420/events',\n",
       "  'html_url': 'https://github.com/pandas-dev/pandas/issues/35420',\n",
       "  'id': 666045275,\n",
       "  'node_id': 'MDU6SXNzdWU2NjYwNDUyNzU=',\n",
       "  'number': 35420,\n",
       "  'title': \"to_json/read_json can't handle interval index\",\n",
       "  'user': {'login': 'konstantinmiller',\n",
       "   'id': 2629945,\n",
       "   'node_id': 'MDQ6VXNlcjI2Mjk5NDU=',\n",
       "   'avatar_url': 'https://avatars1.githubusercontent.com/u/2629945?v=4',\n",
       "   'gravatar_id': '',\n",
       "   'url': 'https://api.github.com/users/konstantinmiller',\n",
       "   'html_url': 'https://github.com/konstantinmiller',\n",
       "   'followers_url': 'https://api.github.com/users/konstantinmiller/followers',\n",
       "   'following_url': 'https://api.github.com/users/konstantinmiller/following{/other_user}',\n",
       "   'gists_url': 'https://api.github.com/users/konstantinmiller/gists{/gist_id}',\n",
       "   'starred_url': 'https://api.github.com/users/konstantinmiller/starred{/owner}{/repo}',\n",
       "   'subscriptions_url': 'https://api.github.com/users/konstantinmiller/subscriptions',\n",
       "   'organizations_url': 'https://api.github.com/users/konstantinmiller/orgs',\n",
       "   'repos_url': 'https://api.github.com/users/konstantinmiller/repos',\n",
       "   'events_url': 'https://api.github.com/users/konstantinmiller/events{/privacy}',\n",
       "   'received_events_url': 'https://api.github.com/users/konstantinmiller/received_events',\n",
       "   'type': 'User',\n",
       "   'site_admin': False},\n",
       "  'labels': [{'id': 76811,\n",
       "    'node_id': 'MDU6TGFiZWw3NjgxMQ==',\n",
       "    'url': 'https://api.github.com/repos/pandas-dev/pandas/labels/Bug',\n",
       "    'name': 'Bug',\n",
       "    'color': 'e10c02',\n",
       "    'default': False,\n",
       "    'description': None},\n",
       "   {'id': 49379259,\n",
       "    'node_id': 'MDU6TGFiZWw0OTM3OTI1OQ==',\n",
       "    'url': 'https://api.github.com/repos/pandas-dev/pandas/labels/IO%20JSON',\n",
       "    'name': 'IO JSON',\n",
       "    'color': '207de5',\n",
       "    'default': False,\n",
       "    'description': 'read_json, to_json, json_normalize'},\n",
       "   {'id': 150096370,\n",
       "    'node_id': 'MDU6TGFiZWwxNTAwOTYzNzA=',\n",
       "    'url': 'https://api.github.com/repos/pandas-dev/pandas/labels/Interval',\n",
       "    'name': 'Interval',\n",
       "    'color': '009800',\n",
       "    'default': False,\n",
       "    'description': 'Interval data type'}],\n",
       "  'state': 'open',\n",
       "  'locked': False,\n",
       "  'assignee': None,\n",
       "  'assignees': [],\n",
       "  'milestone': {'url': 'https://api.github.com/repos/pandas-dev/pandas/milestones/32',\n",
       "   'html_url': 'https://github.com/pandas-dev/pandas/milestone/32',\n",
       "   'labels_url': 'https://api.github.com/repos/pandas-dev/pandas/milestones/32/labels',\n",
       "   'id': 933188,\n",
       "   'node_id': 'MDk6TWlsZXN0b25lOTMzMTg4',\n",
       "   'number': 32,\n",
       "   'title': 'Contributions Welcome',\n",
       "   'description': 'Changes that would be nice to have in the next release. These issues are not blocking. They will be pushed to the next release if no one has time to fix them.',\n",
       "   'creator': {'login': 'jreback',\n",
       "    'id': 953992,\n",
       "    'node_id': 'MDQ6VXNlcjk1Mzk5Mg==',\n",
       "    'avatar_url': 'https://avatars2.githubusercontent.com/u/953992?v=4',\n",
       "    'gravatar_id': '',\n",
       "    'url': 'https://api.github.com/users/jreback',\n",
       "    'html_url': 'https://github.com/jreback',\n",
       "    'followers_url': 'https://api.github.com/users/jreback/followers',\n",
       "    'following_url': 'https://api.github.com/users/jreback/following{/other_user}',\n",
       "    'gists_url': 'https://api.github.com/users/jreback/gists{/gist_id}',\n",
       "    'starred_url': 'https://api.github.com/users/jreback/starred{/owner}{/repo}',\n",
       "    'subscriptions_url': 'https://api.github.com/users/jreback/subscriptions',\n",
       "    'organizations_url': 'https://api.github.com/users/jreback/orgs',\n",
       "    'repos_url': 'https://api.github.com/users/jreback/repos',\n",
       "    'events_url': 'https://api.github.com/users/jreback/events{/privacy}',\n",
       "    'received_events_url': 'https://api.github.com/users/jreback/received_events',\n",
       "    'type': 'User',\n",
       "    'site_admin': False},\n",
       "   'open_issues': 1187,\n",
       "   'closed_issues': 598,\n",
       "   'state': 'open',\n",
       "   'created_at': '2015-01-13T10:53:19Z',\n",
       "   'updated_at': '2020-07-27T20:46:43Z',\n",
       "   'due_on': None,\n",
       "   'closed_at': None},\n",
       "  'comments': 2,\n",
       "  'created_at': '2020-07-27T07:17:03Z',\n",
       "  'updated_at': '2020-07-27T13:41:17Z',\n",
       "  'closed_at': None,\n",
       "  'author_association': 'NONE',\n",
       "  'active_lock_reason': None,\n",
       "  'body': 'Serializing a data frame with an interval index to JSON and then deserializing it fails to recover the index. Here is an example:\\r\\n```\\r\\ndf = pd.DataFrame(index=pd.IntervalIndex(closed=\\'left\\', dtype=\\'interval[int64]\\', \\r\\n                                         data=[pd.Interval(0, 2, closed=\\'left\\')]), \\r\\n                  data={\\'a\\': [42\\'})\\r\\nserialized = df.to_json(orient=\\'table\\')\\r\\ndeserialized = pd.read_json(serialized, orient=\\'table\\')\\r\\n```\\r\\n\\r\\nLooking at `serialized` reveals that the interval index is serialized as `any` type looking like that: \\r\\n```\\r\\n{\"closed\":\"left\",\"closed_right\":false,\"left\":0,\"mid\":0.5,\"open_right\":true,\"right\":1}\\r\\n```\\r\\nand looking at `deserialized.index[0]` reveals that the interval type wasn\\'t recovered but rather the de-serialized value is still a dict:\\r\\n```\\r\\n{\\'closed\\': \\'left\\',\\r\\n \\'closed_right\\': False,\\r\\n \\'left\\': 0,\\r\\n \\'mid\\': 1.0,\\r\\n \\'open_right\\': True,\\r\\n \\'right\\': 2}\\r\\n```',\n",
       "  'performed_via_github_app': None},\n",
       " {'url': 'https://api.github.com/repos/pandas-dev/pandas/issues/35419',\n",
       "  'repository_url': 'https://api.github.com/repos/pandas-dev/pandas',\n",
       "  'labels_url': 'https://api.github.com/repos/pandas-dev/pandas/issues/35419/labels{/name}',\n",
       "  'comments_url': 'https://api.github.com/repos/pandas-dev/pandas/issues/35419/comments',\n",
       "  'events_url': 'https://api.github.com/repos/pandas-dev/pandas/issues/35419/events',\n",
       "  'html_url': 'https://github.com/pandas-dev/pandas/issues/35419',\n",
       "  'id': 665991560,\n",
       "  'node_id': 'MDU6SXNzdWU2NjU5OTE1NjA=',\n",
       "  'number': 35419,\n",
       "  'title': \"DOC: HDF5 External Compatibility section examples don't work\",\n",
       "  'user': {'login': 'ivirshup',\n",
       "   'id': 8238804,\n",
       "   'node_id': 'MDQ6VXNlcjgyMzg4MDQ=',\n",
       "   'avatar_url': 'https://avatars0.githubusercontent.com/u/8238804?v=4',\n",
       "   'gravatar_id': '',\n",
       "   'url': 'https://api.github.com/users/ivirshup',\n",
       "   'html_url': 'https://github.com/ivirshup',\n",
       "   'followers_url': 'https://api.github.com/users/ivirshup/followers',\n",
       "   'following_url': 'https://api.github.com/users/ivirshup/following{/other_user}',\n",
       "   'gists_url': 'https://api.github.com/users/ivirshup/gists{/gist_id}',\n",
       "   'starred_url': 'https://api.github.com/users/ivirshup/starred{/owner}{/repo}',\n",
       "   'subscriptions_url': 'https://api.github.com/users/ivirshup/subscriptions',\n",
       "   'organizations_url': 'https://api.github.com/users/ivirshup/orgs',\n",
       "   'repos_url': 'https://api.github.com/users/ivirshup/repos',\n",
       "   'events_url': 'https://api.github.com/users/ivirshup/events{/privacy}',\n",
       "   'received_events_url': 'https://api.github.com/users/ivirshup/received_events',\n",
       "   'type': 'User',\n",
       "   'site_admin': False},\n",
       "  'labels': [{'id': 134699,\n",
       "    'node_id': 'MDU6TGFiZWwxMzQ2OTk=',\n",
       "    'url': 'https://api.github.com/repos/pandas-dev/pandas/labels/Docs',\n",
       "    'name': 'Docs',\n",
       "    'color': '3465A4',\n",
       "    'default': False,\n",
       "    'description': None},\n",
       "   {'id': 1954720290,\n",
       "    'node_id': 'MDU6TGFiZWwxOTU0NzIwMjkw',\n",
       "    'url': 'https://api.github.com/repos/pandas-dev/pandas/labels/Needs%20Triage',\n",
       "    'name': 'Needs Triage',\n",
       "    'color': '0052cc',\n",
       "    'default': False,\n",
       "    'description': 'Issue that has not been reviewed by a pandas team member'}],\n",
       "  'state': 'open',\n",
       "  'locked': False,\n",
       "  'assignee': None,\n",
       "  'assignees': [],\n",
       "  'milestone': None,\n",
       "  'comments': 0,\n",
       "  'created_at': '2020-07-27T05:39:21Z',\n",
       "  'updated_at': '2020-07-27T05:39:21Z',\n",
       "  'closed_at': None,\n",
       "  'author_association': 'CONTRIBUTOR',\n",
       "  'active_lock_reason': None,\n",
       "  'body': '#### Location of the documentation\\r\\n\\r\\nhttps://pandas.pydata.org/docs/user_guide/io.html#external-compatibility.\\r\\n\\r\\n#### Documentation problem\\r\\n\\r\\nThis section probably has at least one typo, but more generally, doesn\\'t seem to be documenting current behaviour.\\r\\n\\r\\nI\\'ll quickly run through the example here, but with a bit of cleaning so we don\\'t have to run the entire page.\\r\\n\\r\\n```python\\r\\nimport pandas as pd\\r\\nimport numpy as np\\r\\n\\r\\ndf_for_r = pd.DataFrame({\"first\": np.random.rand(100),\\r\\n                         \"second\": np.random.rand(100),\\r\\n                         \"class\": np.random.randint(0, 2, (100, ))},\\r\\n                        index=range(100))\\r\\n\\r\\n\\r\\nstore_export = pd.HDFStore(\\'export.h5\\')\\r\\n\\r\\n# In the documentation, this is written with \\'data_columns=df_dc.columns\\', which I\\'m assuming is a mistake\\r\\nstore_export.append(\\'df_for_r\\', df_for_r, data_columns=df_for_r.columns)\\r\\n\\r\\nstore_export\\r\\n```\\r\\n\\r\\nWe can take a look at what\\'s in this file:\\r\\n\\r\\n```python\\r\\nstore_export.close()\\r\\n!h5ls -r export.h5\\r\\n```\\r\\n\\r\\n<details>\\r\\n<summary> Output </summary>\\r\\n\\r\\n```\\r\\n/                        Group\\r\\n/df_for_r                Group\\r\\n/df_for_r/_i_table       Group\\r\\n/df_for_r/_i_table/class Group\\r\\n/df_for_r/_i_table/class/abounds Dataset {0/Inf}\\r\\n/df_for_r/_i_table/class/bounds Dataset {0/Inf, 127}\\r\\n/df_for_r/_i_table/class/indices Dataset {0/Inf, 131072}\\r\\n/df_for_r/_i_table/class/indicesLR Dataset {131072}\\r\\n/df_for_r/_i_table/class/mbounds Dataset {0/Inf}\\r\\n/df_for_r/_i_table/class/mranges Dataset {0/Inf}\\r\\n/df_for_r/_i_table/class/ranges Dataset {0/Inf, 2}\\r\\n/df_for_r/_i_table/class/sorted Dataset {0/Inf, 131072}\\r\\n/df_for_r/_i_table/class/sortedLR Dataset {131201}\\r\\n/df_for_r/_i_table/class/zbounds Dataset {0/Inf}\\r\\n/df_for_r/_i_table/first Group\\r\\n/df_for_r/_i_table/first/abounds Dataset {0/Inf}\\r\\n/df_for_r/_i_table/first/bounds Dataset {0/Inf, 127}\\r\\n/df_for_r/_i_table/first/indices Dataset {0/Inf, 131072}\\r\\n/df_for_r/_i_table/first/indicesLR Dataset {131072}\\r\\n/df_for_r/_i_table/first/mbounds Dataset {0/Inf}\\r\\n/df_for_r/_i_table/first/mranges Dataset {0/Inf}\\r\\n/df_for_r/_i_table/first/ranges Dataset {0/Inf, 2}\\r\\n/df_for_r/_i_table/first/sorted Dataset {0/Inf, 131072}\\r\\n/df_for_r/_i_table/first/sortedLR Dataset {131201}\\r\\n/df_for_r/_i_table/first/zbounds Dataset {0/Inf}\\r\\n/df_for_r/_i_table/index Group\\r\\n/df_for_r/_i_table/index/abounds Dataset {0/Inf}\\r\\n/df_for_r/_i_table/index/bounds Dataset {0/Inf, 127}\\r\\n/df_for_r/_i_table/index/indices Dataset {0/Inf, 131072}\\r\\n/df_for_r/_i_table/index/indicesLR Dataset {131072}\\r\\n/df_for_r/_i_table/index/mbounds Dataset {0/Inf}\\r\\n/df_for_r/_i_table/index/mranges Dataset {0/Inf}\\r\\n/df_for_r/_i_table/index/ranges Dataset {0/Inf, 2}\\r\\n/df_for_r/_i_table/index/sorted Dataset {0/Inf, 131072}\\r\\n/df_for_r/_i_table/index/sortedLR Dataset {131201}\\r\\n/df_for_r/_i_table/index/zbounds Dataset {0/Inf}\\r\\n/df_for_r/_i_table/second Group\\r\\n/df_for_r/_i_table/second/abounds Dataset {0/Inf}\\r\\n/df_for_r/_i_table/second/bounds Dataset {0/Inf, 127}\\r\\n/df_for_r/_i_table/second/indices Dataset {0/Inf, 131072}\\r\\n/df_for_r/_i_table/second/indicesLR Dataset {131072}\\r\\n/df_for_r/_i_table/second/mbounds Dataset {0/Inf}\\r\\n/df_for_r/_i_table/second/mranges Dataset {0/Inf}\\r\\n/df_for_r/_i_table/second/ranges Dataset {0/Inf, 2}\\r\\n/df_for_r/_i_table/second/sorted Dataset {0/Inf, 131072}\\r\\n/df_for_r/_i_table/second/sortedLR Dataset {131201}\\r\\n/df_for_r/_i_table/second/zbounds Dataset {0/Inf}\\r\\n/df_for_r/table          Dataset {200/Inf}\\r\\n```\\r\\n\\r\\n</details>\\r\\n\\r\\nNext, there is an R function for reading in this data. Just from comparing the given function to the written file I think we can see there is a mismatch:\\r\\n\\r\\n```R\\r\\nlibrary(rhdf5)\\r\\n\\r\\nloadhdf5data <- function(h5File) {\\r\\n\\r\\nlisting <- h5ls(h5File)\\r\\n# Find all data nodes, values are stored in *_values and corresponding column\\r\\n# titles in *_items\\r\\ndata_nodes <- grep(\"_values\", listing$name)\\r\\nname_nodes <- grep(\"_items\", listing$name)\\r\\ndata_paths = paste(listing$group[data_nodes], listing$name[data_nodes], sep = \"/\")\\r\\nname_paths = paste(listing$group[name_nodes], listing$name[name_nodes], sep = \"/\")\\r\\ncolumns = list()\\r\\nfor (idx in seq(data_paths)) {\\r\\n  # NOTE: matrices returned by h5read have to be transposed to obtain\\r\\n  # required Fortran order!\\r\\n  data <- data.frame(t(h5read(h5File, data_paths[idx])))\\r\\n  names <- t(h5read(h5File, name_paths[idx]))\\r\\n  entry <- data.frame(data)\\r\\n  colnames(entry) <- names\\r\\n  columns <- append(columns, entry)\\r\\n}\\r\\n\\r\\ndata <- data.frame(columns)\\r\\n\\r\\nreturn(data)\\r\\n}\\r\\n```\\r\\n\\r\\nFor example, there are no entries in `export.h5` which have `_values` or `_items` in the names.\\r\\n\\r\\nIf we actually call this function, we get an empty dataframe back:\\r\\n\\r\\n```R\\r\\n> loadhdf5data(\"export.h5\")\\r\\ndata frame with 0 columns and 0 rows\\r\\n```\\r\\n\\r\\nThis function does seem to work if the file is written using \"fixed\" format\\r\\n\\r\\n```python\\r\\ndf_for_r.to_hdf(\"export2.h5\", key=\"df_for_r\", format=\"fixed\")  \\r\\n```\\r\\n\\r\\n```R\\r\\n> loadhdf5data(\"export2.h5\")\\r\\n          first      second class\\r\\n1   0.675013759 0.787289926     0\\r\\n2   0.936797348 0.349671699     1\\r\\n3   0.951930811 0.275965069     0\\r\\n4   0.203085530 0.380154180     0\\r\\n5   0.627195223 0.462702969     1\\r\\n6   0.129148756 0.385663581     1\\r\\n...\\r\\n```\\r\\n\\r\\nThis is a bit contrary to the prose for this section which reads:\\r\\n\\r\\n> HDFStore writes table format objects in specific formats suitable for producing loss-less round trips to pandas objects. For external compatibility, HDFStore can read native PyTables format tables.\\r\\n>\\r\\n> It is possible to write an HDFStore object that can easily be imported into R using the rhdf5 library (Package website). Create a table format store like this:\\r\\n\\r\\n\\r\\n#### Suggested fix for documentation\\r\\n\\r\\nThis should probably specify that the \"table\" format doesn\\'t work here. In addition, since external compatibility relies on the user writing code to read this format, maybe a specification for the format should be documented here?',\n",
       "  'performed_via_github_app': None},\n",
       " {'url': 'https://api.github.com/repos/pandas-dev/pandas/issues/35418',\n",
       "  'repository_url': 'https://api.github.com/repos/pandas-dev/pandas',\n",
       "  'labels_url': 'https://api.github.com/repos/pandas-dev/pandas/issues/35418/labels{/name}',\n",
       "  'comments_url': 'https://api.github.com/repos/pandas-dev/pandas/issues/35418/comments',\n",
       "  'events_url': 'https://api.github.com/repos/pandas-dev/pandas/issues/35418/events',\n",
       "  'html_url': 'https://github.com/pandas-dev/pandas/issues/35418',\n",
       "  'id': 665954570,\n",
       "  'node_id': 'MDU6SXNzdWU2NjU5NTQ1NzA=',\n",
       "  'number': 35418,\n",
       "  'title': 'ENH: implement drop_levels argument in loc  ',\n",
       "  'user': {'login': 'arw2019',\n",
       "   'id': 48889395,\n",
       "   'node_id': 'MDQ6VXNlcjQ4ODg5Mzk1',\n",
       "   'avatar_url': 'https://avatars0.githubusercontent.com/u/48889395?v=4',\n",
       "   'gravatar_id': '',\n",
       "   'url': 'https://api.github.com/users/arw2019',\n",
       "   'html_url': 'https://github.com/arw2019',\n",
       "   'followers_url': 'https://api.github.com/users/arw2019/followers',\n",
       "   'following_url': 'https://api.github.com/users/arw2019/following{/other_user}',\n",
       "   'gists_url': 'https://api.github.com/users/arw2019/gists{/gist_id}',\n",
       "   'starred_url': 'https://api.github.com/users/arw2019/starred{/owner}{/repo}',\n",
       "   'subscriptions_url': 'https://api.github.com/users/arw2019/subscriptions',\n",
       "   'organizations_url': 'https://api.github.com/users/arw2019/orgs',\n",
       "   'repos_url': 'https://api.github.com/users/arw2019/repos',\n",
       "   'events_url': 'https://api.github.com/users/arw2019/events{/privacy}',\n",
       "   'received_events_url': 'https://api.github.com/users/arw2019/received_events',\n",
       "   'type': 'User',\n",
       "   'site_admin': False},\n",
       "  'labels': [{'id': 35818298,\n",
       "    'node_id': 'MDU6TGFiZWwzNTgxODI5OA==',\n",
       "    'url': 'https://api.github.com/repos/pandas-dev/pandas/labels/API%20Design',\n",
       "    'name': 'API Design',\n",
       "    'color': 'AD7FA8',\n",
       "    'default': False,\n",
       "    'description': None},\n",
       "   {'id': 76812,\n",
       "    'node_id': 'MDU6TGFiZWw3NjgxMg==',\n",
       "    'url': 'https://api.github.com/repos/pandas-dev/pandas/labels/Enhancement',\n",
       "    'name': 'Enhancement',\n",
       "    'color': '4E9A06',\n",
       "    'default': False,\n",
       "    'description': None},\n",
       "   {'id': 2822098,\n",
       "    'node_id': 'MDU6TGFiZWwyODIyMDk4',\n",
       "    'url': 'https://api.github.com/repos/pandas-dev/pandas/labels/Indexing',\n",
       "    'name': 'Indexing',\n",
       "    'color': '0b02e1',\n",
       "    'default': False,\n",
       "    'description': 'Related to indexing on series/frames, not to indexes themselves'}],\n",
       "  'state': 'open',\n",
       "  'locked': False,\n",
       "  'assignee': None,\n",
       "  'assignees': [],\n",
       "  'milestone': None,\n",
       "  'comments': 3,\n",
       "  'created_at': '2020-07-27T03:51:21Z',\n",
       "  'updated_at': '2020-07-27T16:34:05Z',\n",
       "  'closed_at': None,\n",
       "  'author_association': 'CONTRIBUTOR',\n",
       "  'active_lock_reason': None,\n",
       "  'body': \"xref  #6249, #18262, #35301 \\r\\n\\r\\nFollowing up on #35301. This is an outstanding piece of `DataFrame.xs` functionality that's currently not available in `.loc`. Since `xs` is slated for deprecation I'd like implement this in `.loc`\\r\\n\\r\\n#### Example\\r\\nLet's define a multiindexed dataframe (example from `xs` docs)\\r\\n```\\r\\n   ...:  import pandas as pd\\r\\n   ...:  \\r\\n   ...: d = {  \\r\\n   ...:     'num_legs': [4, 4, 2, 2],  \\r\\n   ...:     'num_wings': [0, 0, 2, 2],  \\r\\n   ...:     'class': ['mammal', 'mammal', 'mammal', 'bird'],  \\r\\n   ...:     'animal': ['cat', 'dog', 'bat', 'penguin'],  \\r\\n   ...:     'locomotion': ['walks', 'walks', 'flies', 'walks'] \\r\\n   ...:     }  \\r\\n   ...:  \\r\\n   ...: df = pd.DataFrame(data=d) \\r\\n   ...: df.set_index(['class', 'animal', 'locomotion'], inplace=True)                                                 \\r\\n\\r\\nIn [2]: df                                                                                                            \\r\\nOut[2]: \\r\\n                           num_legs  num_wings\\r\\nclass  animal  locomotion                     \\r\\nmammal cat     walks              4          0\\r\\n       dog     walks              4          0\\r\\n       bat     flies              2          2\\r\\nbird   penguin walks              2          2\\r\\n```\\r\\n\\r\\n`xs` and `.loc` both let us take a cross-section through a `MultiIndex`\\r\\n\\r\\n```\\r\\nIn [3]: import pandas._testing as tm \\r\\n    ...: \\r\\n    ...: res_xs = df.xs(('mammal', slice(None))) \\r\\n    ...: res_loc  = df.loc[('mammal', slice(None))] \\r\\n    ...: tm.assert_frame_equal(res_xs, res_loc)                                                                       \\r\\n```\\r\\nbut with `xs` we can choose to keep the index columns through which we're slicing using the `drop_level` argument:\\r\\n```\\r\\nIn [4]: df.xs(('mammal', slice(None), 'flies'), drop_level=False)                                                    \\r\\nOut[4]: \\r\\n                          num_legs  num_wings\\r\\nclass  animal locomotion                     \\r\\nmammal bat    flies              2          2\\r\\n```\\r\\n\\r\\n#### new API\\r\\nLooking for ideas on what's appropriate here. Based off of suggestions in #6249 would something like this work?\\r\\n```\\r\\nIn [ ]: df.loc(drop_levels=False)[('mammal', slice(None), 'flies')]      \\r\\nOut[4]: \\r\\n                          num_legs  num_wings\\r\\nclass  animal locomotion                     \\r\\nmammal bat    flies              2          2\\r\\n                 \\r\\n```\",\n",
       "  'performed_via_github_app': None},\n",
       " {'url': 'https://api.github.com/repos/pandas-dev/pandas/issues/35417',\n",
       "  'repository_url': 'https://api.github.com/repos/pandas-dev/pandas',\n",
       "  'labels_url': 'https://api.github.com/repos/pandas-dev/pandas/issues/35417/labels{/name}',\n",
       "  'comments_url': 'https://api.github.com/repos/pandas-dev/pandas/issues/35417/comments',\n",
       "  'events_url': 'https://api.github.com/repos/pandas-dev/pandas/issues/35417/events',\n",
       "  'html_url': 'https://github.com/pandas-dev/pandas/pull/35417',\n",
       "  'id': 665873802,\n",
       "  'node_id': 'MDExOlB1bGxSZXF1ZXN0NDU2ODE1NjQ4',\n",
       "  'number': 35417,\n",
       "  'title': 'WIP: df[col] = arr should not overwrite data in df[col]',\n",
       "  'user': {'login': 'jbrockmendel',\n",
       "   'id': 8078968,\n",
       "   'node_id': 'MDQ6VXNlcjgwNzg5Njg=',\n",
       "   'avatar_url': 'https://avatars1.githubusercontent.com/u/8078968?v=4',\n",
       "   'gravatar_id': '',\n",
       "   'url': 'https://api.github.com/users/jbrockmendel',\n",
       "   'html_url': 'https://github.com/jbrockmendel',\n",
       "   'followers_url': 'https://api.github.com/users/jbrockmendel/followers',\n",
       "   'following_url': 'https://api.github.com/users/jbrockmendel/following{/other_user}',\n",
       "   'gists_url': 'https://api.github.com/users/jbrockmendel/gists{/gist_id}',\n",
       "   'starred_url': 'https://api.github.com/users/jbrockmendel/starred{/owner}{/repo}',\n",
       "   'subscriptions_url': 'https://api.github.com/users/jbrockmendel/subscriptions',\n",
       "   'organizations_url': 'https://api.github.com/users/jbrockmendel/orgs',\n",
       "   'repos_url': 'https://api.github.com/users/jbrockmendel/repos',\n",
       "   'events_url': 'https://api.github.com/users/jbrockmendel/events{/privacy}',\n",
       "   'received_events_url': 'https://api.github.com/users/jbrockmendel/received_events',\n",
       "   'type': 'User',\n",
       "   'site_admin': False},\n",
       "  'labels': [{'id': 2822098,\n",
       "    'node_id': 'MDU6TGFiZWwyODIyMDk4',\n",
       "    'url': 'https://api.github.com/repos/pandas-dev/pandas/labels/Indexing',\n",
       "    'name': 'Indexing',\n",
       "    'color': '0b02e1',\n",
       "    'default': False,\n",
       "    'description': 'Related to indexing on series/frames, not to indexes themselves'}],\n",
       "  'state': 'open',\n",
       "  'locked': False,\n",
       "  'assignee': None,\n",
       "  'assignees': [],\n",
       "  'milestone': {'url': 'https://api.github.com/repos/pandas-dev/pandas/milestones/68',\n",
       "   'html_url': 'https://github.com/pandas-dev/pandas/milestone/68',\n",
       "   'labels_url': 'https://api.github.com/repos/pandas-dev/pandas/milestones/68/labels',\n",
       "   'id': 4894670,\n",
       "   'node_id': 'MDk6TWlsZXN0b25lNDg5NDY3MA==',\n",
       "   'number': 68,\n",
       "   'title': '1.1',\n",
       "   'description': '',\n",
       "   'creator': {'login': 'jreback',\n",
       "    'id': 953992,\n",
       "    'node_id': 'MDQ6VXNlcjk1Mzk5Mg==',\n",
       "    'avatar_url': 'https://avatars2.githubusercontent.com/u/953992?v=4',\n",
       "    'gravatar_id': '',\n",
       "    'url': 'https://api.github.com/users/jreback',\n",
       "    'html_url': 'https://github.com/jreback',\n",
       "    'followers_url': 'https://api.github.com/users/jreback/followers',\n",
       "    'following_url': 'https://api.github.com/users/jreback/following{/other_user}',\n",
       "    'gists_url': 'https://api.github.com/users/jreback/gists{/gist_id}',\n",
       "    'starred_url': 'https://api.github.com/users/jreback/starred{/owner}{/repo}',\n",
       "    'subscriptions_url': 'https://api.github.com/users/jreback/subscriptions',\n",
       "    'organizations_url': 'https://api.github.com/users/jreback/orgs',\n",
       "    'repos_url': 'https://api.github.com/users/jreback/repos',\n",
       "    'events_url': 'https://api.github.com/users/jreback/events{/privacy}',\n",
       "    'received_events_url': 'https://api.github.com/users/jreback/received_events',\n",
       "    'type': 'User',\n",
       "    'site_admin': False},\n",
       "   'open_issues': 7,\n",
       "   'closed_issues': 2377,\n",
       "   'state': 'open',\n",
       "   'created_at': '2019-12-02T12:52:48Z',\n",
       "   'updated_at': '2020-07-27T18:00:07Z',\n",
       "   'due_on': '2020-08-01T07:00:00Z',\n",
       "   'closed_at': None},\n",
       "  'comments': 8,\n",
       "  'created_at': '2020-07-26T22:39:51Z',\n",
       "  'updated_at': '2020-07-27T18:56:33Z',\n",
       "  'closed_at': None,\n",
       "  'author_association': 'MEMBER',\n",
       "  'active_lock_reason': None,\n",
       "  'pull_request': {'url': 'https://api.github.com/repos/pandas-dev/pandas/pulls/35417',\n",
       "   'html_url': 'https://github.com/pandas-dev/pandas/pull/35417',\n",
       "   'diff_url': 'https://github.com/pandas-dev/pandas/pull/35417.diff',\n",
       "   'patch_url': 'https://github.com/pandas-dev/pandas/pull/35417.patch'},\n",
       "  'body': '- [x] closes #33457, #35271, #35266\\r\\n- [ ] tests added / passed\\r\\n- [ ] passes `black pandas`\\r\\n- [ ] passes `git diff upstream/master -u -- \"*.py\" | flake8 --diff`\\r\\n- [ ] whatsnew entry\\r\\n\\r\\ncc @jorisvandenbossche this still fails 7 tests locally and there\\'s one more (commented in-line) test that looks fishy.  Extra eyeballs would be welcome.',\n",
       "  'performed_via_github_app': None},\n",
       " {'url': 'https://api.github.com/repos/pandas-dev/pandas/issues/35416',\n",
       "  'repository_url': 'https://api.github.com/repos/pandas-dev/pandas',\n",
       "  'labels_url': 'https://api.github.com/repos/pandas-dev/pandas/issues/35416/labels{/name}',\n",
       "  'comments_url': 'https://api.github.com/repos/pandas-dev/pandas/issues/35416/comments',\n",
       "  'events_url': 'https://api.github.com/repos/pandas-dev/pandas/issues/35416/events',\n",
       "  'html_url': 'https://github.com/pandas-dev/pandas/issues/35416',\n",
       "  'id': 665863196,\n",
       "  'node_id': 'MDU6SXNzdWU2NjU4NjMxOTY=',\n",
       "  'number': 35416,\n",
       "  'title': 'ENH: Auto Detect engine in read_excel',\n",
       "  'user': {'login': 'fzumstein',\n",
       "   'id': 2265504,\n",
       "   'node_id': 'MDQ6VXNlcjIyNjU1MDQ=',\n",
       "   'avatar_url': 'https://avatars2.githubusercontent.com/u/2265504?v=4',\n",
       "   'gravatar_id': '',\n",
       "   'url': 'https://api.github.com/users/fzumstein',\n",
       "   'html_url': 'https://github.com/fzumstein',\n",
       "   'followers_url': 'https://api.github.com/users/fzumstein/followers',\n",
       "   'following_url': 'https://api.github.com/users/fzumstein/following{/other_user}',\n",
       "   'gists_url': 'https://api.github.com/users/fzumstein/gists{/gist_id}',\n",
       "   'starred_url': 'https://api.github.com/users/fzumstein/starred{/owner}{/repo}',\n",
       "   'subscriptions_url': 'https://api.github.com/users/fzumstein/subscriptions',\n",
       "   'organizations_url': 'https://api.github.com/users/fzumstein/orgs',\n",
       "   'repos_url': 'https://api.github.com/users/fzumstein/repos',\n",
       "   'events_url': 'https://api.github.com/users/fzumstein/events{/privacy}',\n",
       "   'received_events_url': 'https://api.github.com/users/fzumstein/received_events',\n",
       "   'type': 'User',\n",
       "   'site_admin': False},\n",
       "  'labels': [{'id': 76812,\n",
       "    'node_id': 'MDU6TGFiZWw3NjgxMg==',\n",
       "    'url': 'https://api.github.com/repos/pandas-dev/pandas/labels/Enhancement',\n",
       "    'name': 'Enhancement',\n",
       "    'color': '4E9A06',\n",
       "    'default': False,\n",
       "    'description': None},\n",
       "   {'id': 49254273,\n",
       "    'node_id': 'MDU6TGFiZWw0OTI1NDI3Mw==',\n",
       "    'url': 'https://api.github.com/repos/pandas-dev/pandas/labels/IO%20Excel',\n",
       "    'name': 'IO Excel',\n",
       "    'color': 'bfe5bf',\n",
       "    'default': False,\n",
       "    'description': 'read_excel, to_excel'}],\n",
       "  'state': 'open',\n",
       "  'locked': False,\n",
       "  'assignee': None,\n",
       "  'assignees': [],\n",
       "  'milestone': {'url': 'https://api.github.com/repos/pandas-dev/pandas/milestones/32',\n",
       "   'html_url': 'https://github.com/pandas-dev/pandas/milestone/32',\n",
       "   'labels_url': 'https://api.github.com/repos/pandas-dev/pandas/milestones/32/labels',\n",
       "   'id': 933188,\n",
       "   'node_id': 'MDk6TWlsZXN0b25lOTMzMTg4',\n",
       "   'number': 32,\n",
       "   'title': 'Contributions Welcome',\n",
       "   'description': 'Changes that would be nice to have in the next release. These issues are not blocking. They will be pushed to the next release if no one has time to fix them.',\n",
       "   'creator': {'login': 'jreback',\n",
       "    'id': 953992,\n",
       "    'node_id': 'MDQ6VXNlcjk1Mzk5Mg==',\n",
       "    'avatar_url': 'https://avatars2.githubusercontent.com/u/953992?v=4',\n",
       "    'gravatar_id': '',\n",
       "    'url': 'https://api.github.com/users/jreback',\n",
       "    'html_url': 'https://github.com/jreback',\n",
       "    'followers_url': 'https://api.github.com/users/jreback/followers',\n",
       "    'following_url': 'https://api.github.com/users/jreback/following{/other_user}',\n",
       "    'gists_url': 'https://api.github.com/users/jreback/gists{/gist_id}',\n",
       "    'starred_url': 'https://api.github.com/users/jreback/starred{/owner}{/repo}',\n",
       "    'subscriptions_url': 'https://api.github.com/users/jreback/subscriptions',\n",
       "    'organizations_url': 'https://api.github.com/users/jreback/orgs',\n",
       "    'repos_url': 'https://api.github.com/users/jreback/repos',\n",
       "    'events_url': 'https://api.github.com/users/jreback/events{/privacy}',\n",
       "    'received_events_url': 'https://api.github.com/users/jreback/received_events',\n",
       "    'type': 'User',\n",
       "    'site_admin': False},\n",
       "   'open_issues': 1187,\n",
       "   'closed_issues': 598,\n",
       "   'state': 'open',\n",
       "   'created_at': '2015-01-13T10:53:19Z',\n",
       "   'updated_at': '2020-07-27T20:46:43Z',\n",
       "   'due_on': None,\n",
       "   'closed_at': None},\n",
       "  'comments': 6,\n",
       "  'created_at': '2020-07-26T21:26:31Z',\n",
       "  'updated_at': '2020-07-27T18:05:04Z',\n",
       "  'closed_at': None,\n",
       "  'author_association': 'NONE',\n",
       "  'active_lock_reason': None,\n",
       "  'body': \"- [x] I have checked that this issue has not already been reported.\\r\\n\\r\\n- [x] I have confirmed this bug exists on the latest version of pandas.\\r\\n\\r\\n- [ ] (optional) I have confirmed this bug exists on the master branch of pandas.\\r\\n\\r\\n---\\r\\n\\r\\n**Note**: Please read [this guide](https://matthewrocklin.com/blog/work/2018/02/28/minimal-bug-reports) detailing how to provide the necessary information for us to reproduce your bug.\\r\\n\\r\\n#### Code Sample, a copy-pastable example\\r\\n\\r\\nThis works:\\r\\n\\r\\n```python\\r\\nimport pandas as pd\\r\\ndf = pd.read_excel('Book2.xlsb', engine='pyxlsb')\\r\\n```\\r\\n\\r\\nThis doesn't:\\r\\n\\r\\n```python\\r\\nimport pandas as pd\\r\\ndf = pd.read_excel('Book2.xlsb')\\r\\n```\\r\\n\\r\\n#### Problem description\\r\\n\\r\\nAll supported Excel formats (`xls`, `xlsx`, `xlsm`) have a default engine based on the extension, so you can simply do:\\r\\n\\r\\n```\\r\\ndf = pd.read_excel('Book2.xlsx')\\r\\n```\\r\\n\\r\\nFor `xlsb`,  when you do `df = pd.read_excel('Book2.xlsb')`, you get this error:\\r\\n\\r\\n```\\r\\nXLRDError: Excel 2007 xlsb file; not supported\\r\\n```\\r\\n\\r\\n#### Expected Output\\r\\n\\r\\nNo error, i.e. it should figure out that for `xlsb` extensions, `pyxlsb` is the default engine.\\r\\n\\r\\n#### Output of ``pd.show_versions()``\\r\\n\\r\\n<details>\\r\\n\\r\\nINSTALLED VERSIONS\\r\\n------------------\\r\\ncommit           : None\\r\\n\\r\\npandas           : 1.0.5\\r\\nnumpy            : 1.18.1\\r\\npytz             : 2020.1\\r\\ndateutil         : 2.8.1\\r\\npip              : 20.0.2\\r\\nsetuptools       : 49.2.0.post20200714\\r\\nCython           : None\\r\\npytest           : 5.4.3\\r\\nhypothesis       : None\\r\\nsphinx           : 2.4.0\\r\\nblosc            : None\\r\\nfeather          : None\\r\\nxlsxwriter       : 1.2.7\\r\\nlxml.etree       : None\\r\\nhtml5lib         : None\\r\\npymysql          : None\\r\\npsycopg2         : None\\r\\njinja2           : 2.11.2\\r\\nIPython          : 7.16.1\\r\\npandas_datareader: None\\r\\nbs4              : None\\r\\nbottleneck       : None\\r\\nfastparquet      : None\\r\\ngcsfs            : None\\r\\nlxml.etree       : None\\r\\nmatplotlib       : 3.1.3\\r\\nnumexpr          : None\\r\\nodfpy            : None\\r\\nopenpyxl         : 3.0.4\\r\\npandas_gbq       : None\\r\\npyarrow          : 0.17.1\\r\\npytables         : None\\r\\npytest           : 5.4.3\\r\\npyxlsb           : 1.0.6\\r\\ns3fs             : None\\r\\nscipy            : 1.4.1\\r\\nsqlalchemy       : None\\r\\ntables           : None\\r\\ntabulate         : 0.8.7\\r\\nxarray           : None\\r\\nxlrd             : 1.2.0\\r\\nxlwt             : 1.3.0\\r\\nxlsxwriter       : 1.2.7\\r\\nnumba            : None\\r\\n\\r\\n</details>\\r\\n\",\n",
       "  'performed_via_github_app': None},\n",
       " {'url': 'https://api.github.com/repos/pandas-dev/pandas/issues/35415',\n",
       "  'repository_url': 'https://api.github.com/repos/pandas-dev/pandas',\n",
       "  'labels_url': 'https://api.github.com/repos/pandas-dev/pandas/issues/35415/labels{/name}',\n",
       "  'comments_url': 'https://api.github.com/repos/pandas-dev/pandas/issues/35415/comments',\n",
       "  'events_url': 'https://api.github.com/repos/pandas-dev/pandas/issues/35415/events',\n",
       "  'html_url': 'https://github.com/pandas-dev/pandas/issues/35415',\n",
       "  'id': 665831395,\n",
       "  'node_id': 'MDU6SXNzdWU2NjU4MzEzOTU=',\n",
       "  'number': 35415,\n",
       "  'title': 'QST: Subclassing and concat',\n",
       "  'user': {'login': 'EmilianoJordan',\n",
       "   'id': 22417720,\n",
       "   'node_id': 'MDQ6VXNlcjIyNDE3NzIw',\n",
       "   'avatar_url': 'https://avatars3.githubusercontent.com/u/22417720?v=4',\n",
       "   'gravatar_id': '',\n",
       "   'url': 'https://api.github.com/users/EmilianoJordan',\n",
       "   'html_url': 'https://github.com/EmilianoJordan',\n",
       "   'followers_url': 'https://api.github.com/users/EmilianoJordan/followers',\n",
       "   'following_url': 'https://api.github.com/users/EmilianoJordan/following{/other_user}',\n",
       "   'gists_url': 'https://api.github.com/users/EmilianoJordan/gists{/gist_id}',\n",
       "   'starred_url': 'https://api.github.com/users/EmilianoJordan/starred{/owner}{/repo}',\n",
       "   'subscriptions_url': 'https://api.github.com/users/EmilianoJordan/subscriptions',\n",
       "   'organizations_url': 'https://api.github.com/users/EmilianoJordan/orgs',\n",
       "   'repos_url': 'https://api.github.com/users/EmilianoJordan/repos',\n",
       "   'events_url': 'https://api.github.com/users/EmilianoJordan/events{/privacy}',\n",
       "   'received_events_url': 'https://api.github.com/users/EmilianoJordan/received_events',\n",
       "   'type': 'User',\n",
       "   'site_admin': False},\n",
       "  'labels': [{'id': 1954720290,\n",
       "    'node_id': 'MDU6TGFiZWwxOTU0NzIwMjkw',\n",
       "    'url': 'https://api.github.com/repos/pandas-dev/pandas/labels/Needs%20Triage',\n",
       "    'name': 'Needs Triage',\n",
       "    'color': '0052cc',\n",
       "    'default': False,\n",
       "    'description': 'Issue that has not been reviewed by a pandas team member'},\n",
       "   {'id': 34444536,\n",
       "    'node_id': 'MDU6TGFiZWwzNDQ0NDUzNg==',\n",
       "    'url': 'https://api.github.com/repos/pandas-dev/pandas/labels/Usage%20Question',\n",
       "    'name': 'Usage Question',\n",
       "    'color': '0052cc',\n",
       "    'default': False,\n",
       "    'description': None}],\n",
       "  'state': 'open',\n",
       "  'locked': False,\n",
       "  'assignee': None,\n",
       "  'assignees': [],\n",
       "  'milestone': None,\n",
       "  'comments': 0,\n",
       "  'created_at': '2020-07-26T18:04:17Z',\n",
       "  'updated_at': '2020-07-26T18:04:17Z',\n",
       "  'closed_at': None,\n",
       "  'author_association': 'CONTRIBUTOR',\n",
       "  'active_lock_reason': None,\n",
       "  'body': \"I was looking into `df.astype` not respecting subclassed objects and noticed the issue had been resolved by modifying `pd.concat` to respect subclassed objects using the following code:\\r\\n\\r\\n```python\\r\\ncons = self.objs[0]._constructor\\r\\n```\\r\\n[Line 464](https://github.com/pandas-dev/pandas/blob/04e9e0afd476b1b8bed930e47bf60ee20fa78f38/pandas/core/reshape/concat.py#L464) PR #29627\\r\\n```python\\r\\ncons = self.objs[0]._constructor_expanddim\\r\\n```\\r\\n[Line 477](https://github.com/pandas-dev/pandas/blob/04e9e0afd476b1b8bed930e47bf60ee20fa78f38/pandas/core/reshape/concat.py#L477) PR #33884 (Set to be released on 1.1.0)\\r\\n\\r\\nThis assumes homogeneous object types, or at the very least that the first object is representative. My assumption was that functions on the pandas namespace did not respect subclassing and only methods on the objects did. Leaving developers to implement their own special use cases for subclassing. This seemed like a good delimitation to me, both logically and programmatically. But, now diving deeper into functions I don't regularly use I see I was mistaken as `merge` and `merge_ordered` both respect the `left` arg's subclassing. \\r\\n\\r\\nWith this in mind, I have some questions.\\r\\n\\r\\n1. Should there be more documentation around subclassing? This would include how `concat`, `merge`, `merge_ordered` etc handle subclassing.\\r\\n2. If functions on the pandas names space are going to implement varying degrees of support for subclassing then, should there be a `constructor` kwarg added to functions like `read_sql` and `read_csv`?\\r\\n3. Does `to_hdf` not working with subclassing need to be fixed?\",\n",
       "  'performed_via_github_app': None},\n",
       " {'url': 'https://api.github.com/repos/pandas-dev/pandas/issues/35414',\n",
       "  'repository_url': 'https://api.github.com/repos/pandas-dev/pandas',\n",
       "  'labels_url': 'https://api.github.com/repos/pandas-dev/pandas/issues/35414/labels{/name}',\n",
       "  'comments_url': 'https://api.github.com/repos/pandas-dev/pandas/issues/35414/comments',\n",
       "  'events_url': 'https://api.github.com/repos/pandas-dev/pandas/issues/35414/events',\n",
       "  'html_url': 'https://github.com/pandas-dev/pandas/issues/35414',\n",
       "  'id': 665802816,\n",
       "  'node_id': 'MDU6SXNzdWU2NjU4MDI4MTY=',\n",
       "  'number': 35414,\n",
       "  'title': 'BUG: `freq` attribute sometimes lost when concatenating series that are tz-aware',\n",
       "  'user': {'login': 'rwijtvliet',\n",
       "   'id': 4106013,\n",
       "   'node_id': 'MDQ6VXNlcjQxMDYwMTM=',\n",
       "   'avatar_url': 'https://avatars1.githubusercontent.com/u/4106013?v=4',\n",
       "   'gravatar_id': '',\n",
       "   'url': 'https://api.github.com/users/rwijtvliet',\n",
       "   'html_url': 'https://github.com/rwijtvliet',\n",
       "   'followers_url': 'https://api.github.com/users/rwijtvliet/followers',\n",
       "   'following_url': 'https://api.github.com/users/rwijtvliet/following{/other_user}',\n",
       "   'gists_url': 'https://api.github.com/users/rwijtvliet/gists{/gist_id}',\n",
       "   'starred_url': 'https://api.github.com/users/rwijtvliet/starred{/owner}{/repo}',\n",
       "   'subscriptions_url': 'https://api.github.com/users/rwijtvliet/subscriptions',\n",
       "   'organizations_url': 'https://api.github.com/users/rwijtvliet/orgs',\n",
       "   'repos_url': 'https://api.github.com/users/rwijtvliet/repos',\n",
       "   'events_url': 'https://api.github.com/users/rwijtvliet/events{/privacy}',\n",
       "   'received_events_url': 'https://api.github.com/users/rwijtvliet/received_events',\n",
       "   'type': 'User',\n",
       "   'site_admin': False},\n",
       "  'labels': [{'id': 76811,\n",
       "    'node_id': 'MDU6TGFiZWw3NjgxMQ==',\n",
       "    'url': 'https://api.github.com/repos/pandas-dev/pandas/labels/Bug',\n",
       "    'name': 'Bug',\n",
       "    'color': 'e10c02',\n",
       "    'default': False,\n",
       "    'description': None},\n",
       "   {'id': 1954720290,\n",
       "    'node_id': 'MDU6TGFiZWwxOTU0NzIwMjkw',\n",
       "    'url': 'https://api.github.com/repos/pandas-dev/pandas/labels/Needs%20Triage',\n",
       "    'name': 'Needs Triage',\n",
       "    'color': '0052cc',\n",
       "    'default': False,\n",
       "    'description': 'Issue that has not been reviewed by a pandas team member'}],\n",
       "  'state': 'open',\n",
       "  'locked': False,\n",
       "  'assignee': None,\n",
       "  'assignees': [],\n",
       "  'milestone': None,\n",
       "  'comments': 0,\n",
       "  'created_at': '2020-07-26T15:27:09Z',\n",
       "  'updated_at': '2020-07-26T15:27:09Z',\n",
       "  'closed_at': None,\n",
       "  'author_association': 'NONE',\n",
       "  'active_lock_reason': None,\n",
       "  'body': \"- [x] I have checked that this issue has not already been reported.\\r\\n\\r\\n- [x] I have confirmed this bug exists on the latest version of pandas.\\r\\n\\r\\n- [ ] (optional) I have confirmed this bug exists on the master branch of pandas.\\r\\n\\r\\n---\\r\\n\\r\\n**Note**: Please read [this guide](https://matthewrocklin.com/blog/work/2018/02/28/minimal-bug-reports) detailing how to provide the necessary information for us to reproduce your bug.\\r\\n\\r\\n#### Code Sample, a copy-pastable example\\r\\n\\r\\n```python\\r\\ns1 = pd.Series([1, 2, 3], index=pd.date_range('2020-03-29 00:00:00', periods=3, freq='D', tz='Europe/Berlin'))\\r\\ns2 = pd.Series([4, 5], pd.date_range(s1.index[-1]+s1.index.freq, periods=2, freq=s1.index.freq))\\r\\nr = pd.concat([s1, s2])\\r\\n\\r\\ns1.index, s2.index, r.index\\r\\n DatetimeIndex(['2020-03-29 00:00:00+01:00', '2020-03-30 00:00:00+02:00',\\r\\n                '2020-03-31 00:00:00+02:00'],\\r\\n               dtype='datetime64[ns, Europe/Berlin]', freq='D'),\\r\\n DatetimeIndex(['2020-04-01 00:00:00+02:00', '2020-04-02 00:00:00+02:00'], dtype='datetime64[ns, Europe/Berlin]', freq='D'),\\r\\n DatetimeIndex(['2020-03-29 00:00:00+01:00', '2020-03-30 00:00:00+02:00',\\r\\n                '2020-03-31 00:00:00+02:00', '2020-04-01 00:00:00+02:00',\\r\\n                '2020-04-02 00:00:00+02:00'],\\r\\n               dtype='datetime64[ns, Europe/Berlin]', freq=None)\\r\\n```\\r\\n\\r\\n#### Problem description\\r\\n\\r\\ns1 and s2 have indices are in the same time zone with the same fixed frequency. This also hold when they are concatenated, however, the freq attribute is lost in the result, see above. Expected would be, to have `freq='D'`.\\r\\n\\r\\nThe problem does not always occur.\\r\\n\\r\\n* When the DST change is not included, it seems to work:\\r\\n```\\r\\n  #Same code, change 2020-03-29 to 2020-03-01\\r\\n DatetimeIndex(['2020-03-01 00:00:00+01:00', '2020-03-02 00:00:00+01:00',\\r\\n                '2020-03-03 00:00:00+01:00'],\\r\\n               dtype='datetime64[ns, Europe/Berlin]', freq='D'),\\r\\n DatetimeIndex(['2020-03-04 00:00:00+01:00', '2020-03-05 00:00:00+01:00'], dtype='datetime64[ns, Europe/Berlin]', freq='D'),\\r\\n DatetimeIndex(['2020-03-01 00:00:00+01:00', '2020-03-02 00:00:00+01:00',\\r\\n                '2020-03-03 00:00:00+01:00', '2020-03-04 00:00:00+01:00',\\r\\n                '2020-03-05 00:00:00+01:00'],\\r\\n               dtype='datetime64[ns, Europe/Berlin]', freq='D')\\r\\n```\\r\\n\\r\\n* When DST is included incorrectly (see [here](https://github.com/pandas-dev/pandas/issues/35388)), and all timestamps are 24h apart, it also works:\\r\\n```\\r\\n  #Same code, change 2020-03-29 to 2020-03-27\\r\\n DatetimeIndex(['2020-03-27 00:00:00+01:00', '2020-03-28 00:00:00+01:00',\\r\\n                '2020-03-29 00:00:00+01:00'],\\r\\n               dtype='datetime64[ns, Europe/Berlin]', freq='D'),\\r\\n DatetimeIndex(['2020-03-30 01:00:00+02:00', '2020-03-31 01:00:00+02:00'], dtype='datetime64[ns, Europe/Berlin]', freq='D'),\\r\\n DatetimeIndex(['2020-03-27 00:00:00+01:00', '2020-03-28 00:00:00+01:00',\\r\\n                '2020-03-29 00:00:00+01:00', '2020-03-30 01:00:00+02:00',\\r\\n                '2020-03-31 01:00:00+02:00'],\\r\\n               dtype='datetime64[ns, Europe/Berlin]', freq='D')\\r\\n```\\r\\n\\r\\n\\r\\n#### Output of ``pd.show_versions()``\\r\\n\\r\\n<details>\\r\\n\\r\\nINSTALLED VERSIONS\\r\\n------------------\\r\\ncommit           : None\\r\\npython           : 3.8.3.final.0\\r\\npython-bits      : 64\\r\\nOS               : Windows\\r\\nOS-release       : 10\\r\\nmachine          : AMD64\\r\\nprocessor        : Intel64 Family 6 Model 158 Stepping 10, GenuineIntel\\r\\nbyteorder        : little\\r\\nLC_ALL           : None\\r\\nLANG             : en\\r\\nLOCALE           : de_DE.cp1252\\r\\n\\r\\npandas           : 1.0.5\\r\\nnumpy            : 1.18.5\\r\\npytz             : 2020.1\\r\\ndateutil         : 2.8.1\\r\\npip              : 20.1.1\\r\\nsetuptools       : 49.2.0.post20200714\\r\\nCython           : None\\r\\npytest           : 5.4.3\\r\\nhypothesis       : None\\r\\nsphinx           : None\\r\\nblosc            : None\\r\\nfeather          : None\\r\\nxlsxwriter       : None\\r\\nlxml.etree       : None\\r\\nhtml5lib         : 1.0.1\\r\\npymysql          : None\\r\\npsycopg2         : None\\r\\njinja2           : 2.11.2\\r\\nIPython          : 7.16.1\\r\\npandas_datareader: None\\r\\nbs4              : 4.9.1\\r\\nbottleneck       : None\\r\\nfastparquet      : None\\r\\ngcsfs            : None\\r\\nlxml.etree       : None\\r\\nmatplotlib       : 3.2.2\\r\\nnumexpr          : None\\r\\nodfpy            : None\\r\\nopenpyxl         : 3.0.4\\r\\npandas_gbq       : None\\r\\npyarrow          : None\\r\\npytables         : None\\r\\npytest           : 5.4.3\\r\\npyxlsb           : None\\r\\ns3fs             : None\\r\\nscipy            : 1.5.0\\r\\nsqlalchemy       : 1.3.18\\r\\ntables           : None\\r\\ntabulate         : None\\r\\nxarray           : None\\r\\nxlrd             : 1.2.0\\r\\nxlwt             : None\\r\\nxlsxwriter       : None\\r\\nnumba            : None\\r\\n\\r\\n</details>\\r\\n\",\n",
       "  'performed_via_github_app': None},\n",
       " {'url': 'https://api.github.com/repos/pandas-dev/pandas/issues/35413',\n",
       "  'repository_url': 'https://api.github.com/repos/pandas-dev/pandas',\n",
       "  'labels_url': 'https://api.github.com/repos/pandas-dev/pandas/issues/35413/labels{/name}',\n",
       "  'comments_url': 'https://api.github.com/repos/pandas-dev/pandas/issues/35413/comments',\n",
       "  'events_url': 'https://api.github.com/repos/pandas-dev/pandas/issues/35413/events',\n",
       "  'html_url': 'https://github.com/pandas-dev/pandas/issues/35413',\n",
       "  'id': 665666953,\n",
       "  'node_id': 'MDU6SXNzdWU2NjU2NjY5NTM=',\n",
       "  'number': 35413,\n",
       "  'title': 'BUG: When plotting a pandas dataframe year is wrong',\n",
       "  'user': {'login': 'smeznaric',\n",
       "   'id': 28095296,\n",
       "   'node_id': 'MDQ6VXNlcjI4MDk1Mjk2',\n",
       "   'avatar_url': 'https://avatars0.githubusercontent.com/u/28095296?v=4',\n",
       "   'gravatar_id': '',\n",
       "   'url': 'https://api.github.com/users/smeznaric',\n",
       "   'html_url': 'https://github.com/smeznaric',\n",
       "   'followers_url': 'https://api.github.com/users/smeznaric/followers',\n",
       "   'following_url': 'https://api.github.com/users/smeznaric/following{/other_user}',\n",
       "   'gists_url': 'https://api.github.com/users/smeznaric/gists{/gist_id}',\n",
       "   'starred_url': 'https://api.github.com/users/smeznaric/starred{/owner}{/repo}',\n",
       "   'subscriptions_url': 'https://api.github.com/users/smeznaric/subscriptions',\n",
       "   'organizations_url': 'https://api.github.com/users/smeznaric/orgs',\n",
       "   'repos_url': 'https://api.github.com/users/smeznaric/repos',\n",
       "   'events_url': 'https://api.github.com/users/smeznaric/events{/privacy}',\n",
       "   'received_events_url': 'https://api.github.com/users/smeznaric/received_events',\n",
       "   'type': 'User',\n",
       "   'site_admin': False},\n",
       "  'labels': [{'id': 76811,\n",
       "    'node_id': 'MDU6TGFiZWw3NjgxMQ==',\n",
       "    'url': 'https://api.github.com/repos/pandas-dev/pandas/labels/Bug',\n",
       "    'name': 'Bug',\n",
       "    'color': 'e10c02',\n",
       "    'default': False,\n",
       "    'description': None},\n",
       "   {'id': 1954720290,\n",
       "    'node_id': 'MDU6TGFiZWwxOTU0NzIwMjkw',\n",
       "    'url': 'https://api.github.com/repos/pandas-dev/pandas/labels/Needs%20Triage',\n",
       "    'name': 'Needs Triage',\n",
       "    'color': '0052cc',\n",
       "    'default': False,\n",
       "    'description': 'Issue that has not been reviewed by a pandas team member'}],\n",
       "  'state': 'open',\n",
       "  'locked': False,\n",
       "  'assignee': None,\n",
       "  'assignees': [],\n",
       "  'milestone': None,\n",
       "  'comments': 2,\n",
       "  'created_at': '2020-07-25T21:55:56Z',\n",
       "  'updated_at': '2020-07-26T15:35:29Z',\n",
       "  'closed_at': None,\n",
       "  'author_association': 'NONE',\n",
       "  'active_lock_reason': None,\n",
       "  'body': \"- [ x] I have checked that this issue has not already been reported.\\r\\n\\r\\n- [x ] I have confirmed this bug exists on the latest version of pandas.\\r\\n\\r\\n- [ ] (optional) I have confirmed this bug exists on the master branch of pandas.\\r\\n\\r\\n\\r\\n---\\r\\n\\r\\n**Note**: Please read [this guide](https://matthewrocklin.com/blog/work/2018/02/28/minimal-bug-reports) detailing how to provide the necessary information for us to reproduce your bug.\\r\\n\\r\\n#### Code Sample, a copy-pastable example\\r\\n\\r\\n```python\\r\\nimport pandas as pd\\r\\nimport matplotlib.pyplot as plt\\r\\n\\r\\n# Save the attached file somewhere and open it as follows\\r\\nfile_name = 'your_path'\\r\\ndf = pd.read_csv(file_name, index_col = 'date', parse_dates = True)\\r\\ndf.plot()\\r\\n\\r\\nplt.show()\\r\\n\\r\\n```\\r\\n\\r\\n#### Problem description\\r\\n\\r\\nThe year is displayed as in 3900s. See picture:\\r\\n\\r\\n![image](https://user-images.githubusercontent.com/28095296/88466980-e68d7500-cec9-11ea-9155-3400112e7c01.png)\\r\\n\\r\\nI have noticed a few things:\\r\\n\\r\\n- Generating random data and keeping the index the same does not resolve the issue\\r\\n- Trying to recreate the index from scratch but using the same date does not resolve the issue\\r\\n- Plotting using plotly backend resolves the issue\\r\\n- Doing df.to_period('D').plot() also seems to resolve the issue\\r\\n\\r\\n\\r\\n#### Expected Output\\r\\n\\r\\nYear should not be in 3900s.\\r\\n\\r\\n#### Output of ``pd.show_versions()``\\r\\n\\r\\n<details>\\r\\n\\r\\nINSTALLED VERSIONS\\r\\n------------------\\r\\ncommit           : None\\r\\npython           : 3.8.2.final.0\\r\\npython-bits      : 64\\r\\nOS               : Linux\\r\\nOS-release       : 4.19.104-microsoft-standard\\r\\nmachine          : x86_64\\r\\nprocessor        : x86_64\\r\\nbyteorder        : little\\r\\nLC_ALL           : None\\r\\nLANG             : C.UTF-8\\r\\nLOCALE           : en_US.UTF-8\\r\\n\\r\\npandas           : 1.0.5\\r\\nnumpy            : 1.19.1\\r\\npytz             : 2020.1\\r\\ndateutil         : 2.8.1\\r\\npip              : 20.0.2\\r\\nsetuptools       : 44.0.0\\r\\nCython           : None\\r\\npytest           : None\\r\\nhypothesis       : None\\r\\nsphinx           : None\\r\\nblosc            : None\\r\\nfeather          : None\\r\\nxlsxwriter       : None\\r\\nlxml.etree       : 4.5.2\\r\\nhtml5lib         : None\\r\\npymysql          : None\\r\\npsycopg2         : None\\r\\njinja2           : None\\r\\nIPython          : 7.16.1\\r\\npandas_datareader: 0.9.0\\r\\nbs4              : None\\r\\nbottleneck       : None\\r\\nfastparquet      : None\\r\\ngcsfs            : None\\r\\nlxml.etree       : 4.5.2\\r\\nmatplotlib       : 3.3.0\\r\\nnumexpr          : 2.7.1\\r\\nodfpy            : None\\r\\nopenpyxl         : None\\r\\npandas_gbq       : None\\r\\npyarrow          : None\\r\\npytables         : None\\r\\npytest           : None\\r\\npyxlsb           : None\\r\\ns3fs             : None\\r\\nscipy            : 1.5.2\\r\\nsqlalchemy       : None\\r\\ntables           : 3.6.1\\r\\ntabulate         : None\\r\\nxarray           : 0.16.0\\r\\nxlrd             : None\\r\\nxlwt             : None\\r\\nxlsxwriter       : None\\r\\nnumba            : None\\r\\n\\r\\n</details>\\r\\n\",\n",
       "  'performed_via_github_app': None},\n",
       " {'url': 'https://api.github.com/repos/pandas-dev/pandas/issues/35412',\n",
       "  'repository_url': 'https://api.github.com/repos/pandas-dev/pandas',\n",
       "  'labels_url': 'https://api.github.com/repos/pandas-dev/pandas/issues/35412/labels{/name}',\n",
       "  'comments_url': 'https://api.github.com/repos/pandas-dev/pandas/issues/35412/comments',\n",
       "  'events_url': 'https://api.github.com/repos/pandas-dev/pandas/issues/35412/events',\n",
       "  'html_url': 'https://github.com/pandas-dev/pandas/pull/35412',\n",
       "  'id': 665651687,\n",
       "  'node_id': 'MDExOlB1bGxSZXF1ZXN0NDU2NjYzMTEw',\n",
       "  'number': 35412,\n",
       "  'title': 'CLN: _wrap_applied_output',\n",
       "  'user': {'login': 'rhshadrach',\n",
       "   'id': 45562402,\n",
       "   'node_id': 'MDQ6VXNlcjQ1NTYyNDAy',\n",
       "   'avatar_url': 'https://avatars1.githubusercontent.com/u/45562402?v=4',\n",
       "   'gravatar_id': '',\n",
       "   'url': 'https://api.github.com/users/rhshadrach',\n",
       "   'html_url': 'https://github.com/rhshadrach',\n",
       "   'followers_url': 'https://api.github.com/users/rhshadrach/followers',\n",
       "   'following_url': 'https://api.github.com/users/rhshadrach/following{/other_user}',\n",
       "   'gists_url': 'https://api.github.com/users/rhshadrach/gists{/gist_id}',\n",
       "   'starred_url': 'https://api.github.com/users/rhshadrach/starred{/owner}{/repo}',\n",
       "   'subscriptions_url': 'https://api.github.com/users/rhshadrach/subscriptions',\n",
       "   'organizations_url': 'https://api.github.com/users/rhshadrach/orgs',\n",
       "   'repos_url': 'https://api.github.com/users/rhshadrach/repos',\n",
       "   'events_url': 'https://api.github.com/users/rhshadrach/events{/privacy}',\n",
       "   'received_events_url': 'https://api.github.com/users/rhshadrach/received_events',\n",
       "   'type': 'User',\n",
       "   'site_admin': False},\n",
       "  'labels': [],\n",
       "  'state': 'open',\n",
       "  'locked': False,\n",
       "  'assignee': None,\n",
       "  'assignees': [],\n",
       "  'milestone': None,\n",
       "  'comments': 0,\n",
       "  'created_at': '2020-07-25T20:03:20Z',\n",
       "  'updated_at': '2020-07-25T20:03:20Z',\n",
       "  'closed_at': None,\n",
       "  'author_association': 'MEMBER',\n",
       "  'active_lock_reason': None,\n",
       "  'pull_request': {'url': 'https://api.github.com/repos/pandas-dev/pandas/pulls/35412',\n",
       "   'html_url': 'https://github.com/pandas-dev/pandas/pull/35412',\n",
       "   'diff_url': 'https://github.com/pandas-dev/pandas/pull/35412.diff',\n",
       "   'patch_url': 'https://github.com/pandas-dev/pandas/pull/35412.patch'},\n",
       "  'body': \"The majority of this change is the result of three operations:\\r\\n\\r\\n1. Move code that returns up top, to avoid the heavily nested structure.\\r\\n2. Move variable creation as close as possible to where they are used. Previously, in certain cases computations were being done and then going unused.\\r\\n3. Combine duplicated code.\\r\\n\\r\\nThere are two sections that I was able to entirely remove:\\r\\n\\r\\n````\\r\\nping = self.grouper.groupings[0]\\r\\nif len(keys) == ping.ngroups:\\r\\n    key_index = ping.group_index\\r\\n    key_index.name = key_names[0]\\r\\n\\r\\n    key_lookup = Index(keys)\\r\\n    indexer = key_lookup.get_indexer(key_index)\\r\\n\\r\\n    # reorder the values\\r\\n    values = [values[i] for i in indexer]\\r\\n\\r\\n    # update due to the potential reorder\\r\\n    first_not_none = next(com.not_none(*values), None)\\r\\n````\\r\\n\\r\\nand\\r\\n\\r\\n````\\r\\n# GH5788 instead of stacking; concat gets the\\r\\n# dtypes correct\\r\\nfrom pandas.core.reshape.concat import concat\\r\\n\\r\\nresult = concat(\\r\\n    values,\\r\\n    keys=key_index,\\r\\n    names=key_index.names,\\r\\n    axis=self.axis,\\r\\n).unstack()\\r\\nresult.columns = index\\r\\n````\\r\\n\\r\\nFor the single test that I touched, it was checking that the categorical dtype of an index was being dropped after a groupby. I don't believe that is the correct behavior - that the categorical dtype should remain. I checked groupby/categorical bugs and didn't find any issues this closes.\",\n",
       "  'performed_via_github_app': None},\n",
       " {'url': 'https://api.github.com/repos/pandas-dev/pandas/issues/35411',\n",
       "  'repository_url': 'https://api.github.com/repos/pandas-dev/pandas',\n",
       "  'labels_url': 'https://api.github.com/repos/pandas-dev/pandas/issues/35411/labels{/name}',\n",
       "  'comments_url': 'https://api.github.com/repos/pandas-dev/pandas/issues/35411/comments',\n",
       "  'events_url': 'https://api.github.com/repos/pandas-dev/pandas/issues/35411/events',\n",
       "  'html_url': 'https://github.com/pandas-dev/pandas/pull/35411',\n",
       "  'id': 665593320,\n",
       "  'node_id': 'MDExOlB1bGxSZXF1ZXN0NDU2NjIwOTMw',\n",
       "  'number': 35411,\n",
       "  'title': 'CLN: clarify TypeError for IndexSlice argument to pd.xs',\n",
       "  'user': {'login': 'arw2019',\n",
       "   'id': 48889395,\n",
       "   'node_id': 'MDQ6VXNlcjQ4ODg5Mzk1',\n",
       "   'avatar_url': 'https://avatars0.githubusercontent.com/u/48889395?v=4',\n",
       "   'gravatar_id': '',\n",
       "   'url': 'https://api.github.com/users/arw2019',\n",
       "   'html_url': 'https://github.com/arw2019',\n",
       "   'followers_url': 'https://api.github.com/users/arw2019/followers',\n",
       "   'following_url': 'https://api.github.com/users/arw2019/following{/other_user}',\n",
       "   'gists_url': 'https://api.github.com/users/arw2019/gists{/gist_id}',\n",
       "   'starred_url': 'https://api.github.com/users/arw2019/starred{/owner}{/repo}',\n",
       "   'subscriptions_url': 'https://api.github.com/users/arw2019/subscriptions',\n",
       "   'organizations_url': 'https://api.github.com/users/arw2019/orgs',\n",
       "   'repos_url': 'https://api.github.com/users/arw2019/repos',\n",
       "   'events_url': 'https://api.github.com/users/arw2019/events{/privacy}',\n",
       "   'received_events_url': 'https://api.github.com/users/arw2019/received_events',\n",
       "   'type': 'User',\n",
       "   'site_admin': False},\n",
       "  'labels': [],\n",
       "  'state': 'open',\n",
       "  'locked': False,\n",
       "  'assignee': None,\n",
       "  'assignees': [],\n",
       "  'milestone': None,\n",
       "  'comments': 0,\n",
       "  'created_at': '2020-07-25T14:20:48Z',\n",
       "  'updated_at': '2020-07-27T18:24:05Z',\n",
       "  'closed_at': None,\n",
       "  'author_association': 'CONTRIBUTOR',\n",
       "  'active_lock_reason': None,\n",
       "  'pull_request': {'url': 'https://api.github.com/repos/pandas-dev/pandas/pulls/35411',\n",
       "   'html_url': 'https://github.com/pandas-dev/pandas/pull/35411',\n",
       "   'diff_url': 'https://github.com/pandas-dev/pandas/pull/35411.diff',\n",
       "   'patch_url': 'https://github.com/pandas-dev/pandas/pull/35411.patch'},\n",
       "  'body': '- [x] tests added / passed\\r\\n- [x] passes `black pandas`\\r\\n- [x] passes `git diff upstream/master -u -- \"*.py\" | flake8 --diff`\\r\\n- [ ] whatsnew entry (pending 1.2)\\r\\n\\r\\nAs per discussion in #35301 we do not support `IndexSlice` arguments to `xs`. This PR aims to clarify the `TypeError` thrown when that happens.\\r\\n\\r\\nThis doesn\\'t close #35301: a remaining part there is new functionality for `loc`.',\n",
       "  'performed_via_github_app': None},\n",
       " {'url': 'https://api.github.com/repos/pandas-dev/pandas/issues/35410',\n",
       "  'repository_url': 'https://api.github.com/repos/pandas-dev/pandas',\n",
       "  'labels_url': 'https://api.github.com/repos/pandas-dev/pandas/issues/35410/labels{/name}',\n",
       "  'comments_url': 'https://api.github.com/repos/pandas-dev/pandas/issues/35410/comments',\n",
       "  'events_url': 'https://api.github.com/repos/pandas-dev/pandas/issues/35410/events',\n",
       "  'html_url': 'https://github.com/pandas-dev/pandas/issues/35410',\n",
       "  'id': 665588287,\n",
       "  'node_id': 'MDU6SXNzdWU2NjU1ODgyODc=',\n",
       "  'number': 35410,\n",
       "  'title': 'BUG: Wrong Custom Formatters applied when displaying trancated frames',\n",
       "  'user': {'login': 'ipcoder',\n",
       "   'id': 9642454,\n",
       "   'node_id': 'MDQ6VXNlcjk2NDI0NTQ=',\n",
       "   'avatar_url': 'https://avatars0.githubusercontent.com/u/9642454?v=4',\n",
       "   'gravatar_id': '',\n",
       "   'url': 'https://api.github.com/users/ipcoder',\n",
       "   'html_url': 'https://github.com/ipcoder',\n",
       "   'followers_url': 'https://api.github.com/users/ipcoder/followers',\n",
       "   'following_url': 'https://api.github.com/users/ipcoder/following{/other_user}',\n",
       "   'gists_url': 'https://api.github.com/users/ipcoder/gists{/gist_id}',\n",
       "   'starred_url': 'https://api.github.com/users/ipcoder/starred{/owner}{/repo}',\n",
       "   'subscriptions_url': 'https://api.github.com/users/ipcoder/subscriptions',\n",
       "   'organizations_url': 'https://api.github.com/users/ipcoder/orgs',\n",
       "   'repos_url': 'https://api.github.com/users/ipcoder/repos',\n",
       "   'events_url': 'https://api.github.com/users/ipcoder/events{/privacy}',\n",
       "   'received_events_url': 'https://api.github.com/users/ipcoder/received_events',\n",
       "   'type': 'User',\n",
       "   'site_admin': False},\n",
       "  'labels': [{'id': 76811,\n",
       "    'node_id': 'MDU6TGFiZWw3NjgxMQ==',\n",
       "    'url': 'https://api.github.com/repos/pandas-dev/pandas/labels/Bug',\n",
       "    'name': 'Bug',\n",
       "    'color': 'e10c02',\n",
       "    'default': False,\n",
       "    'description': None},\n",
       "   {'id': 1954720290,\n",
       "    'node_id': 'MDU6TGFiZWwxOTU0NzIwMjkw',\n",
       "    'url': 'https://api.github.com/repos/pandas-dev/pandas/labels/Needs%20Triage',\n",
       "    'name': 'Needs Triage',\n",
       "    'color': '0052cc',\n",
       "    'default': False,\n",
       "    'description': 'Issue that has not been reviewed by a pandas team member'}],\n",
       "  'state': 'open',\n",
       "  'locked': False,\n",
       "  'assignee': None,\n",
       "  'assignees': [],\n",
       "  'milestone': None,\n",
       "  'comments': 1,\n",
       "  'created_at': '2020-07-25T13:48:04Z',\n",
       "  'updated_at': '2020-07-26T17:39:41Z',\n",
       "  'closed_at': None,\n",
       "  'author_association': 'NONE',\n",
       "  'active_lock_reason': None,\n",
       "  'body': '#### Problem description\\r\\nI am providing custom formatters for specific columns as dict.\\r\\nIf frame is large enough and some columns are truncated - then wrong formatters are applied to the columns.\\r\\n(In my case that leads to crushes as wrong data type is received by the formatter). \\r\\n\\r\\nPlease notice, that behavior changes depending on the width of the console window as different columns are displayed.\\r\\n\\r\\n#### Problem investigation\\r\\nI have examined the code of my version of panda (1.0.5) and compared with the last version in GitHub - the bug seems to be still there.\\r\\n\\r\\nThe source of the problem starts with this method (`DataFrameFormatter._to_str_columns`), when \\r\\nframe is set to truncated ` frame = self.tr_frame` and then `self._format_col(i)` is called with __index of the column in the TRUNCATED frame__:\\r\\n```python \\r\\n    def _to_str_columns(self) -> List[List[str]]:\\r\\n        \"\"\"\\r\\n        Render a DataFrame to a list of columns (as lists of strings).\\r\\n        \"\"\"\\r\\n        # this method is not used by to_html where self.col_space\\r\\n        # could be a string so safe to cast\\r\\n        self.col_space = cast(int, self.col_space)\\r\\n\\r\\n        frame = self.tr_frame\\r\\n        # may include levels names also\\r\\n\\r\\n        str_index = self._get_formatted_index(frame)\\r\\n\\r\\n        if not is_list_like(self.header) and not self.header:\\r\\n            stringified = []\\r\\n            for i, c in enumerate(frame):\\r\\n                fmt_values = self._format_col(i)\\r\\n```\\r\\n\\r\\nThen this \"truncated\" column index is passed to `self._get_formatter`:\\r\\n```python\\r\\n    def _format_col(self, i: int) -> List[str]:\\r\\n        frame = self.tr_frame\\r\\n        formatter = self._get_formatter(i)   # the problem is HERE? _get_formatter(frame.columns[i]) ?\\r\\n```\\r\\nwhich uses __full frame columns__ to retrieve formatter __using index `i` which corresponds to the columns of the truncated frame__:\\r\\n\\r\\n```python\\r\\n           # ...\\r\\n        else:\\r\\n            if is_integer(i) and i not in self.columns:\\r\\n                i = self.columns[i]\\r\\n            return self.formatters.get(i, None)\\r\\n```  \\r\\n\\r\\n\\r\\n<details>\\r\\n\\r\\nINSTALLED VERSIONS\\r\\n------------------\\r\\ncommit           : None\\r\\npython           : 3.6.10.final.0\\r\\npython-bits      : 64\\r\\nOS               : Linux\\r\\nOS-release       : 5.4.0-37-generic\\r\\nmachine          : x86_64\\r\\nprocessor        : x86_64\\r\\nbyteorder        : little\\r\\nLC_ALL           : None\\r\\nLANG             : en_US.UTF-8\\r\\nLOCALE           : en_US.UTF-8\\r\\n\\r\\npandas           : 1.0.5\\r\\nnumpy            : 1.18.5\\r\\npytz             : 2019.3\\r\\ndateutil         : 2.8.1\\r\\npip              : 20.0.2\\r\\nsetuptools       : 46.0.0.post20200309\\r\\nCython           : 0.29.15\\r\\npytest           : 5.4.1\\r\\nhypothesis       : 5.19.3\\r\\nsphinx           : 2.4.0\\r\\nblosc            : None\\r\\nfeather          : None\\r\\nxlsxwriter       : 1.2.8\\r\\nlxml.etree       : 4.5.0\\r\\nhtml5lib         : 1.0.1\\r\\npymysql          : None\\r\\npsycopg2         : None\\r\\njinja2           : 2.11.1\\r\\nIPython          : 7.16.1\\r\\npandas_datareader: None\\r\\nbs4              : 4.8.2\\r\\nbottleneck       : 1.3.2\\r\\nfastparquet      : None\\r\\ngcsfs            : None\\r\\nlxml.etree       : 4.5.0\\r\\nmatplotlib       : 3.2.2\\r\\nnumexpr          : 2.7.1\\r\\nodfpy            : None\\r\\nopenpyxl         : 3.0.3\\r\\npandas_gbq       : None\\r\\npyarrow          : None\\r\\npytables         : None\\r\\npytest           : 5.4.1\\r\\npyxlsb           : None\\r\\ns3fs             : None\\r\\nscipy            : 1.4.1\\r\\nsqlalchemy       : 1.3.15\\r\\ntables           : 3.4.4\\r\\ntabulate         : 0.8.3\\r\\nxarray           : 0.15.0\\r\\nxlrd             : 1.2.0\\r\\nxlwt             : 1.3.0\\r\\nxlsxwriter       : 1.2.8\\r\\nnumba            : 0.50.1\\r\\n\\r\\n</details>\\r\\n',\n",
       "  'performed_via_github_app': None},\n",
       " {'url': 'https://api.github.com/repos/pandas-dev/pandas/issues/35409',\n",
       "  'repository_url': 'https://api.github.com/repos/pandas-dev/pandas',\n",
       "  'labels_url': 'https://api.github.com/repos/pandas-dev/pandas/issues/35409/labels{/name}',\n",
       "  'comments_url': 'https://api.github.com/repos/pandas-dev/pandas/issues/35409/comments',\n",
       "  'events_url': 'https://api.github.com/repos/pandas-dev/pandas/issues/35409/events',\n",
       "  'html_url': 'https://github.com/pandas-dev/pandas/issues/35409',\n",
       "  'id': 665559232,\n",
       "  'node_id': 'MDU6SXNzdWU2NjU1NTkyMzI=',\n",
       "  'number': 35409,\n",
       "  'title': 'DOC: Inconsistent return type documentation for functions with \"inplace\" option',\n",
       "  'user': {'login': 'Chris-Kimmel',\n",
       "   'id': 59748593,\n",
       "   'node_id': 'MDQ6VXNlcjU5NzQ4NTkz',\n",
       "   'avatar_url': 'https://avatars2.githubusercontent.com/u/59748593?v=4',\n",
       "   'gravatar_id': '',\n",
       "   'url': 'https://api.github.com/users/Chris-Kimmel',\n",
       "   'html_url': 'https://github.com/Chris-Kimmel',\n",
       "   'followers_url': 'https://api.github.com/users/Chris-Kimmel/followers',\n",
       "   'following_url': 'https://api.github.com/users/Chris-Kimmel/following{/other_user}',\n",
       "   'gists_url': 'https://api.github.com/users/Chris-Kimmel/gists{/gist_id}',\n",
       "   'starred_url': 'https://api.github.com/users/Chris-Kimmel/starred{/owner}{/repo}',\n",
       "   'subscriptions_url': 'https://api.github.com/users/Chris-Kimmel/subscriptions',\n",
       "   'organizations_url': 'https://api.github.com/users/Chris-Kimmel/orgs',\n",
       "   'repos_url': 'https://api.github.com/users/Chris-Kimmel/repos',\n",
       "   'events_url': 'https://api.github.com/users/Chris-Kimmel/events{/privacy}',\n",
       "   'received_events_url': 'https://api.github.com/users/Chris-Kimmel/received_events',\n",
       "   'type': 'User',\n",
       "   'site_admin': False},\n",
       "  'labels': [{'id': 134699,\n",
       "    'node_id': 'MDU6TGFiZWwxMzQ2OTk=',\n",
       "    'url': 'https://api.github.com/repos/pandas-dev/pandas/labels/Docs',\n",
       "    'name': 'Docs',\n",
       "    'color': '3465A4',\n",
       "    'default': False,\n",
       "    'description': None}],\n",
       "  'state': 'open',\n",
       "  'locked': False,\n",
       "  'assignee': {'login': 'Chris-Kimmel',\n",
       "   'id': 59748593,\n",
       "   'node_id': 'MDQ6VXNlcjU5NzQ4NTkz',\n",
       "   'avatar_url': 'https://avatars2.githubusercontent.com/u/59748593?v=4',\n",
       "   'gravatar_id': '',\n",
       "   'url': 'https://api.github.com/users/Chris-Kimmel',\n",
       "   'html_url': 'https://github.com/Chris-Kimmel',\n",
       "   'followers_url': 'https://api.github.com/users/Chris-Kimmel/followers',\n",
       "   'following_url': 'https://api.github.com/users/Chris-Kimmel/following{/other_user}',\n",
       "   'gists_url': 'https://api.github.com/users/Chris-Kimmel/gists{/gist_id}',\n",
       "   'starred_url': 'https://api.github.com/users/Chris-Kimmel/starred{/owner}{/repo}',\n",
       "   'subscriptions_url': 'https://api.github.com/users/Chris-Kimmel/subscriptions',\n",
       "   'organizations_url': 'https://api.github.com/users/Chris-Kimmel/orgs',\n",
       "   'repos_url': 'https://api.github.com/users/Chris-Kimmel/repos',\n",
       "   'events_url': 'https://api.github.com/users/Chris-Kimmel/events{/privacy}',\n",
       "   'received_events_url': 'https://api.github.com/users/Chris-Kimmel/received_events',\n",
       "   'type': 'User',\n",
       "   'site_admin': False},\n",
       "  'assignees': [{'login': 'Chris-Kimmel',\n",
       "    'id': 59748593,\n",
       "    'node_id': 'MDQ6VXNlcjU5NzQ4NTkz',\n",
       "    'avatar_url': 'https://avatars2.githubusercontent.com/u/59748593?v=4',\n",
       "    'gravatar_id': '',\n",
       "    'url': 'https://api.github.com/users/Chris-Kimmel',\n",
       "    'html_url': 'https://github.com/Chris-Kimmel',\n",
       "    'followers_url': 'https://api.github.com/users/Chris-Kimmel/followers',\n",
       "    'following_url': 'https://api.github.com/users/Chris-Kimmel/following{/other_user}',\n",
       "    'gists_url': 'https://api.github.com/users/Chris-Kimmel/gists{/gist_id}',\n",
       "    'starred_url': 'https://api.github.com/users/Chris-Kimmel/starred{/owner}{/repo}',\n",
       "    'subscriptions_url': 'https://api.github.com/users/Chris-Kimmel/subscriptions',\n",
       "    'organizations_url': 'https://api.github.com/users/Chris-Kimmel/orgs',\n",
       "    'repos_url': 'https://api.github.com/users/Chris-Kimmel/repos',\n",
       "    'events_url': 'https://api.github.com/users/Chris-Kimmel/events{/privacy}',\n",
       "    'received_events_url': 'https://api.github.com/users/Chris-Kimmel/received_events',\n",
       "    'type': 'User',\n",
       "    'site_admin': False}],\n",
       "  'milestone': {'url': 'https://api.github.com/repos/pandas-dev/pandas/milestones/32',\n",
       "   'html_url': 'https://github.com/pandas-dev/pandas/milestone/32',\n",
       "   'labels_url': 'https://api.github.com/repos/pandas-dev/pandas/milestones/32/labels',\n",
       "   'id': 933188,\n",
       "   'node_id': 'MDk6TWlsZXN0b25lOTMzMTg4',\n",
       "   'number': 32,\n",
       "   'title': 'Contributions Welcome',\n",
       "   'description': 'Changes that would be nice to have in the next release. These issues are not blocking. They will be pushed to the next release if no one has time to fix them.',\n",
       "   'creator': {'login': 'jreback',\n",
       "    'id': 953992,\n",
       "    'node_id': 'MDQ6VXNlcjk1Mzk5Mg==',\n",
       "    'avatar_url': 'https://avatars2.githubusercontent.com/u/953992?v=4',\n",
       "    'gravatar_id': '',\n",
       "    'url': 'https://api.github.com/users/jreback',\n",
       "    'html_url': 'https://github.com/jreback',\n",
       "    'followers_url': 'https://api.github.com/users/jreback/followers',\n",
       "    'following_url': 'https://api.github.com/users/jreback/following{/other_user}',\n",
       "    'gists_url': 'https://api.github.com/users/jreback/gists{/gist_id}',\n",
       "    'starred_url': 'https://api.github.com/users/jreback/starred{/owner}{/repo}',\n",
       "    'subscriptions_url': 'https://api.github.com/users/jreback/subscriptions',\n",
       "    'organizations_url': 'https://api.github.com/users/jreback/orgs',\n",
       "    'repos_url': 'https://api.github.com/users/jreback/repos',\n",
       "    'events_url': 'https://api.github.com/users/jreback/events{/privacy}',\n",
       "    'received_events_url': 'https://api.github.com/users/jreback/received_events',\n",
       "    'type': 'User',\n",
       "    'site_admin': False},\n",
       "   'open_issues': 1187,\n",
       "   'closed_issues': 598,\n",
       "   'state': 'open',\n",
       "   'created_at': '2015-01-13T10:53:19Z',\n",
       "   'updated_at': '2020-07-27T20:46:43Z',\n",
       "   'due_on': None,\n",
       "   'closed_at': None},\n",
       "  'comments': 3,\n",
       "  'created_at': '2020-07-25T10:17:59Z',\n",
       "  'updated_at': '2020-07-27T15:25:05Z',\n",
       "  'closed_at': None,\n",
       "  'author_association': 'NONE',\n",
       "  'active_lock_reason': None,\n",
       "  'body': '#### Location of the documentation\\r\\n\\r\\nThis proposal concerns all methods with the `inplace` keyword argument. Three examples:\\r\\n\\r\\n1 (Return type described as \"blah-blah-type or `None` if `inplace=True`) https://pandas.pydata.org/docs/dev/reference/api/pandas.CategoricalIndex.add_categories.html?highlight=inplace\\r\\n\\r\\n2 (Return type specified, but doesn\\'t mention `None`) https://pandas.pydata.org/docs/dev/reference/api/pandas.Series.interpolate.html?highlight=inplace\\r\\n\\r\\n#### Documentation problem\\r\\n\\r\\nMany methods in pandas have keyword argument `inplace`. When `inplace=True` is supplied, the method updates `self` and returns `None`. When `inplace=False` is supplied, the method does not affect `self` and returns a changed copy of `self`.\\r\\n\\r\\nSome of these functions\\' return types are documented as \"Returns blah-type if inplace=True\". Others just say \"Returns blah-type\". This is confusing because it suggests inconsistencies in *behavior* that are not really there.\\r\\n\\r\\n#### Suggested fix for documentation\\r\\n\\r\\nFind all methods with the `inplace` keyword argument. Change the \"returns\" section of their docstrings to this form:\\r\\n```\\r\\n        Returns\\r\\n        -------\\r\\n        Series or DataFrame\\r\\n            Returns the same object type as the caller, interpolated at\\r\\n            some or all ``NaN`` values. (Or return `None` if\\r\\n            `inplace=True`.)\\r\\n```\\r\\nAlso change all the formal return type signatures to the form \"--> Optional[Foo]\" if they aren\\'t all already like that.',\n",
       "  'performed_via_github_app': None},\n",
       " {'url': 'https://api.github.com/repos/pandas-dev/pandas/issues/35408',\n",
       "  'repository_url': 'https://api.github.com/repos/pandas-dev/pandas',\n",
       "  'labels_url': 'https://api.github.com/repos/pandas-dev/pandas/issues/35408/labels{/name}',\n",
       "  'comments_url': 'https://api.github.com/repos/pandas-dev/pandas/issues/35408/comments',\n",
       "  'events_url': 'https://api.github.com/repos/pandas-dev/pandas/issues/35408/events',\n",
       "  'html_url': 'https://github.com/pandas-dev/pandas/pull/35408',\n",
       "  'id': 665518764,\n",
       "  'node_id': 'MDExOlB1bGxSZXF1ZXN0NDU2NTY4NTky',\n",
       "  'number': 35408,\n",
       "  'title': 'DOC: update DataFrame.to_feather docstring',\n",
       "  'user': {'login': 'arw2019',\n",
       "   'id': 48889395,\n",
       "   'node_id': 'MDQ6VXNlcjQ4ODg5Mzk1',\n",
       "   'avatar_url': 'https://avatars0.githubusercontent.com/u/48889395?v=4',\n",
       "   'gravatar_id': '',\n",
       "   'url': 'https://api.github.com/users/arw2019',\n",
       "   'html_url': 'https://github.com/arw2019',\n",
       "   'followers_url': 'https://api.github.com/users/arw2019/followers',\n",
       "   'following_url': 'https://api.github.com/users/arw2019/following{/other_user}',\n",
       "   'gists_url': 'https://api.github.com/users/arw2019/gists{/gist_id}',\n",
       "   'starred_url': 'https://api.github.com/users/arw2019/starred{/owner}{/repo}',\n",
       "   'subscriptions_url': 'https://api.github.com/users/arw2019/subscriptions',\n",
       "   'organizations_url': 'https://api.github.com/users/arw2019/orgs',\n",
       "   'repos_url': 'https://api.github.com/users/arw2019/repos',\n",
       "   'events_url': 'https://api.github.com/users/arw2019/events{/privacy}',\n",
       "   'received_events_url': 'https://api.github.com/users/arw2019/received_events',\n",
       "   'type': 'User',\n",
       "   'site_admin': False},\n",
       "  'labels': [],\n",
       "  'state': 'open',\n",
       "  'locked': False,\n",
       "  'assignee': None,\n",
       "  'assignees': [],\n",
       "  'milestone': None,\n",
       "  'comments': 0,\n",
       "  'created_at': '2020-07-25T05:27:28Z',\n",
       "  'updated_at': '2020-07-27T18:22:12Z',\n",
       "  'closed_at': None,\n",
       "  'author_association': 'CONTRIBUTOR',\n",
       "  'active_lock_reason': None,\n",
       "  'pull_request': {'url': 'https://api.github.com/repos/pandas-dev/pandas/pulls/35408',\n",
       "   'html_url': 'https://github.com/pandas-dev/pandas/pull/35408',\n",
       "   'diff_url': 'https://github.com/pandas-dev/pandas/pull/35408.diff',\n",
       "   'patch_url': 'https://github.com/pandas-dev/pandas/pull/35408.patch'},\n",
       "  'body': '- [x] closes #29532\\r\\n- [x] passes `black pandas`\\r\\n- [x] passes `git diff upstream/master -u -- \"*.py\" | flake8 --diff`\\r\\n\\r\\nThe issue was that `DataFrame.to_feather` had an `fname` argument which in fact could be either a filename or a buffer. Most of the work to close #29532 was done in #30338 where `fname` argument was deprecated in favor of `path`. Here I update the docstring to let users know that they can use a buffer. ',\n",
       "  'performed_via_github_app': None},\n",
       " {'url': 'https://api.github.com/repos/pandas-dev/pandas/issues/35407',\n",
       "  'repository_url': 'https://api.github.com/repos/pandas-dev/pandas',\n",
       "  'labels_url': 'https://api.github.com/repos/pandas-dev/pandas/issues/35407/labels{/name}',\n",
       "  'comments_url': 'https://api.github.com/repos/pandas-dev/pandas/issues/35407/comments',\n",
       "  'events_url': 'https://api.github.com/repos/pandas-dev/pandas/issues/35407/events',\n",
       "  'html_url': 'https://github.com/pandas-dev/pandas/issues/35407',\n",
       "  'id': 665344871,\n",
       "  'node_id': 'MDU6SXNzdWU2NjUzNDQ4NzE=',\n",
       "  'number': 35407,\n",
       "  'title': 'Deprecate Series / DataFrame.append',\n",
       "  'user': {'login': 'TomAugspurger',\n",
       "   'id': 1312546,\n",
       "   'node_id': 'MDQ6VXNlcjEzMTI1NDY=',\n",
       "   'avatar_url': 'https://avatars3.githubusercontent.com/u/1312546?v=4',\n",
       "   'gravatar_id': '',\n",
       "   'url': 'https://api.github.com/users/TomAugspurger',\n",
       "   'html_url': 'https://github.com/TomAugspurger',\n",
       "   'followers_url': 'https://api.github.com/users/TomAugspurger/followers',\n",
       "   'following_url': 'https://api.github.com/users/TomAugspurger/following{/other_user}',\n",
       "   'gists_url': 'https://api.github.com/users/TomAugspurger/gists{/gist_id}',\n",
       "   'starred_url': 'https://api.github.com/users/TomAugspurger/starred{/owner}{/repo}',\n",
       "   'subscriptions_url': 'https://api.github.com/users/TomAugspurger/subscriptions',\n",
       "   'organizations_url': 'https://api.github.com/users/TomAugspurger/orgs',\n",
       "   'repos_url': 'https://api.github.com/users/TomAugspurger/repos',\n",
       "   'events_url': 'https://api.github.com/users/TomAugspurger/events{/privacy}',\n",
       "   'received_events_url': 'https://api.github.com/users/TomAugspurger/received_events',\n",
       "   'type': 'User',\n",
       "   'site_admin': False},\n",
       "  'labels': [{'id': 87485152,\n",
       "    'node_id': 'MDU6TGFiZWw4NzQ4NTE1Mg==',\n",
       "    'url': 'https://api.github.com/repos/pandas-dev/pandas/labels/Deprecate',\n",
       "    'name': 'Deprecate',\n",
       "    'color': '5319e7',\n",
       "    'default': False,\n",
       "    'description': 'Functionality to remove in pandas'},\n",
       "   {'id': 219960758,\n",
       "    'node_id': 'MDU6TGFiZWwyMTk5NjA3NTg=',\n",
       "    'url': 'https://api.github.com/repos/pandas-dev/pandas/labels/Needs%20Discussion',\n",
       "    'name': 'Needs Discussion',\n",
       "    'color': '207de5',\n",
       "    'default': False,\n",
       "    'description': None}],\n",
       "  'state': 'open',\n",
       "  'locked': False,\n",
       "  'assignee': None,\n",
       "  'assignees': [],\n",
       "  'milestone': None,\n",
       "  'comments': 5,\n",
       "  'created_at': '2020-07-24T18:35:02Z',\n",
       "  'updated_at': '2020-07-27T10:45:12Z',\n",
       "  'closed_at': None,\n",
       "  'author_association': 'CONTRIBUTOR',\n",
       "  'active_lock_reason': None,\n",
       "  'body': \"I think that we should deprecate `Series.append` and `DataFrame.append`. They're making an analogy to `list.append`, but it's a poor analogy since the behavior isn't (and can't be) in place. The data for the index and values needs to be copied to create the result.\\r\\n\\r\\nThese are also apparently popular methods. DataFrame.append is around the 10th most visited page in our API docs.\\r\\n\\r\\nUnless I'm mistaken, users are always better off building up a list of values and passing them to the constructor, or building up a list of NDFrames followed by a single `concat`.\",\n",
       "  'performed_via_github_app': None},\n",
       " {'url': 'https://api.github.com/repos/pandas-dev/pandas/issues/35406',\n",
       "  'repository_url': 'https://api.github.com/repos/pandas-dev/pandas',\n",
       "  'labels_url': 'https://api.github.com/repos/pandas-dev/pandas/issues/35406/labels{/name}',\n",
       "  'comments_url': 'https://api.github.com/repos/pandas-dev/pandas/issues/35406/comments',\n",
       "  'events_url': 'https://api.github.com/repos/pandas-dev/pandas/issues/35406/events',\n",
       "  'html_url': 'https://github.com/pandas-dev/pandas/issues/35406',\n",
       "  'id': 665274277,\n",
       "  'node_id': 'MDU6SXNzdWU2NjUyNzQyNzc=',\n",
       "  'number': 35406,\n",
       "  'title': 'BUG: Creating a Series from a Series results in all NaN values',\n",
       "  'user': {'login': 'bashtage',\n",
       "   'id': 5585221,\n",
       "   'node_id': 'MDQ6VXNlcjU1ODUyMjE=',\n",
       "   'avatar_url': 'https://avatars3.githubusercontent.com/u/5585221?v=4',\n",
       "   'gravatar_id': '',\n",
       "   'url': 'https://api.github.com/users/bashtage',\n",
       "   'html_url': 'https://github.com/bashtage',\n",
       "   'followers_url': 'https://api.github.com/users/bashtage/followers',\n",
       "   'following_url': 'https://api.github.com/users/bashtage/following{/other_user}',\n",
       "   'gists_url': 'https://api.github.com/users/bashtage/gists{/gist_id}',\n",
       "   'starred_url': 'https://api.github.com/users/bashtage/starred{/owner}{/repo}',\n",
       "   'subscriptions_url': 'https://api.github.com/users/bashtage/subscriptions',\n",
       "   'organizations_url': 'https://api.github.com/users/bashtage/orgs',\n",
       "   'repos_url': 'https://api.github.com/users/bashtage/repos',\n",
       "   'events_url': 'https://api.github.com/users/bashtage/events{/privacy}',\n",
       "   'received_events_url': 'https://api.github.com/users/bashtage/received_events',\n",
       "   'type': 'User',\n",
       "   'site_admin': False},\n",
       "  'labels': [{'id': 76811,\n",
       "    'node_id': 'MDU6TGFiZWw3NjgxMQ==',\n",
       "    'url': 'https://api.github.com/repos/pandas-dev/pandas/labels/Bug',\n",
       "    'name': 'Bug',\n",
       "    'color': 'e10c02',\n",
       "    'default': False,\n",
       "    'description': None},\n",
       "   {'id': 1954720290,\n",
       "    'node_id': 'MDU6TGFiZWwxOTU0NzIwMjkw',\n",
       "    'url': 'https://api.github.com/repos/pandas-dev/pandas/labels/Needs%20Triage',\n",
       "    'name': 'Needs Triage',\n",
       "    'color': '0052cc',\n",
       "    'default': False,\n",
       "    'description': 'Issue that has not been reviewed by a pandas team member'}],\n",
       "  'state': 'open',\n",
       "  'locked': False,\n",
       "  'assignee': None,\n",
       "  'assignees': [],\n",
       "  'milestone': None,\n",
       "  'comments': 2,\n",
       "  'created_at': '2020-07-24T16:17:08Z',\n",
       "  'updated_at': '2020-07-24T16:25:59Z',\n",
       "  'closed_at': None,\n",
       "  'author_association': 'CONTRIBUTOR',\n",
       "  'active_lock_reason': None,\n",
       "  'body': '- [X] I have checked that this issue has not already been reported.\\r\\n\\r\\n- [X] I have confirmed this bug exists on the latest version of pandas.\\r\\n\\r\\n- [X] (optional) I have confirmed this bug exists on the master branch of pandas.\\r\\n\\r\\n---\\r\\n\\r\\n**Note**: Please read [this guide](https://matthewrocklin.com/blog/work/2018/02/28/minimal-bug-reports) detailing how to provide the necessary information for us to reproduce your bug.\\r\\n\\r\\n#### Code Sample, a copy-pastable example\\r\\n\\r\\n```python\\r\\nimport numpy as np\\r\\nimport pandas as pd\\r\\n\\r\\npd.Series(pd.Series(np.random.randn(100)),index=pd.date_range(\"1980-1-1\",periods=100,freq=\"D\"))\\r\\n```\\r\\n\\r\\noutput\\r\\n\\r\\n```\\r\\n1980-01-01   NaN\\r\\n1980-01-02   NaN\\r\\n1980-01-03   NaN\\r\\n...\\r\\n```\\r\\n\\r\\n#### Problem description\\r\\n\\r\\nSeries accepts array-like, and Series is array-like.\\r\\n\\r\\n#### Expected Output\\r\\nA Series with the same values and my new index.\\r\\n#### Output of ``pd.show_versions()``\\r\\n\\r\\n<details>\\r\\n\\r\\nINSTALLED VERSIONS\\r\\n------------------\\r\\ncommit           : None\\r\\npython           : 3.7.7.final.0\\r\\npython-bits      : 64\\r\\nOS               : Windows\\r\\nOS-release       : 10\\r\\nmachine          : AMD64\\r\\nprocessor        : AMD64 Family 23 Model 113 Stepping 0, AuthenticAMD\\r\\nbyteorder        : little\\r\\nLC_ALL           : None\\r\\nLANG             : None\\r\\nLOCALE           : None.None\\r\\npandas           : 1.0.5\\r\\nnumpy            : 1.18.5\\r\\npytz             : 2020.1\\r\\ndateutil         : 2.8.1\\r\\npip              : 20.1.1\\r\\nsetuptools       : 49.2.0.post20200714\\r\\nCython           : 0.29.21\\r\\npytest           : 5.4.3\\r\\nhypothesis       : None\\r\\nsphinx           : 3.1.2\\r\\nblosc            : None\\r\\nfeather          : None\\r\\nxlsxwriter       : None\\r\\nlxml.etree       : 4.5.1\\r\\nhtml5lib         : None\\r\\npymysql          : None\\r\\npsycopg2         : None\\r\\njinja2           : 2.11.2\\r\\nIPython          : 7.16.1\\r\\npandas_datareader: v0.10.0dev0+6.g642bd7b\\r\\nbs4              : 4.9.1\\r\\nbottleneck       : None\\r\\nfastparquet      : None\\r\\ngcsfs            : None\\r\\nlxml.etree       : 4.5.1\\r\\nmatplotlib       : 3.2.2\\r\\nnumexpr          : 2.7.1\\r\\nodfpy            : None\\r\\nopenpyxl         : 3.0.4\\r\\npandas_gbq       : None\\r\\npyarrow          : None\\r\\npytables         : None\\r\\npytest           : 5.4.3\\r\\npyxlsb           : None\\r\\ns3fs             : None\\r\\nscipy            : 1.5.0\\r\\nsqlalchemy       : None\\r\\ntables           : 3.6.1\\r\\ntabulate         : 0.8.7\\r\\nxarray           : None\\r\\nxlrd             : 1.2.0\\r\\nxlwt             : 1.3.0\\r\\nxlsxwriter       : None\\r\\nnumba            : 0.50.1\\r\\n\\r\\n\\r\\n</details>\\r\\n',\n",
       "  'performed_via_github_app': None},\n",
       " {'url': 'https://api.github.com/repos/pandas-dev/pandas/issues/35405',\n",
       "  'repository_url': 'https://api.github.com/repos/pandas-dev/pandas',\n",
       "  'labels_url': 'https://api.github.com/repos/pandas-dev/pandas/issues/35405/labels{/name}',\n",
       "  'comments_url': 'https://api.github.com/repos/pandas-dev/pandas/issues/35405/comments',\n",
       "  'events_url': 'https://api.github.com/repos/pandas-dev/pandas/issues/35405/events',\n",
       "  'html_url': 'https://github.com/pandas-dev/pandas/pull/35405',\n",
       "  'id': 665272652,\n",
       "  'node_id': 'MDExOlB1bGxSZXF1ZXN0NDU2MzcyODM0',\n",
       "  'number': 35405,\n",
       "  'title': 'DOC: Add compose ecosystem docs',\n",
       "  'user': {'login': 'jeff-hernandez',\n",
       "   'id': 12969559,\n",
       "   'node_id': 'MDQ6VXNlcjEyOTY5NTU5',\n",
       "   'avatar_url': 'https://avatars0.githubusercontent.com/u/12969559?v=4',\n",
       "   'gravatar_id': '',\n",
       "   'url': 'https://api.github.com/users/jeff-hernandez',\n",
       "   'html_url': 'https://github.com/jeff-hernandez',\n",
       "   'followers_url': 'https://api.github.com/users/jeff-hernandez/followers',\n",
       "   'following_url': 'https://api.github.com/users/jeff-hernandez/following{/other_user}',\n",
       "   'gists_url': 'https://api.github.com/users/jeff-hernandez/gists{/gist_id}',\n",
       "   'starred_url': 'https://api.github.com/users/jeff-hernandez/starred{/owner}{/repo}',\n",
       "   'subscriptions_url': 'https://api.github.com/users/jeff-hernandez/subscriptions',\n",
       "   'organizations_url': 'https://api.github.com/users/jeff-hernandez/orgs',\n",
       "   'repos_url': 'https://api.github.com/users/jeff-hernandez/repos',\n",
       "   'events_url': 'https://api.github.com/users/jeff-hernandez/events{/privacy}',\n",
       "   'received_events_url': 'https://api.github.com/users/jeff-hernandez/received_events',\n",
       "   'type': 'User',\n",
       "   'site_admin': False},\n",
       "  'labels': [],\n",
       "  'state': 'open',\n",
       "  'locked': False,\n",
       "  'assignee': None,\n",
       "  'assignees': [],\n",
       "  'milestone': None,\n",
       "  'comments': 0,\n",
       "  'created_at': '2020-07-24T16:14:25Z',\n",
       "  'updated_at': '2020-07-24T16:14:25Z',\n",
       "  'closed_at': None,\n",
       "  'author_association': 'NONE',\n",
       "  'active_lock_reason': None,\n",
       "  'pull_request': {'url': 'https://api.github.com/repos/pandas-dev/pandas/pulls/35405',\n",
       "   'html_url': 'https://github.com/pandas-dev/pandas/pull/35405',\n",
       "   'diff_url': 'https://github.com/pandas-dev/pandas/pull/35405.diff',\n",
       "   'patch_url': 'https://github.com/pandas-dev/pandas/pull/35405.patch'},\n",
       "  'body': '- [ ] closes #xxxx\\r\\n- [ ] tests added / passed\\r\\n- [ ] passes `black pandas`\\r\\n- [ ] passes `git diff upstream/master -u -- \"*.py\" | flake8 --diff`\\r\\n- [ ] whatsnew entry\\r\\n',\n",
       "  'performed_via_github_app': None},\n",
       " {'url': 'https://api.github.com/repos/pandas-dev/pandas/issues/35403',\n",
       "  'repository_url': 'https://api.github.com/repos/pandas-dev/pandas',\n",
       "  'labels_url': 'https://api.github.com/repos/pandas-dev/pandas/issues/35403/labels{/name}',\n",
       "  'comments_url': 'https://api.github.com/repos/pandas-dev/pandas/issues/35403/comments',\n",
       "  'events_url': 'https://api.github.com/repos/pandas-dev/pandas/issues/35403/events',\n",
       "  'html_url': 'https://github.com/pandas-dev/pandas/issues/35403',\n",
       "  'id': 665166565,\n",
       "  'node_id': 'MDU6SXNzdWU2NjUxNjY1NjU=',\n",
       "  'number': 35403,\n",
       "  'title': 'ENH: Please provide `register_groupBy_accessor`',\n",
       "  'user': {'login': 'talegari',\n",
       "   'id': 10041819,\n",
       "   'node_id': 'MDQ6VXNlcjEwMDQxODE5',\n",
       "   'avatar_url': 'https://avatars2.githubusercontent.com/u/10041819?v=4',\n",
       "   'gravatar_id': '',\n",
       "   'url': 'https://api.github.com/users/talegari',\n",
       "   'html_url': 'https://github.com/talegari',\n",
       "   'followers_url': 'https://api.github.com/users/talegari/followers',\n",
       "   'following_url': 'https://api.github.com/users/talegari/following{/other_user}',\n",
       "   'gists_url': 'https://api.github.com/users/talegari/gists{/gist_id}',\n",
       "   'starred_url': 'https://api.github.com/users/talegari/starred{/owner}{/repo}',\n",
       "   'subscriptions_url': 'https://api.github.com/users/talegari/subscriptions',\n",
       "   'organizations_url': 'https://api.github.com/users/talegari/orgs',\n",
       "   'repos_url': 'https://api.github.com/users/talegari/repos',\n",
       "   'events_url': 'https://api.github.com/users/talegari/events{/privacy}',\n",
       "   'received_events_url': 'https://api.github.com/users/talegari/received_events',\n",
       "   'type': 'User',\n",
       "   'site_admin': False},\n",
       "  'labels': [{'id': 76812,\n",
       "    'node_id': 'MDU6TGFiZWw3NjgxMg==',\n",
       "    'url': 'https://api.github.com/repos/pandas-dev/pandas/labels/Enhancement',\n",
       "    'name': 'Enhancement',\n",
       "    'color': '4E9A06',\n",
       "    'default': False,\n",
       "    'description': None},\n",
       "   {'id': 1954720290,\n",
       "    'node_id': 'MDU6TGFiZWwxOTU0NzIwMjkw',\n",
       "    'url': 'https://api.github.com/repos/pandas-dev/pandas/labels/Needs%20Triage',\n",
       "    'name': 'Needs Triage',\n",
       "    'color': '0052cc',\n",
       "    'default': False,\n",
       "    'description': 'Issue that has not been reviewed by a pandas team member'}],\n",
       "  'state': 'open',\n",
       "  'locked': False,\n",
       "  'assignee': None,\n",
       "  'assignees': [],\n",
       "  'milestone': None,\n",
       "  'comments': 0,\n",
       "  'created_at': '2020-07-24T13:24:01Z',\n",
       "  'updated_at': '2020-07-24T13:24:01Z',\n",
       "  'closed_at': None,\n",
       "  'author_association': 'NONE',\n",
       "  'active_lock_reason': None,\n",
       "  'body': 'Thanks for providing the option to create custom accessors via  [pandas.api.extensions](https://pandas.pydata.org/pandas-docs/stable/development/extending.html). This is prefereable method to extend pandas dataframes over inheritance/sub-classing. Currently, this supports these: dataframe, series, index.\\r\\n\\r\\nPlease extend this support for [groupBy](https://pandas.pydata.org/pandas-docs/stable/reference/groupby.html) objects.',\n",
       "  'performed_via_github_app': None},\n",
       " {'url': 'https://api.github.com/repos/pandas-dev/pandas/issues/35401',\n",
       "  'repository_url': 'https://api.github.com/repos/pandas-dev/pandas',\n",
       "  'labels_url': 'https://api.github.com/repos/pandas-dev/pandas/issues/35401/labels{/name}',\n",
       "  'comments_url': 'https://api.github.com/repos/pandas-dev/pandas/issues/35401/comments',\n",
       "  'events_url': 'https://api.github.com/repos/pandas-dev/pandas/issues/35401/events',\n",
       "  'html_url': 'https://github.com/pandas-dev/pandas/pull/35401',\n",
       "  'id': 665127767,\n",
       "  'node_id': 'MDExOlB1bGxSZXF1ZXN0NDU2MjUzMDUw',\n",
       "  'number': 35401,\n",
       "  'title': 'use a try block in _expand_user instead of a typing condition',\n",
       "  'user': {'login': 'neutrinoceros',\n",
       "   'id': 14075922,\n",
       "   'node_id': 'MDQ6VXNlcjE0MDc1OTIy',\n",
       "   'avatar_url': 'https://avatars0.githubusercontent.com/u/14075922?v=4',\n",
       "   'gravatar_id': '',\n",
       "   'url': 'https://api.github.com/users/neutrinoceros',\n",
       "   'html_url': 'https://github.com/neutrinoceros',\n",
       "   'followers_url': 'https://api.github.com/users/neutrinoceros/followers',\n",
       "   'following_url': 'https://api.github.com/users/neutrinoceros/following{/other_user}',\n",
       "   'gists_url': 'https://api.github.com/users/neutrinoceros/gists{/gist_id}',\n",
       "   'starred_url': 'https://api.github.com/users/neutrinoceros/starred{/owner}{/repo}',\n",
       "   'subscriptions_url': 'https://api.github.com/users/neutrinoceros/subscriptions',\n",
       "   'organizations_url': 'https://api.github.com/users/neutrinoceros/orgs',\n",
       "   'repos_url': 'https://api.github.com/users/neutrinoceros/repos',\n",
       "   'events_url': 'https://api.github.com/users/neutrinoceros/events{/privacy}',\n",
       "   'received_events_url': 'https://api.github.com/users/neutrinoceros/received_events',\n",
       "   'type': 'User',\n",
       "   'site_admin': False},\n",
       "  'labels': [],\n",
       "  'state': 'open',\n",
       "  'locked': False,\n",
       "  'assignee': None,\n",
       "  'assignees': [],\n",
       "  'milestone': None,\n",
       "  'comments': 0,\n",
       "  'created_at': '2020-07-24T12:13:11Z',\n",
       "  'updated_at': '2020-07-24T12:48:55Z',\n",
       "  'closed_at': None,\n",
       "  'author_association': 'CONTRIBUTOR',\n",
       "  'active_lock_reason': None,\n",
       "  'pull_request': {'url': 'https://api.github.com/repos/pandas-dev/pandas/pulls/35401',\n",
       "   'html_url': 'https://github.com/pandas-dev/pandas/pull/35401',\n",
       "   'diff_url': 'https://github.com/pandas-dev/pandas/pull/35401.diff',\n",
       "   'patch_url': 'https://github.com/pandas-dev/pandas/pull/35401.patch'},\n",
       "  'body': 'Noticed that `_expand_user`\\'s docstrings stated that expansion was performed \"if possible\", while the actual implementation was only applying expansion to str objects.\\r\\nWith a try block it should work with str, os.Pathlike and bytes objects (and everything else supported by `os.path.expanduser` in the future).\\r\\nI except this change may be undesirable since it with force the output type to `str`. In this case I can replace this with a docstring update.\\r\\nI\\'ll complete the checklist with tests and whatsnew entry if the change is deemed desirable.\\r\\n\\r\\n- [ ] tests added / passed\\r\\n- [x] passes `black pandas`\\r\\n- [x] passes `git diff upstream/master -u -- \"*.py\" | flake8 --diff`\\r\\n- [ ] whatsnew entry\\r\\n',\n",
       "  'performed_via_github_app': None},\n",
       " {'url': 'https://api.github.com/repos/pandas-dev/pandas/issues/35399',\n",
       "  'repository_url': 'https://api.github.com/repos/pandas-dev/pandas',\n",
       "  'labels_url': 'https://api.github.com/repos/pandas-dev/pandas/issues/35399/labels{/name}',\n",
       "  'comments_url': 'https://api.github.com/repos/pandas-dev/pandas/issues/35399/comments',\n",
       "  'events_url': 'https://api.github.com/repos/pandas-dev/pandas/issues/35399/events',\n",
       "  'html_url': 'https://github.com/pandas-dev/pandas/pull/35399',\n",
       "  'id': 664942198,\n",
       "  'node_id': 'MDExOlB1bGxSZXF1ZXN0NDU2MDk4MDM2',\n",
       "  'number': 35399,\n",
       "  'title': 'API: read_csv, to_csv line_terminator keyword inconsistency',\n",
       "  'user': {'login': 'arw2019',\n",
       "   'id': 48889395,\n",
       "   'node_id': 'MDQ6VXNlcjQ4ODg5Mzk1',\n",
       "   'avatar_url': 'https://avatars0.githubusercontent.com/u/48889395?v=4',\n",
       "   'gravatar_id': '',\n",
       "   'url': 'https://api.github.com/users/arw2019',\n",
       "   'html_url': 'https://github.com/arw2019',\n",
       "   'followers_url': 'https://api.github.com/users/arw2019/followers',\n",
       "   'following_url': 'https://api.github.com/users/arw2019/following{/other_user}',\n",
       "   'gists_url': 'https://api.github.com/users/arw2019/gists{/gist_id}',\n",
       "   'starred_url': 'https://api.github.com/users/arw2019/starred{/owner}{/repo}',\n",
       "   'subscriptions_url': 'https://api.github.com/users/arw2019/subscriptions',\n",
       "   'organizations_url': 'https://api.github.com/users/arw2019/orgs',\n",
       "   'repos_url': 'https://api.github.com/users/arw2019/repos',\n",
       "   'events_url': 'https://api.github.com/users/arw2019/events{/privacy}',\n",
       "   'received_events_url': 'https://api.github.com/users/arw2019/received_events',\n",
       "   'type': 'User',\n",
       "   'site_admin': False},\n",
       "  'labels': [{'id': 1741841389,\n",
       "    'node_id': 'MDU6TGFiZWwxNzQxODQxMzg5',\n",
       "    'url': 'https://api.github.com/repos/pandas-dev/pandas/labels/API%20-%20Consistency',\n",
       "    'name': 'API - Consistency',\n",
       "    'color': 'b60205',\n",
       "    'default': False,\n",
       "    'description': 'Internal Consistency of API/Behavior'},\n",
       "   {'id': 47229171,\n",
       "    'node_id': 'MDU6TGFiZWw0NzIyOTE3MQ==',\n",
       "    'url': 'https://api.github.com/repos/pandas-dev/pandas/labels/IO%20CSV',\n",
       "    'name': 'IO CSV',\n",
       "    'color': '5319e7',\n",
       "    'default': False,\n",
       "    'description': None}],\n",
       "  'state': 'open',\n",
       "  'locked': False,\n",
       "  'assignee': None,\n",
       "  'assignees': [],\n",
       "  'milestone': {'url': 'https://api.github.com/repos/pandas-dev/pandas/milestones/73',\n",
       "   'html_url': 'https://github.com/pandas-dev/pandas/milestone/73',\n",
       "   'labels_url': 'https://api.github.com/repos/pandas-dev/pandas/milestones/73/labels',\n",
       "   'id': 5479819,\n",
       "   'node_id': 'MDk6TWlsZXN0b25lNTQ3OTgxOQ==',\n",
       "   'number': 73,\n",
       "   'title': '1.2',\n",
       "   'description': '',\n",
       "   'creator': {'login': 'jreback',\n",
       "    'id': 953992,\n",
       "    'node_id': 'MDQ6VXNlcjk1Mzk5Mg==',\n",
       "    'avatar_url': 'https://avatars2.githubusercontent.com/u/953992?v=4',\n",
       "    'gravatar_id': '',\n",
       "    'url': 'https://api.github.com/users/jreback',\n",
       "    'html_url': 'https://github.com/jreback',\n",
       "    'followers_url': 'https://api.github.com/users/jreback/followers',\n",
       "    'following_url': 'https://api.github.com/users/jreback/following{/other_user}',\n",
       "    'gists_url': 'https://api.github.com/users/jreback/gists{/gist_id}',\n",
       "    'starred_url': 'https://api.github.com/users/jreback/starred{/owner}{/repo}',\n",
       "    'subscriptions_url': 'https://api.github.com/users/jreback/subscriptions',\n",
       "    'organizations_url': 'https://api.github.com/users/jreback/orgs',\n",
       "    'repos_url': 'https://api.github.com/users/jreback/repos',\n",
       "    'events_url': 'https://api.github.com/users/jreback/events{/privacy}',\n",
       "    'received_events_url': 'https://api.github.com/users/jreback/received_events',\n",
       "    'type': 'User',\n",
       "    'site_admin': False},\n",
       "   'open_issues': 26,\n",
       "   'closed_issues': 1,\n",
       "   'state': 'open',\n",
       "   'created_at': '2020-05-29T23:47:32Z',\n",
       "   'updated_at': '2020-07-27T14:08:04Z',\n",
       "   'due_on': '2020-11-29T08:00:00Z',\n",
       "   'closed_at': None},\n",
       "  'comments': 6,\n",
       "  'created_at': '2020-07-24T06:12:53Z',\n",
       "  'updated_at': '2020-07-27T18:53:28Z',\n",
       "  'closed_at': None,\n",
       "  'author_association': 'CONTRIBUTOR',\n",
       "  'active_lock_reason': None,\n",
       "  'pull_request': {'url': 'https://api.github.com/repos/pandas-dev/pandas/pulls/35399',\n",
       "   'html_url': 'https://github.com/pandas-dev/pandas/pull/35399',\n",
       "   'diff_url': 'https://github.com/pandas-dev/pandas/pull/35399.diff',\n",
       "   'patch_url': 'https://github.com/pandas-dev/pandas/pull/35399.patch'},\n",
       "  'body': '- [x] closes #9568\\r\\n- [x] tests added / passed\\r\\n- [x] passes `black pandas`\\r\\n- [x] passes `git diff upstream/master -u -- \"*.py\" | flake8 --diff`\\r\\n- [ ] whatsnew entry (pending 1.2)\\r\\n\\r\\nI followed discussion in #9568. The aim of this PR is to allow both `line_terminator` and `lineterminator` keyword args  to `read_csv` and `to_csv` but only document `line_terminator`. As per @jorisvandenbossche\\'s suggestion we preserve `lineterminator` to stay compatible with `csv` dialects.\\r\\n',\n",
       "  'performed_via_github_app': None}]"
      ]
     },
     "execution_count": 176,
     "metadata": {},
     "output_type": "execute_result"
    }
   ],
   "source": [
    "# data의 각 항목은 깃허브 이슈 페이지(댓글 제외)에서 찾을 수 있는 모든 데이터를 담고 있다\n",
    "data"
   ]
  },
  {
   "cell_type": "code",
   "execution_count": 177,
   "metadata": {},
   "outputs": [],
   "source": [
    "# 이 data를 바로 DataFrame으로 생성하고 관심이 있는 필드만 따로 추출 가능\n",
    "issues = pd.DataFrame(data, columns=['number', 'title', 'labels', 'state'])"
   ]
  },
  {
   "cell_type": "code",
   "execution_count": 178,
   "metadata": {},
   "outputs": [
    {
     "data": {
      "text/html": [
       "<div>\n",
       "<style scoped>\n",
       "    .dataframe tbody tr th:only-of-type {\n",
       "        vertical-align: middle;\n",
       "    }\n",
       "\n",
       "    .dataframe tbody tr th {\n",
       "        vertical-align: top;\n",
       "    }\n",
       "\n",
       "    .dataframe thead th {\n",
       "        text-align: right;\n",
       "    }\n",
       "</style>\n",
       "<table border=\"1\" class=\"dataframe\">\n",
       "  <thead>\n",
       "    <tr style=\"text-align: right;\">\n",
       "      <th></th>\n",
       "      <th>number</th>\n",
       "      <th>title</th>\n",
       "      <th>labels</th>\n",
       "      <th>state</th>\n",
       "    </tr>\n",
       "  </thead>\n",
       "  <tbody>\n",
       "    <tr>\n",
       "      <th>0</th>\n",
       "      <td>35433</td>\n",
       "      <td>BUG: A change between Python version 3.6.0 and...</td>\n",
       "      <td>[{'id': 76811, 'node_id': 'MDU6TGFiZWw3NjgxMQ=...</td>\n",
       "      <td>open</td>\n",
       "    </tr>\n",
       "    <tr>\n",
       "      <th>1</th>\n",
       "      <td>35432</td>\n",
       "      <td>CLN/PERF: move RangeIndex._cached_data to Rang...</td>\n",
       "      <td>[]</td>\n",
       "      <td>open</td>\n",
       "    </tr>\n",
       "    <tr>\n",
       "      <th>2</th>\n",
       "      <td>35431</td>\n",
       "      <td>BUG: index_col in read_csv ignores dtype</td>\n",
       "      <td>[{'id': 76811, 'node_id': 'MDU6TGFiZWw3NjgxMQ=...</td>\n",
       "      <td>open</td>\n",
       "    </tr>\n",
       "    <tr>\n",
       "      <th>3</th>\n",
       "      <td>35429</td>\n",
       "      <td>BUG: NA does not propagate through mask and wh...</td>\n",
       "      <td>[{'id': 76811, 'node_id': 'MDU6TGFiZWw3NjgxMQ=...</td>\n",
       "      <td>open</td>\n",
       "    </tr>\n",
       "    <tr>\n",
       "      <th>4</th>\n",
       "      <td>35428</td>\n",
       "      <td>BUG: Inconsistent date parsing of to_datetime</td>\n",
       "      <td>[]</td>\n",
       "      <td>open</td>\n",
       "    </tr>\n",
       "    <tr>\n",
       "      <th>...</th>\n",
       "      <td>...</td>\n",
       "      <td>...</td>\n",
       "      <td>...</td>\n",
       "      <td>...</td>\n",
       "    </tr>\n",
       "    <tr>\n",
       "      <th>25</th>\n",
       "      <td>35406</td>\n",
       "      <td>BUG: Creating a Series from a Series results i...</td>\n",
       "      <td>[{'id': 76811, 'node_id': 'MDU6TGFiZWw3NjgxMQ=...</td>\n",
       "      <td>open</td>\n",
       "    </tr>\n",
       "    <tr>\n",
       "      <th>26</th>\n",
       "      <td>35405</td>\n",
       "      <td>DOC: Add compose ecosystem docs</td>\n",
       "      <td>[]</td>\n",
       "      <td>open</td>\n",
       "    </tr>\n",
       "    <tr>\n",
       "      <th>27</th>\n",
       "      <td>35403</td>\n",
       "      <td>ENH: Please provide `register_groupBy_accessor`</td>\n",
       "      <td>[{'id': 76812, 'node_id': 'MDU6TGFiZWw3NjgxMg=...</td>\n",
       "      <td>open</td>\n",
       "    </tr>\n",
       "    <tr>\n",
       "      <th>28</th>\n",
       "      <td>35401</td>\n",
       "      <td>use a try block in _expand_user instead of a t...</td>\n",
       "      <td>[]</td>\n",
       "      <td>open</td>\n",
       "    </tr>\n",
       "    <tr>\n",
       "      <th>29</th>\n",
       "      <td>35399</td>\n",
       "      <td>API: read_csv, to_csv line_terminator keyword ...</td>\n",
       "      <td>[{'id': 1741841389, 'node_id': 'MDU6TGFiZWwxNz...</td>\n",
       "      <td>open</td>\n",
       "    </tr>\n",
       "  </tbody>\n",
       "</table>\n",
       "<p>30 rows × 4 columns</p>\n",
       "</div>"
      ],
      "text/plain": [
       "    number                                              title  \\\n",
       "0    35433  BUG: A change between Python version 3.6.0 and...   \n",
       "1    35432  CLN/PERF: move RangeIndex._cached_data to Rang...   \n",
       "2    35431           BUG: index_col in read_csv ignores dtype   \n",
       "3    35429  BUG: NA does not propagate through mask and wh...   \n",
       "4    35428      BUG: Inconsistent date parsing of to_datetime   \n",
       "..     ...                                                ...   \n",
       "25   35406  BUG: Creating a Series from a Series results i...   \n",
       "26   35405                    DOC: Add compose ecosystem docs   \n",
       "27   35403    ENH: Please provide `register_groupBy_accessor`   \n",
       "28   35401  use a try block in _expand_user instead of a t...   \n",
       "29   35399  API: read_csv, to_csv line_terminator keyword ...   \n",
       "\n",
       "                                               labels state  \n",
       "0   [{'id': 76811, 'node_id': 'MDU6TGFiZWw3NjgxMQ=...  open  \n",
       "1                                                  []  open  \n",
       "2   [{'id': 76811, 'node_id': 'MDU6TGFiZWw3NjgxMQ=...  open  \n",
       "3   [{'id': 76811, 'node_id': 'MDU6TGFiZWw3NjgxMQ=...  open  \n",
       "4                                                  []  open  \n",
       "..                                                ...   ...  \n",
       "25  [{'id': 76811, 'node_id': 'MDU6TGFiZWw3NjgxMQ=...  open  \n",
       "26                                                 []  open  \n",
       "27  [{'id': 76812, 'node_id': 'MDU6TGFiZWw3NjgxMg=...  open  \n",
       "28                                                 []  open  \n",
       "29  [{'id': 1741841389, 'node_id': 'MDU6TGFiZWwxNz...  open  \n",
       "\n",
       "[30 rows x 4 columns]"
      ]
     },
     "execution_count": 178,
     "metadata": {},
     "output_type": "execute_result"
    }
   ],
   "source": [
    "# 수고를 더하면 평범한 웹 API를 위한 고수준의 인터페이스를 만들어 DataFrame에 저장하고 쉽게 분석작업 수행 가능\n",
    "issues"
   ]
  },
  {
   "cell_type": "markdown",
   "metadata": {},
   "source": [
    "## MAKR: 데이터베이스와 함께 사용\n",
    "* 비즈니스 관점에서 대부분의 데이터는 SQL 기반의 관계형 데이터베이스를 많이 사용\n",
    "* 다른 종류의 대안 데이터베이스들도 인기를 끌고 있음\n",
    "* 데이터베이스는 보통 애플리케이션에 필요한 성능이나 데이터 무결성 그리고 확장성에 맞춰 선택하는 것이 일반적\n",
    "* SQL에서 데이터를 읽어 와서 DataFrame에 저장하는 것은 꽤 직관적\n",
    "  * pandas에 이 과정을 간결하게 해주는 함수 몇 가지 존재, 예) sqlite3 드라이버를 사용하여 SQLite 데이터베이스 이용 가능"
   ]
  },
  {
   "cell_type": "code",
   "execution_count": 179,
   "metadata": {},
   "outputs": [],
   "source": [
    "import sqlite3"
   ]
  },
  {
   "cell_type": "code",
   "execution_count": 180,
   "metadata": {},
   "outputs": [],
   "source": [
    "query = \"\"\"\n",
    "CREATE TABLE test\n",
    "(a VARCHAR(20), b varchar(20), c REAL, d INTEGER);\n",
    "\"\"\""
   ]
  },
  {
   "cell_type": "code",
   "execution_count": 181,
   "metadata": {},
   "outputs": [],
   "source": [
    "con = sqlite3.connect('mydata.sqlite')"
   ]
  },
  {
   "cell_type": "code",
   "execution_count": 183,
   "metadata": {},
   "outputs": [
    {
     "data": {
      "text/plain": [
       "<sqlite3.Cursor at 0x123ee62d0>"
      ]
     },
     "execution_count": 183,
     "metadata": {},
     "output_type": "execute_result"
    }
   ],
   "source": [
    "con.execute(query)"
   ]
  },
  {
   "cell_type": "code",
   "execution_count": 184,
   "metadata": {},
   "outputs": [],
   "source": [
    "con.commit()"
   ]
  },
  {
   "cell_type": "code",
   "execution_count": 185,
   "metadata": {},
   "outputs": [],
   "source": [
    "# 데이터 입력\n",
    "data = [('Atlanta', 'Georgia', 1.25, 6),\n",
    "        ('Tallahassee', 'Florida', 2.6, 3),\n",
    "        ('Sacramento', 'California', 1.7, 5)]"
   ]
  },
  {
   "cell_type": "code",
   "execution_count": 186,
   "metadata": {},
   "outputs": [],
   "source": [
    "stmt = \"INSERT INTO test VALUES(?, ?, ?, ?)\""
   ]
  },
  {
   "cell_type": "code",
   "execution_count": 187,
   "metadata": {},
   "outputs": [
    {
     "data": {
      "text/plain": [
       "<sqlite3.Cursor at 0x123ee6ab0>"
      ]
     },
     "execution_count": 187,
     "metadata": {},
     "output_type": "execute_result"
    }
   ],
   "source": [
    "con.executemany(stmt, data)"
   ]
  },
  {
   "cell_type": "code",
   "execution_count": 188,
   "metadata": {},
   "outputs": [],
   "source": [
    "con.commit()"
   ]
  },
  {
   "cell_type": "code",
   "execution_count": 189,
   "metadata": {},
   "outputs": [],
   "source": [
    "# 대부분의 파이썬 SQL 드라이버(PyODBC, psycopg2, MySQLdb, pymssql 등)는 테이블에 대해 select 쿼리를 수행하면 튜플 리스트 반환\n",
    "cursor = con.execute('select * from test')"
   ]
  },
  {
   "cell_type": "code",
   "execution_count": 190,
   "metadata": {},
   "outputs": [],
   "source": [
    "rows = cursor.fetchall()"
   ]
  },
  {
   "cell_type": "code",
   "execution_count": 191,
   "metadata": {},
   "outputs": [
    {
     "data": {
      "text/plain": [
       "[('Atlanta', 'Georgia', 1.25, 6),\n",
       " ('Tallahassee', 'Florida', 2.6, 3),\n",
       " ('Sacramento', 'California', 1.7, 5)]"
      ]
     },
     "execution_count": 191,
     "metadata": {},
     "output_type": "execute_result"
    }
   ],
   "source": [
    "rows"
   ]
  },
  {
   "cell_type": "code",
   "execution_count": 192,
   "metadata": {},
   "outputs": [
    {
     "data": {
      "text/plain": [
       "(('a', None, None, None, None, None, None),\n",
       " ('b', None, None, None, None, None, None),\n",
       " ('c', None, None, None, None, None, None),\n",
       " ('d', None, None, None, None, None, None))"
      ]
     },
     "execution_count": 192,
     "metadata": {},
     "output_type": "execute_result"
    }
   ],
   "source": [
    "# 반환된 튜플 리스트를 DataFrame 생성자에 바로 전달해도 되지만, 컬럼 이름 지정 시 더 편하다!\n",
    "# cursor의 description 속성 활용\n",
    "cursor.description"
   ]
  },
  {
   "cell_type": "code",
   "execution_count": 193,
   "metadata": {},
   "outputs": [
    {
     "data": {
      "text/html": [
       "<div>\n",
       "<style scoped>\n",
       "    .dataframe tbody tr th:only-of-type {\n",
       "        vertical-align: middle;\n",
       "    }\n",
       "\n",
       "    .dataframe tbody tr th {\n",
       "        vertical-align: top;\n",
       "    }\n",
       "\n",
       "    .dataframe thead th {\n",
       "        text-align: right;\n",
       "    }\n",
       "</style>\n",
       "<table border=\"1\" class=\"dataframe\">\n",
       "  <thead>\n",
       "    <tr style=\"text-align: right;\">\n",
       "      <th></th>\n",
       "      <th>a</th>\n",
       "      <th>b</th>\n",
       "      <th>c</th>\n",
       "      <th>d</th>\n",
       "    </tr>\n",
       "  </thead>\n",
       "  <tbody>\n",
       "    <tr>\n",
       "      <th>0</th>\n",
       "      <td>Atlanta</td>\n",
       "      <td>Georgia</td>\n",
       "      <td>1.25</td>\n",
       "      <td>6</td>\n",
       "    </tr>\n",
       "    <tr>\n",
       "      <th>1</th>\n",
       "      <td>Tallahassee</td>\n",
       "      <td>Florida</td>\n",
       "      <td>2.60</td>\n",
       "      <td>3</td>\n",
       "    </tr>\n",
       "    <tr>\n",
       "      <th>2</th>\n",
       "      <td>Sacramento</td>\n",
       "      <td>California</td>\n",
       "      <td>1.70</td>\n",
       "      <td>5</td>\n",
       "    </tr>\n",
       "  </tbody>\n",
       "</table>\n",
       "</div>"
      ],
      "text/plain": [
       "             a           b     c  d\n",
       "0      Atlanta     Georgia  1.25  6\n",
       "1  Tallahassee     Florida  2.60  3\n",
       "2   Sacramento  California  1.70  5"
      ]
     },
     "execution_count": 193,
     "metadata": {},
     "output_type": "execute_result"
    }
   ],
   "source": [
    "pd.DataFrame(rows, columns=[x[0] for x in cursor.description])"
   ]
  },
  {
   "cell_type": "markdown",
   "metadata": {},
   "source": [
    "* 데이터베이스에 쿼리를 보낼 때 더 편리하게 하기 위한 방법: 파이썬 SQL 툴킷인 SQLAlchemy 프로젝트 활용\n",
    "<pre> <b>SQLAlchemy(SQL 알케미) </b>\n",
    " : SQL 데이터베이스 간의 일반적인 차이점을 추상화하여 제공\n",
    " : pandas는 read_sql 함수를 제공하여 SQLAlchemy의 일반적인 연결을 이용해 쉽게 데이터를 읽을 수 있게 한다\n",
    "</pre>"
   ]
  },
  {
   "cell_type": "code",
   "execution_count": 195,
   "metadata": {},
   "outputs": [],
   "source": [
    "# SQLAlchemy를 사용하여 같은 SQLite 데이터베이스에 접속하고 앞서 만든 테이블에서 데이터를 읽어오는 예\n",
    "import sqlalchemy as sqla"
   ]
  },
  {
   "cell_type": "code",
   "execution_count": 196,
   "metadata": {},
   "outputs": [],
   "source": [
    "db = sqla.create_engine('sqlite:///mydata.sqlite')"
   ]
  },
  {
   "cell_type": "code",
   "execution_count": 197,
   "metadata": {},
   "outputs": [
    {
     "data": {
      "text/html": [
       "<div>\n",
       "<style scoped>\n",
       "    .dataframe tbody tr th:only-of-type {\n",
       "        vertical-align: middle;\n",
       "    }\n",
       "\n",
       "    .dataframe tbody tr th {\n",
       "        vertical-align: top;\n",
       "    }\n",
       "\n",
       "    .dataframe thead th {\n",
       "        text-align: right;\n",
       "    }\n",
       "</style>\n",
       "<table border=\"1\" class=\"dataframe\">\n",
       "  <thead>\n",
       "    <tr style=\"text-align: right;\">\n",
       "      <th></th>\n",
       "      <th>a</th>\n",
       "      <th>b</th>\n",
       "      <th>c</th>\n",
       "      <th>d</th>\n",
       "    </tr>\n",
       "  </thead>\n",
       "  <tbody>\n",
       "    <tr>\n",
       "      <th>0</th>\n",
       "      <td>Atlanta</td>\n",
       "      <td>Georgia</td>\n",
       "      <td>1.25</td>\n",
       "      <td>6</td>\n",
       "    </tr>\n",
       "    <tr>\n",
       "      <th>1</th>\n",
       "      <td>Tallahassee</td>\n",
       "      <td>Florida</td>\n",
       "      <td>2.60</td>\n",
       "      <td>3</td>\n",
       "    </tr>\n",
       "    <tr>\n",
       "      <th>2</th>\n",
       "      <td>Sacramento</td>\n",
       "      <td>California</td>\n",
       "      <td>1.70</td>\n",
       "      <td>5</td>\n",
       "    </tr>\n",
       "  </tbody>\n",
       "</table>\n",
       "</div>"
      ],
      "text/plain": [
       "             a           b     c  d\n",
       "0      Atlanta     Georgia  1.25  6\n",
       "1  Tallahassee     Florida  2.60  3\n",
       "2   Sacramento  California  1.70  5"
      ]
     },
     "execution_count": 197,
     "metadata": {},
     "output_type": "execute_result"
    }
   ],
   "source": [
    "pd.read_sql('select * from test', db)"
   ]
  },
  {
   "cell_type": "code",
   "execution_count": null,
   "metadata": {},
   "outputs": [],
   "source": []
  }
 ],
 "metadata": {
  "kernelspec": {
   "display_name": "Python 3",
   "language": "python",
   "name": "python3"
  },
  "language_info": {
   "codemirror_mode": {
    "name": "ipython",
    "version": 3
   },
   "file_extension": ".py",
   "mimetype": "text/x-python",
   "name": "python",
   "nbconvert_exporter": "python",
   "pygments_lexer": "ipython3",
   "version": "3.7.7"
  }
 },
 "nbformat": 4,
 "nbformat_minor": 4
}
